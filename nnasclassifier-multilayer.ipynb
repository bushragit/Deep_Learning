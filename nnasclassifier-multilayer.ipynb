{
 "cells": [
  {
   "cell_type": "markdown",
   "id": "05fe72c6",
   "metadata": {
    "papermill": {
     "duration": 0.007243,
     "end_time": "2025-03-08T11:39:04.203241",
     "exception": false,
     "start_time": "2025-03-08T11:39:04.195998",
     "status": "completed"
    },
    "tags": []
   },
   "source": [
    "## Multilayer NN Architecture"
   ]
  },
  {
   "cell_type": "markdown",
   "id": "e06b858c",
   "metadata": {
    "papermill": {
     "duration": 0.006168,
     "end_time": "2025-03-08T11:39:04.216026",
     "exception": false,
     "start_time": "2025-03-08T11:39:04.209858",
     "status": "completed"
    },
    "tags": []
   },
   "source": [
    "## MNIST Dataset"
   ]
  },
  {
   "cell_type": "code",
   "execution_count": 1,
   "id": "5134018f",
   "metadata": {
    "execution": {
     "iopub.execute_input": "2025-03-08T11:39:04.229889Z",
     "iopub.status.busy": "2025-03-08T11:39:04.229573Z",
     "iopub.status.idle": "2025-03-08T11:39:07.750910Z",
     "shell.execute_reply": "2025-03-08T11:39:07.749681Z"
    },
    "papermill": {
     "duration": 3.530335,
     "end_time": "2025-03-08T11:39:07.752616",
     "exception": false,
     "start_time": "2025-03-08T11:39:04.222281",
     "status": "completed"
    },
    "tags": []
   },
   "outputs": [],
   "source": [
    "import pandas as pd\n",
    "\n",
    "df = pd.read_csv(\"/kaggle/input/digit-recognizer/train.csv\")"
   ]
  },
  {
   "cell_type": "code",
   "execution_count": 2,
   "id": "9768d67b",
   "metadata": {
    "execution": {
     "iopub.execute_input": "2025-03-08T11:39:07.768059Z",
     "iopub.status.busy": "2025-03-08T11:39:07.767771Z",
     "iopub.status.idle": "2025-03-08T11:39:07.787361Z",
     "shell.execute_reply": "2025-03-08T11:39:07.786466Z"
    },
    "papermill": {
     "duration": 0.028496,
     "end_time": "2025-03-08T11:39:07.788802",
     "exception": false,
     "start_time": "2025-03-08T11:39:07.760306",
     "status": "completed"
    },
    "tags": []
   },
   "outputs": [
    {
     "data": {
      "text/html": [
       "<div>\n",
       "<style scoped>\n",
       "    .dataframe tbody tr th:only-of-type {\n",
       "        vertical-align: middle;\n",
       "    }\n",
       "\n",
       "    .dataframe tbody tr th {\n",
       "        vertical-align: top;\n",
       "    }\n",
       "\n",
       "    .dataframe thead th {\n",
       "        text-align: right;\n",
       "    }\n",
       "</style>\n",
       "<table border=\"1\" class=\"dataframe\">\n",
       "  <thead>\n",
       "    <tr style=\"text-align: right;\">\n",
       "      <th></th>\n",
       "      <th>label</th>\n",
       "      <th>pixel0</th>\n",
       "      <th>pixel1</th>\n",
       "      <th>pixel2</th>\n",
       "      <th>pixel3</th>\n",
       "      <th>pixel4</th>\n",
       "      <th>pixel5</th>\n",
       "      <th>pixel6</th>\n",
       "      <th>pixel7</th>\n",
       "      <th>pixel8</th>\n",
       "      <th>...</th>\n",
       "      <th>pixel774</th>\n",
       "      <th>pixel775</th>\n",
       "      <th>pixel776</th>\n",
       "      <th>pixel777</th>\n",
       "      <th>pixel778</th>\n",
       "      <th>pixel779</th>\n",
       "      <th>pixel780</th>\n",
       "      <th>pixel781</th>\n",
       "      <th>pixel782</th>\n",
       "      <th>pixel783</th>\n",
       "    </tr>\n",
       "  </thead>\n",
       "  <tbody>\n",
       "    <tr>\n",
       "      <th>0</th>\n",
       "      <td>1</td>\n",
       "      <td>0</td>\n",
       "      <td>0</td>\n",
       "      <td>0</td>\n",
       "      <td>0</td>\n",
       "      <td>0</td>\n",
       "      <td>0</td>\n",
       "      <td>0</td>\n",
       "      <td>0</td>\n",
       "      <td>0</td>\n",
       "      <td>...</td>\n",
       "      <td>0</td>\n",
       "      <td>0</td>\n",
       "      <td>0</td>\n",
       "      <td>0</td>\n",
       "      <td>0</td>\n",
       "      <td>0</td>\n",
       "      <td>0</td>\n",
       "      <td>0</td>\n",
       "      <td>0</td>\n",
       "      <td>0</td>\n",
       "    </tr>\n",
       "    <tr>\n",
       "      <th>1</th>\n",
       "      <td>0</td>\n",
       "      <td>0</td>\n",
       "      <td>0</td>\n",
       "      <td>0</td>\n",
       "      <td>0</td>\n",
       "      <td>0</td>\n",
       "      <td>0</td>\n",
       "      <td>0</td>\n",
       "      <td>0</td>\n",
       "      <td>0</td>\n",
       "      <td>...</td>\n",
       "      <td>0</td>\n",
       "      <td>0</td>\n",
       "      <td>0</td>\n",
       "      <td>0</td>\n",
       "      <td>0</td>\n",
       "      <td>0</td>\n",
       "      <td>0</td>\n",
       "      <td>0</td>\n",
       "      <td>0</td>\n",
       "      <td>0</td>\n",
       "    </tr>\n",
       "    <tr>\n",
       "      <th>2</th>\n",
       "      <td>1</td>\n",
       "      <td>0</td>\n",
       "      <td>0</td>\n",
       "      <td>0</td>\n",
       "      <td>0</td>\n",
       "      <td>0</td>\n",
       "      <td>0</td>\n",
       "      <td>0</td>\n",
       "      <td>0</td>\n",
       "      <td>0</td>\n",
       "      <td>...</td>\n",
       "      <td>0</td>\n",
       "      <td>0</td>\n",
       "      <td>0</td>\n",
       "      <td>0</td>\n",
       "      <td>0</td>\n",
       "      <td>0</td>\n",
       "      <td>0</td>\n",
       "      <td>0</td>\n",
       "      <td>0</td>\n",
       "      <td>0</td>\n",
       "    </tr>\n",
       "    <tr>\n",
       "      <th>3</th>\n",
       "      <td>4</td>\n",
       "      <td>0</td>\n",
       "      <td>0</td>\n",
       "      <td>0</td>\n",
       "      <td>0</td>\n",
       "      <td>0</td>\n",
       "      <td>0</td>\n",
       "      <td>0</td>\n",
       "      <td>0</td>\n",
       "      <td>0</td>\n",
       "      <td>...</td>\n",
       "      <td>0</td>\n",
       "      <td>0</td>\n",
       "      <td>0</td>\n",
       "      <td>0</td>\n",
       "      <td>0</td>\n",
       "      <td>0</td>\n",
       "      <td>0</td>\n",
       "      <td>0</td>\n",
       "      <td>0</td>\n",
       "      <td>0</td>\n",
       "    </tr>\n",
       "    <tr>\n",
       "      <th>4</th>\n",
       "      <td>0</td>\n",
       "      <td>0</td>\n",
       "      <td>0</td>\n",
       "      <td>0</td>\n",
       "      <td>0</td>\n",
       "      <td>0</td>\n",
       "      <td>0</td>\n",
       "      <td>0</td>\n",
       "      <td>0</td>\n",
       "      <td>0</td>\n",
       "      <td>...</td>\n",
       "      <td>0</td>\n",
       "      <td>0</td>\n",
       "      <td>0</td>\n",
       "      <td>0</td>\n",
       "      <td>0</td>\n",
       "      <td>0</td>\n",
       "      <td>0</td>\n",
       "      <td>0</td>\n",
       "      <td>0</td>\n",
       "      <td>0</td>\n",
       "    </tr>\n",
       "  </tbody>\n",
       "</table>\n",
       "<p>5 rows × 785 columns</p>\n",
       "</div>"
      ],
      "text/plain": [
       "   label  pixel0  pixel1  pixel2  pixel3  pixel4  pixel5  pixel6  pixel7  \\\n",
       "0      1       0       0       0       0       0       0       0       0   \n",
       "1      0       0       0       0       0       0       0       0       0   \n",
       "2      1       0       0       0       0       0       0       0       0   \n",
       "3      4       0       0       0       0       0       0       0       0   \n",
       "4      0       0       0       0       0       0       0       0       0   \n",
       "\n",
       "   pixel8  ...  pixel774  pixel775  pixel776  pixel777  pixel778  pixel779  \\\n",
       "0       0  ...         0         0         0         0         0         0   \n",
       "1       0  ...         0         0         0         0         0         0   \n",
       "2       0  ...         0         0         0         0         0         0   \n",
       "3       0  ...         0         0         0         0         0         0   \n",
       "4       0  ...         0         0         0         0         0         0   \n",
       "\n",
       "   pixel780  pixel781  pixel782  pixel783  \n",
       "0         0         0         0         0  \n",
       "1         0         0         0         0  \n",
       "2         0         0         0         0  \n",
       "3         0         0         0         0  \n",
       "4         0         0         0         0  \n",
       "\n",
       "[5 rows x 785 columns]"
      ]
     },
     "execution_count": 2,
     "metadata": {},
     "output_type": "execute_result"
    }
   ],
   "source": [
    "df.head()"
   ]
  },
  {
   "cell_type": "code",
   "execution_count": 3,
   "id": "cc92b8f0",
   "metadata": {
    "execution": {
     "iopub.execute_input": "2025-03-08T11:39:07.802723Z",
     "iopub.status.busy": "2025-03-08T11:39:07.802471Z",
     "iopub.status.idle": "2025-03-08T11:39:07.892765Z",
     "shell.execute_reply": "2025-03-08T11:39:07.891753Z"
    },
    "papermill": {
     "duration": 0.099046,
     "end_time": "2025-03-08T11:39:07.894672",
     "exception": false,
     "start_time": "2025-03-08T11:39:07.795626",
     "status": "completed"
    },
    "tags": []
   },
   "outputs": [],
   "source": [
    "x = df.drop(\"label\", axis=1)"
   ]
  },
  {
   "cell_type": "code",
   "execution_count": 4,
   "id": "0acaffcf",
   "metadata": {
    "execution": {
     "iopub.execute_input": "2025-03-08T11:39:07.913083Z",
     "iopub.status.busy": "2025-03-08T11:39:07.912780Z",
     "iopub.status.idle": "2025-03-08T11:39:07.916270Z",
     "shell.execute_reply": "2025-03-08T11:39:07.915612Z"
    },
    "papermill": {
     "duration": 0.015612,
     "end_time": "2025-03-08T11:39:07.917609",
     "exception": false,
     "start_time": "2025-03-08T11:39:07.901997",
     "status": "completed"
    },
    "tags": []
   },
   "outputs": [],
   "source": [
    "y = df[\"label\"]"
   ]
  },
  {
   "cell_type": "code",
   "execution_count": 5,
   "id": "b069acc6",
   "metadata": {
    "execution": {
     "iopub.execute_input": "2025-03-08T11:39:07.931298Z",
     "iopub.status.busy": "2025-03-08T11:39:07.931041Z",
     "iopub.status.idle": "2025-03-08T11:39:07.935903Z",
     "shell.execute_reply": "2025-03-08T11:39:07.935016Z"
    },
    "papermill": {
     "duration": 0.0133,
     "end_time": "2025-03-08T11:39:07.937406",
     "exception": false,
     "start_time": "2025-03-08T11:39:07.924106",
     "status": "completed"
    },
    "tags": []
   },
   "outputs": [
    {
     "data": {
      "text/plain": [
       "(42000,)"
      ]
     },
     "execution_count": 5,
     "metadata": {},
     "output_type": "execute_result"
    }
   ],
   "source": [
    "y.shape"
   ]
  },
  {
   "cell_type": "code",
   "execution_count": 6,
   "id": "f415dc0c",
   "metadata": {
    "execution": {
     "iopub.execute_input": "2025-03-08T11:39:07.951171Z",
     "iopub.status.busy": "2025-03-08T11:39:07.950933Z",
     "iopub.status.idle": "2025-03-08T11:39:07.955424Z",
     "shell.execute_reply": "2025-03-08T11:39:07.954621Z"
    },
    "papermill": {
     "duration": 0.012715,
     "end_time": "2025-03-08T11:39:07.956759",
     "exception": false,
     "start_time": "2025-03-08T11:39:07.944044",
     "status": "completed"
    },
    "tags": []
   },
   "outputs": [
    {
     "data": {
      "text/plain": [
       "pandas.core.series.Series"
      ]
     },
     "execution_count": 6,
     "metadata": {},
     "output_type": "execute_result"
    }
   ],
   "source": [
    "type(y)"
   ]
  },
  {
   "cell_type": "code",
   "execution_count": 7,
   "id": "ddcda170",
   "metadata": {
    "execution": {
     "iopub.execute_input": "2025-03-08T11:39:07.971231Z",
     "iopub.status.busy": "2025-03-08T11:39:07.970989Z",
     "iopub.status.idle": "2025-03-08T11:39:07.977050Z",
     "shell.execute_reply": "2025-03-08T11:39:07.976194Z"
    },
    "papermill": {
     "duration": 0.015133,
     "end_time": "2025-03-08T11:39:07.978361",
     "exception": false,
     "start_time": "2025-03-08T11:39:07.963228",
     "status": "completed"
    },
    "tags": []
   },
   "outputs": [
    {
     "data": {
      "text/plain": [
       "pixel0      0\n",
       "pixel1      0\n",
       "pixel2      0\n",
       "pixel3      0\n",
       "pixel4      0\n",
       "           ..\n",
       "pixel779    0\n",
       "pixel780    0\n",
       "pixel781    0\n",
       "pixel782    0\n",
       "pixel783    0\n",
       "Name: 9, Length: 784, dtype: int64"
      ]
     },
     "execution_count": 7,
     "metadata": {},
     "output_type": "execute_result"
    }
   ],
   "source": [
    "x.iloc[9,:]"
   ]
  },
  {
   "cell_type": "code",
   "execution_count": 8,
   "id": "930e8f74",
   "metadata": {
    "execution": {
     "iopub.execute_input": "2025-03-08T11:39:07.993148Z",
     "iopub.status.busy": "2025-03-08T11:39:07.992836Z",
     "iopub.status.idle": "2025-03-08T11:39:07.999181Z",
     "shell.execute_reply": "2025-03-08T11:39:07.998100Z"
    },
    "papermill": {
     "duration": 0.015893,
     "end_time": "2025-03-08T11:39:08.001309",
     "exception": false,
     "start_time": "2025-03-08T11:39:07.985416",
     "status": "completed"
    },
    "tags": []
   },
   "outputs": [
    {
     "name": "stdout",
     "output_type": "stream",
     "text": [
      "(42000, 784)\n",
      "(42000,)\n"
     ]
    }
   ],
   "source": [
    "import numpy as np\n",
    "x = x.values\n",
    "y = y.astype(int).values\n",
    "\n",
    "print(x.shape)\n",
    "print(y.shape)"
   ]
  },
  {
   "cell_type": "code",
   "execution_count": 9,
   "id": "5e0dea46",
   "metadata": {
    "execution": {
     "iopub.execute_input": "2025-03-08T11:39:08.019991Z",
     "iopub.status.busy": "2025-03-08T11:39:08.019700Z",
     "iopub.status.idle": "2025-03-08T11:39:08.026767Z",
     "shell.execute_reply": "2025-03-08T11:39:08.025705Z"
    },
    "papermill": {
     "duration": 0.018294,
     "end_time": "2025-03-08T11:39:08.028818",
     "exception": false,
     "start_time": "2025-03-08T11:39:08.010524",
     "status": "completed"
    },
    "tags": []
   },
   "outputs": [
    {
     "data": {
      "text/plain": [
       "array([  0,   0,   0,   0,   0,   0,   0,   0,   0,   0,   0,   0,   0,\n",
       "         0,   0,   0,   0,   0,   0,   0,   0,   0,   0,   0,   0,   0,\n",
       "         0,   0,   0,   0,   0,   0,   0,   0,   0,   0,   0,   0,   0,\n",
       "         0,   0,   0,   0,   0,   0,   0,   0,   0,   0,   0,   0,   0,\n",
       "         0,   0,   0,   0,   0,   0,   0,   0,   0,   0,   0,   0,   0,\n",
       "         0,   0,   0,   0,   0,   0,   0,   0,   0,   0,   0,   0,   0,\n",
       "         0,   0,   0,   0,   0,   0,   0,   0,   0,   0,   0,   0,   0,\n",
       "         0,   0,   0,   0,   0,   0,   0,   0,   0,   0,   0,   0,   0,\n",
       "         0,   0,   0,   0,   0,   0,   0,   0,   0,   0,   0,   0,   0,\n",
       "         0,   0,   5,  60, 136, 136, 147, 254, 255, 199, 111,  18,   9,\n",
       "         0,   0,   0,   0,   0,   0,   0,   0,   0,   0,   0,   0,   0,\n",
       "         0,   0,   0,  25, 152, 253, 253, 253, 253, 253, 253, 253, 253,\n",
       "       253, 124,   0,   0,   0,   0,   0,   0,   0,   0,   0,   0,   0,\n",
       "         0,   0,   0,   0,   0, 135, 225, 244, 253, 202, 200, 181, 164,\n",
       "       216, 253, 253, 211, 151,   0,   0,   0,   0,   0,   0,   0,   0,\n",
       "         0,   0,   0,   0,   0,   0,   0,   0,  30, 149,  78,   3,   0,\n",
       "         0,   0,  20, 134, 253, 253, 224,   0,   0,   0,   0,   0,   0,\n",
       "         0,   0,   0,   0,   0,   0,   0,   0,   0,   0,   0,   0,   0,\n",
       "         0,   0,   0,   0,  28, 206, 253, 253, 224,   0,   0,   0,   0,\n",
       "         0,   0,   0,   0,   0,   0,   0,   0,   0,   0,   0,   0,   0,\n",
       "         0,   0,   0,   0,   0,   0,  78, 253, 253, 253, 224,   0,   0,\n",
       "         0,   0,   0,   0,   0,   0,   0,   0,   0,   0,   0,   0,   0,\n",
       "         0,   0,   0,   0,   0,   0,   0,   5,  99, 234, 253, 253, 224,\n",
       "         0,   0,   0,   0,   0,   0,   0,   0,   0,   0,   0,   0,   0,\n",
       "         0,   0,   0,   0,   0,   0,   0,  14, 142, 220, 219, 236, 253,\n",
       "       253, 240, 121,   7,   0,   0,   0,   0,   0,   0,   0,   0,   0,\n",
       "         0,   0,   0,   0,   0,   0,   0,   0,   0,  24, 253, 253, 253,\n",
       "       253, 235, 233, 253, 253, 185,  53,   0,   0,   0,   0,   0,   0,\n",
       "         0,   0,   0,   0,   0,   0,   0,   0,   0,   0,   0,   8, 150,\n",
       "       194, 194, 194,  53,  40,  97, 253, 253, 170,   0,   0,   0,   0,\n",
       "         0,   0,   0,   0,   0,   0,   0,   0,   0,   0,   0,   0,   0,\n",
       "         0,   0,   0,   0,   0,   0,   0, 122, 253, 253, 170,   0,   0,\n",
       "         0,   0,   0,   0,   0,   0,   0,   0,   0,   0,   0,   0,   0,\n",
       "         0,   0,   0,   0,   0,   0,   0,   0,  55, 237, 253, 253, 170,\n",
       "         0,   0,   0,   0,   0,   0,   0,   0,   0,   0,   0,   0,   0,\n",
       "         0,   0,   0,   0,   0,   0,   0,   0,   0,   0, 130, 253, 253,\n",
       "       253, 170,   0,   0,   0,   0,   0,   0,   0,   0,   0,   0,   0,\n",
       "         0,   0,   0,   0,   0,   0,   0,   0,   0,   4,  12, 120, 193,\n",
       "       253, 253, 214,  28,   0,   0,   0,   0,   0,   0,   0,   0,   0,\n",
       "         0,   0,   0,   0,   0,   0,   0,   0,   0,   0,   7, 153, 253,\n",
       "       253, 253, 253, 212,  30,   0,   0,   0,   0,   0,   0,   0,   0,\n",
       "         0,   0,   0,   0,   0,  33, 136,  70,   6,   0,  27,  67, 186,\n",
       "       253, 253, 253, 253, 234,  31,   0,   0,   0,   0,   0,   0,   0,\n",
       "         0,   0,   0,   0,   0,   0,  26, 231, 253, 253, 191, 183, 223,\n",
       "       253, 253, 253, 253, 172, 216, 112,   0,   0,   0,   0,   0,   0,\n",
       "         0,   0,   0,   0,   0,   0,   0,   0,  36, 215, 253, 253, 253,\n",
       "       253, 253, 253, 253, 253, 253,  47,  25,   0,   0,   0,   0,   0,\n",
       "         0,   0,   0,   0,   0,   0,   0,   0,   0,   0,   5,  87, 223,\n",
       "       253, 253, 253, 244, 152, 223, 223, 109,   4,   0,   0,   0,   0,\n",
       "         0,   0,   0,   0,   0,   0,   0,   0,   0,   0,   0,   0,   0,\n",
       "        67,  50, 176, 148,  78,  16,   0,  12,  12,   0,   0,   0,   0,\n",
       "         0,   0,   0,   0,   0,   0,   0,   0,   0,   0,   0,   0,   0,\n",
       "         0,   0,   0,   0,   0,   0,   0,   0,   0,   0,   0,   0,   0,\n",
       "         0,   0,   0,   0,   0,   0,   0,   0,   0,   0,   0,   0,   0,\n",
       "         0,   0,   0,   0,   0,   0,   0,   0,   0,   0,   0,   0,   0,\n",
       "         0,   0,   0,   0,   0,   0,   0,   0,   0,   0,   0,   0,   0,\n",
       "         0,   0,   0,   0,   0,   0,   0,   0,   0,   0,   0,   0,   0,\n",
       "         0,   0,   0,   0,   0,   0,   0,   0,   0,   0,   0,   0,   0,\n",
       "         0,   0,   0,   0,   0,   0,   0,   0,   0,   0,   0,   0,   0,\n",
       "         0,   0,   0,   0,   0,   0,   0,   0,   0,   0,   0,   0,   0,\n",
       "         0,   0,   0,   0])"
      ]
     },
     "execution_count": 9,
     "metadata": {},
     "output_type": "execute_result"
    }
   ],
   "source": [
    "x[9]"
   ]
  },
  {
   "cell_type": "code",
   "execution_count": 10,
   "id": "1b22c0a8",
   "metadata": {
    "execution": {
     "iopub.execute_input": "2025-03-08T11:39:08.055148Z",
     "iopub.status.busy": "2025-03-08T11:39:08.054766Z",
     "iopub.status.idle": "2025-03-08T11:39:11.119447Z",
     "shell.execute_reply": "2025-03-08T11:39:11.118644Z"
    },
    "papermill": {
     "duration": 3.079412,
     "end_time": "2025-03-08T11:39:11.121127",
     "exception": false,
     "start_time": "2025-03-08T11:39:08.041715",
     "status": "completed"
    },
    "tags": []
   },
   "outputs": [],
   "source": [
    "import torch"
   ]
  },
  {
   "cell_type": "code",
   "execution_count": 11,
   "id": "acd185ca",
   "metadata": {
    "execution": {
     "iopub.execute_input": "2025-03-08T11:39:11.136803Z",
     "iopub.status.busy": "2025-03-08T11:39:11.136400Z",
     "iopub.status.idle": "2025-03-08T11:39:11.140005Z",
     "shell.execute_reply": "2025-03-08T11:39:11.139388Z"
    },
    "papermill": {
     "duration": 0.012554,
     "end_time": "2025-03-08T11:39:11.141391",
     "exception": false,
     "start_time": "2025-03-08T11:39:11.128837",
     "status": "completed"
    },
    "tags": []
   },
   "outputs": [],
   "source": [
    "device = torch.device(\"cuda\" if torch.cuda.is_available else \"cpu\")"
   ]
  },
  {
   "cell_type": "code",
   "execution_count": 12,
   "id": "4f303555",
   "metadata": {
    "execution": {
     "iopub.execute_input": "2025-03-08T11:39:11.156468Z",
     "iopub.status.busy": "2025-03-08T11:39:11.156175Z",
     "iopub.status.idle": "2025-03-08T11:39:11.160827Z",
     "shell.execute_reply": "2025-03-08T11:39:11.160183Z"
    },
    "papermill": {
     "duration": 0.013585,
     "end_time": "2025-03-08T11:39:11.162176",
     "exception": false,
     "start_time": "2025-03-08T11:39:11.148591",
     "status": "completed"
    },
    "tags": []
   },
   "outputs": [
    {
     "data": {
      "text/plain": [
       "device(type='cuda')"
      ]
     },
     "execution_count": 12,
     "metadata": {},
     "output_type": "execute_result"
    }
   ],
   "source": [
    "device"
   ]
  },
  {
   "cell_type": "code",
   "execution_count": 13,
   "id": "08e27c67",
   "metadata": {
    "execution": {
     "iopub.execute_input": "2025-03-08T11:39:11.176530Z",
     "iopub.status.busy": "2025-03-08T11:39:11.176262Z",
     "iopub.status.idle": "2025-03-08T11:39:11.334179Z",
     "shell.execute_reply": "2025-03-08T11:39:11.333446Z"
    },
    "papermill": {
     "duration": 0.166806,
     "end_time": "2025-03-08T11:39:11.335868",
     "exception": false,
     "start_time": "2025-03-08T11:39:11.169062",
     "status": "completed"
    },
    "tags": []
   },
   "outputs": [],
   "source": [
    "x = ((x/255)-0.5)*2"
   ]
  },
  {
   "cell_type": "code",
   "execution_count": 14,
   "id": "f59b627b",
   "metadata": {
    "execution": {
     "iopub.execute_input": "2025-03-08T11:39:11.351384Z",
     "iopub.status.busy": "2025-03-08T11:39:11.351084Z",
     "iopub.status.idle": "2025-03-08T11:39:12.346609Z",
     "shell.execute_reply": "2025-03-08T11:39:12.345629Z"
    },
    "papermill": {
     "duration": 1.00489,
     "end_time": "2025-03-08T11:39:12.348300",
     "exception": false,
     "start_time": "2025-03-08T11:39:11.343410",
     "status": "completed"
    },
    "tags": []
   },
   "outputs": [
    {
     "data": {
      "image/png": "[encoded data removed]",
      "text/plain": [
       "<Figure size 640x480 with 10 Axes>"
      ]
     },
     "metadata": {},
     "output_type": "display_data"
    }
   ],
   "source": [
    "import matplotlib.pyplot as plt\n",
    "\n",
    "fig, ax = plt.subplots(nrows=2, ncols=5, sharex=True, sharey=True)\n",
    "ax = ax.flatten()\n",
    "for i in range(10):\n",
    "    img = x[y == i][0].reshape(28, 28)\n",
    "    ax[i].imshow(img, cmap='Greys')\n",
    "\n",
    "ax[0].set_xticks([])\n",
    "ax[0].set_yticks([])\n",
    "plt.tight_layout()\n",
    "\n",
    "plt.show()"
   ]
  },
  {
   "cell_type": "code",
   "execution_count": 15,
   "id": "cde6cd00",
   "metadata": {
    "execution": {
     "iopub.execute_input": "2025-03-08T11:39:12.364548Z",
     "iopub.status.busy": "2025-03-08T11:39:12.364255Z",
     "iopub.status.idle": "2025-03-08T11:39:14.531817Z",
     "shell.execute_reply": "2025-03-08T11:39:14.530922Z"
    },
    "papermill": {
     "duration": 2.176917,
     "end_time": "2025-03-08T11:39:14.533422",
     "exception": false,
     "start_time": "2025-03-08T11:39:12.356505",
     "status": "completed"
    },
    "tags": []
   },
   "outputs": [
    {
     "data": {
      "image/png": "[encoded data removed]",
      "text/plain": [
       "<Figure size 640x480 with 25 Axes>"
      ]
     },
     "metadata": {},
     "output_type": "display_data"
    }
   ],
   "source": [
    "import matplotlib.pyplot as plt\n",
    "\n",
    "fig, ax = plt.subplots(nrows=5, ncols=5, sharex=True, sharey=True)\n",
    "ax = ax.flatten()\n",
    "for i in range(25):\n",
    "    img = x[y == 7][i].reshape(28, 28)\n",
    "    ax[i].imshow(img, cmap='Greys')\n",
    "\n",
    "ax[0].set_xticks([])\n",
    "ax[0].set_yticks([])\n",
    "plt.tight_layout()\n",
    "\n",
    "plt.show()"
   ]
  },
  {
   "cell_type": "markdown",
   "id": "a9fe001d",
   "metadata": {
    "papermill": {
     "duration": 0.008023,
     "end_time": "2025-03-08T11:39:14.549899",
     "exception": false,
     "start_time": "2025-03-08T11:39:14.541876",
     "status": "completed"
    },
    "tags": []
   },
   "source": [
    "## split into training, validation and test set"
   ]
  },
  {
   "cell_type": "code",
   "execution_count": 16,
   "id": "29de92c0",
   "metadata": {
    "execution": {
     "iopub.execute_input": "2025-03-08T11:39:14.567429Z",
     "iopub.status.busy": "2025-03-08T11:39:14.567100Z",
     "iopub.status.idle": "2025-03-08T11:39:15.768772Z",
     "shell.execute_reply": "2025-03-08T11:39:15.767707Z"
    },
    "papermill": {
     "duration": 1.212386,
     "end_time": "2025-03-08T11:39:15.770700",
     "exception": false,
     "start_time": "2025-03-08T11:39:14.558314",
     "status": "completed"
    },
    "tags": []
   },
   "outputs": [],
   "source": [
    "from sklearn.model_selection import train_test_split"
   ]
  },
  {
   "cell_type": "markdown",
   "id": "24c1fc32",
   "metadata": {
    "papermill": {
     "duration": 0.008966,
     "end_time": "2025-03-08T11:39:15.789507",
     "exception": false,
     "start_time": "2025-03-08T11:39:15.780541",
     "status": "completed"
    },
    "tags": []
   },
   "source": [
    "## Implementing a multineuron perceptron"
   ]
  },
  {
   "cell_type": "markdown",
   "id": "9dac7c00",
   "metadata": {
    "papermill": {
     "duration": 0.008571,
     "end_time": "2025-03-08T11:39:15.806956",
     "exception": false,
     "start_time": "2025-03-08T11:39:15.798385",
     "status": "completed"
    },
    "tags": []
   },
   "source": [
    "## Training"
   ]
  },
  {
   "cell_type": "code",
   "execution_count": 17,
   "id": "19cc81a8",
   "metadata": {
    "execution": {
     "iopub.execute_input": "2025-03-08T11:39:15.826851Z",
     "iopub.status.busy": "2025-03-08T11:39:15.826204Z",
     "iopub.status.idle": "2025-03-08T11:39:16.266225Z",
     "shell.execute_reply": "2025-03-08T11:39:16.265287Z"
    },
    "papermill": {
     "duration": 0.452237,
     "end_time": "2025-03-08T11:39:16.268007",
     "exception": false,
     "start_time": "2025-03-08T11:39:15.815770",
     "status": "completed"
    },
    "tags": []
   },
   "outputs": [],
   "source": [
    "x_temp, x_test, y_temp, y_test = train_test_split(x,y,test_size=0.2,random_state=42, stratify=y)"
   ]
  },
  {
   "cell_type": "markdown",
   "id": "1af5ce73",
   "metadata": {
    "papermill": {
     "duration": 0.0089,
     "end_time": "2025-03-08T11:39:16.286499",
     "exception": false,
     "start_time": "2025-03-08T11:39:16.277599",
     "status": "completed"
    },
    "tags": []
   },
   "source": [
    "## Validation"
   ]
  },
  {
   "cell_type": "code",
   "execution_count": 18,
   "id": "faf77e35",
   "metadata": {
    "execution": {
     "iopub.execute_input": "2025-03-08T11:39:16.305580Z",
     "iopub.status.busy": "2025-03-08T11:39:16.305168Z",
     "iopub.status.idle": "2025-03-08T11:39:16.390323Z",
     "shell.execute_reply": "2025-03-08T11:39:16.389432Z"
    },
    "papermill": {
     "duration": 0.097319,
     "end_time": "2025-03-08T11:39:16.392773",
     "exception": false,
     "start_time": "2025-03-08T11:39:16.295454",
     "status": "completed"
    },
    "tags": []
   },
   "outputs": [],
   "source": [
    "x_train, x_val, y_train, y_val = train_test_split(x_temp,y_temp, test_size=0.1,random_state=42, stratify=y_temp)"
   ]
  },
  {
   "cell_type": "markdown",
   "id": "c25840f7",
   "metadata": {
    "papermill": {
     "duration": 0.008346,
     "end_time": "2025-03-08T11:39:16.417068",
     "exception": false,
     "start_time": "2025-03-08T11:39:16.408722",
     "status": "completed"
    },
    "tags": []
   },
   "source": [
    "## Testing"
   ]
  },
  {
   "cell_type": "code",
   "execution_count": 19,
   "id": "11894f79",
   "metadata": {
    "execution": {
     "iopub.execute_input": "2025-03-08T11:39:16.435753Z",
     "iopub.status.busy": "2025-03-08T11:39:16.435358Z",
     "iopub.status.idle": "2025-03-08T11:39:16.850094Z",
     "shell.execute_reply": "2025-03-08T11:39:16.849077Z"
    },
    "papermill": {
     "duration": 0.426474,
     "end_time": "2025-03-08T11:39:16.852182",
     "exception": false,
     "start_time": "2025-03-08T11:39:16.425708",
     "status": "completed"
    },
    "tags": []
   },
   "outputs": [],
   "source": [
    "from sklearn.model_selection import train_test_split\n",
    "x_train, x_test, y_train, y_test = train_test_split(\n",
    "    x, y, test_size=0.2, random_state=123, stratify=y)"
   ]
  },
  {
   "cell_type": "code",
   "execution_count": 20,
   "id": "78249a8d",
   "metadata": {
    "execution": {
     "iopub.execute_input": "2025-03-08T11:39:16.875120Z",
     "iopub.status.busy": "2025-03-08T11:39:16.874772Z",
     "iopub.status.idle": "2025-03-08T11:39:16.880979Z",
     "shell.execute_reply": "2025-03-08T11:39:16.879977Z"
    },
    "papermill": {
     "duration": 0.017225,
     "end_time": "2025-03-08T11:39:16.882279",
     "exception": false,
     "start_time": "2025-03-08T11:39:16.865054",
     "status": "completed"
    },
    "tags": []
   },
   "outputs": [
    {
     "name": "stdout",
     "output_type": "stream",
     "text": [
      "x_train shape:(33600, 784)\n",
      "x_test shape:(8400, 784)\n",
      "y_train shape:(33600,)\n",
      "y_test shape:(8400,)\n"
     ]
    }
   ],
   "source": [
    "print(f'x_train shape:{x_train.shape}')\n",
    "print(f'x_test shape:{x_test.shape}')\n",
    "print(f'y_train shape:{y_train.shape}')\n",
    "print(f'y_test shape:{y_test.shape}')"
   ]
  },
  {
   "cell_type": "code",
   "execution_count": 21,
   "id": "0137d347",
   "metadata": {
    "execution": {
     "iopub.execute_input": "2025-03-08T11:39:16.900658Z",
     "iopub.status.busy": "2025-03-08T11:39:16.900281Z",
     "iopub.status.idle": "2025-03-08T11:39:16.905801Z",
     "shell.execute_reply": "2025-03-08T11:39:16.905004Z"
    },
    "papermill": {
     "duration": 0.016239,
     "end_time": "2025-03-08T11:39:16.907186",
     "exception": false,
     "start_time": "2025-03-08T11:39:16.890947",
     "status": "completed"
    },
    "tags": []
   },
   "outputs": [
    {
     "data": {
      "text/plain": [
       "42000"
      ]
     },
     "execution_count": 21,
     "metadata": {},
     "output_type": "execute_result"
    }
   ],
   "source": [
    "y.shape[0]"
   ]
  },
  {
   "cell_type": "code",
   "execution_count": 22,
   "id": "3cd6fea7",
   "metadata": {
    "execution": {
     "iopub.execute_input": "2025-03-08T11:39:16.925676Z",
     "iopub.status.busy": "2025-03-08T11:39:16.925421Z",
     "iopub.status.idle": "2025-03-08T11:39:16.934599Z",
     "shell.execute_reply": "2025-03-08T11:39:16.933766Z"
    },
    "papermill": {
     "duration": 0.019986,
     "end_time": "2025-03-08T11:39:16.936006",
     "exception": false,
     "start_time": "2025-03-08T11:39:16.916020",
     "status": "completed"
    },
    "tags": []
   },
   "outputs": [],
   "source": [
    "##########################\n",
    "### MODEL\n",
    "##########################\n",
    "\n",
    "def sigmoid(z):                                        \n",
    "    return 1. / (1. + np.exp(-z))\n",
    "\n",
    "\n",
    "def int_to_onehot(y, num_labels):\n",
    "\n",
    "    ary = np.zeros((y.shape[0], num_labels))\n",
    "    for i, val in enumerate(y):\n",
    "        ary[i, val] = 1\n",
    "\n",
    "    return ary\n",
    "\n",
    "\n",
    "class NeuralNetMLP:\n",
    "\n",
    "    def __init__(self, num_features, num_hidden, num_classes, random_seed=123):\n",
    "        super().__init__()\n",
    "        \n",
    "        self.num_classes = num_classes\n",
    "        \n",
    "        # hidden\n",
    "        rng = np.random.RandomState(random_seed)\n",
    "        \n",
    "        self.weight_h = rng.normal(\n",
    "            loc=0.0, scale=0.1, size=(num_hidden, num_features))\n",
    "        self.bias_h = np.zeros(num_hidden)\n",
    "        \n",
    "        # output\n",
    "        self.weight_out = rng.normal(\n",
    "            loc=0.0, scale=0.1, size=(num_classes, num_hidden))\n",
    "        self.bias_out = np.zeros(num_classes)\n",
    "        \n",
    "    def forward(self, x):\n",
    "        # Hidden layer\n",
    "        # input dim: [n_examples, n_features] dot [n_hidden, n_features].T\n",
    "        # output dim: [n_examples, n_hidden]\n",
    "        z_h = np.dot(x, self.weight_h.T) + self.bias_h\n",
    "        a_h = sigmoid(z_h)\n",
    "\n",
    "        # Output layer\n",
    "        # input dim: [n_examples, n_hidden] dot [n_classes, n_hidden].T\n",
    "        # output dim: [n_examples, n_classes]\n",
    "        z_out = np.dot(a_h, self.weight_out.T) + self.bias_out\n",
    "        a_out = sigmoid(z_out)\n",
    "        return a_h, a_out\n",
    "\n",
    "    def backward(self, x, a_h, a_out, y):  \n",
    "    \n",
    "        #########################\n",
    "        ### Output layer weights\n",
    "        #########################\n",
    "        \n",
    "        # onehot encoding\n",
    "        y_onehot = int_to_onehot(y, self.num_classes)\n",
    "\n",
    "        # Part 1: dLoss/dOutWeights\n",
    "        ## = dLoss/dOutAct * dOutAct/dOutNet * dOutNet/dOutWeight\n",
    "        ## where DeltaOut = dLoss/dOutAct * dOutAct/dOutNet\n",
    "        ## for convenient re-use\n",
    "        \n",
    "        # input/output dim: [n_examples, n_classes]\n",
    "        d_loss__d_a_out = 2.*(a_out - y_onehot) / y.shape[0]\n",
    "\n",
    "        # input/output dim: [n_examples, n_classes]\n",
    "        d_a_out__d_z_out = a_out * (1. - a_out) # sigmoid derivative\n",
    "\n",
    "        # output dim: [n_examples, n_classes]\n",
    "        delta_out = d_loss__d_a_out * d_a_out__d_z_out # \"delta (rule) placeholder\"\n",
    "\n",
    "        # gradient for output weights\n",
    "        \n",
    "        # [n_examples, n_hidden]\n",
    "        d_z_out__dw_out = a_h\n",
    "        \n",
    "        # input dim: [n_classes, n_examples] dot [n_examples, n_hidden]\n",
    "        # output dim: [n_classes, n_hidden]\n",
    "        d_loss__dw_out = np.dot(delta_out.T, d_z_out__dw_out)\n",
    "        d_loss__db_out = np.sum(delta_out, axis=0)\n",
    "        \n",
    "\n",
    "        #################################        \n",
    "        # Part 2: dLoss/dHiddenWeights\n",
    "        ## = DeltaOut * dOutNet/dHiddenAct * dHiddenAct/dHiddenNet * dHiddenNet/dWeight\n",
    "        \n",
    "        # [n_classes, n_hidden]\n",
    "        d_z_out__a_h = self.weight_out\n",
    "        \n",
    "        # output dim: [n_examples, n_hidden]\n",
    "        d_loss__a_h = np.dot(delta_out, d_z_out__a_h)\n",
    "        \n",
    "        # [n_examples, n_hidden]\n",
    "        d_a_h__d_z_h = a_h * (1. - a_h) # sigmoid derivative\n",
    "        \n",
    "        # [n_examples, n_features]\n",
    "        d_z_h__d_w_h = x\n",
    "        \n",
    "        # output dim: [n_hidden, n_features]\n",
    "        d_loss__d_w_h = np.dot((d_loss__a_h * d_a_h__d_z_h).T, d_z_h__d_w_h)\n",
    "        d_loss__d_b_h = np.sum((d_loss__a_h * d_a_h__d_z_h), axis=0)\n",
    "\n",
    "        return (d_loss__dw_out, d_loss__db_out, \n",
    "                d_loss__d_w_h, d_loss__d_b_h)"
   ]
  },
  {
   "cell_type": "code",
   "execution_count": 23,
   "id": "d27384aa",
   "metadata": {
    "execution": {
     "iopub.execute_input": "2025-03-08T11:39:16.955075Z",
     "iopub.status.busy": "2025-03-08T11:39:16.954844Z",
     "iopub.status.idle": "2025-03-08T11:39:16.960237Z",
     "shell.execute_reply": "2025-03-08T11:39:16.959385Z"
    },
    "papermill": {
     "duration": 0.016461,
     "end_time": "2025-03-08T11:39:16.961701",
     "exception": false,
     "start_time": "2025-03-08T11:39:16.945240",
     "status": "completed"
    },
    "tags": []
   },
   "outputs": [],
   "source": [
    "model = NeuralNetMLP(num_features=28*28*1, num_hidden=50, num_classes=10)"
   ]
  },
  {
   "cell_type": "markdown",
   "id": "adf833a6",
   "metadata": {
    "papermill": {
     "duration": 0.009347,
     "end_time": "2025-03-08T11:39:16.980120",
     "exception": false,
     "start_time": "2025-03-08T11:39:16.970773",
     "status": "completed"
    },
    "tags": []
   },
   "source": [
    "input size = 2 means x= 2\n",
    "ouput size one means one output neuron  \n",
    "and in hidden layer 3 neurons\n",
    "\n",
    "self.w1 = menas  for first layer wt to predict o1 for each hidden layer (3*2) means 3 rows each for each hidden neuron and two columns for both fatures  \n",
    "\n",
    "self.w2 = when hidden layers output move to final output from every layer out multiply by w2 have dimension 3*1 each wt multiply by each o1 and predict output."
   ]
  },
  {
   "cell_type": "code",
   "execution_count": 24,
   "id": "a0ce4c44",
   "metadata": {
    "execution": {
     "iopub.execute_input": "2025-03-08T11:39:17.000005Z",
     "iopub.status.busy": "2025-03-08T11:39:16.999633Z",
     "iopub.status.idle": "2025-03-08T11:39:17.009143Z",
     "shell.execute_reply": "2025-03-08T11:39:17.008117Z"
    },
    "papermill": {
     "duration": 0.021432,
     "end_time": "2025-03-08T11:39:17.010835",
     "exception": false,
     "start_time": "2025-03-08T11:39:16.989403",
     "status": "completed"
    },
    "tags": []
   },
   "outputs": [
    {
     "name": "stdout",
     "output_type": "stream",
     "text": [
      "(100, 784)\n",
      "(100,)\n"
     ]
    }
   ],
   "source": [
    "num_epochs=100\n",
    "minibatch_size=100\n",
    "\n",
    "def minibatch_generator(x,y, minibatch_size):\n",
    "    indices=np.arange(x.shape[0])\n",
    "    np.random.shuffle(indices)\n",
    "\n",
    "    for start_idx in range(0, indices.shape[0]-minibatch_size+1,minibatch_size):\n",
    "        batch_idx=indices[start_idx:start_idx+minibatch_size]\n",
    "\n",
    "        yield x[batch_idx], y[batch_idx]\n",
    "\n",
    "# iterate over training epochs\n",
    "for i in range(num_epochs):\n",
    "\n",
    "    # iterate over minibatches\n",
    "    minibatch_gen = minibatch_generator(\n",
    "        x_train, y_train, minibatch_size)\n",
    "    \n",
    "    for x_train_mini, y_train_mini in minibatch_gen:\n",
    "\n",
    "        break\n",
    "        \n",
    "    break\n",
    "    \n",
    "print(x_train_mini.shape)\n",
    "print(y_train_mini.shape)\n",
    "        "
   ]
  },
  {
   "cell_type": "code",
   "execution_count": 25,
   "id": "1ef6c89d",
   "metadata": {
    "execution": {
     "iopub.execute_input": "2025-03-08T11:39:17.037943Z",
     "iopub.status.busy": "2025-03-08T11:39:17.037557Z",
     "iopub.status.idle": "2025-03-08T11:39:17.044809Z",
     "shell.execute_reply": "2025-03-08T11:39:17.043907Z"
    },
    "papermill": {
     "duration": 0.018824,
     "end_time": "2025-03-08T11:39:17.046292",
     "exception": false,
     "start_time": "2025-03-08T11:39:17.027468",
     "status": "completed"
    },
    "tags": []
   },
   "outputs": [],
   "source": [
    "def compute_mse_and_acc(nnet, x, y, num_labels=10, minibatch_size=100):\n",
    "    mse, correct_pred, num_examples = 0., 0, 0\n",
    "    minibatch_gen = minibatch_generator(x, y, minibatch_size)\n",
    "        \n",
    "    for i, (features, targets) in enumerate(minibatch_gen):\n",
    "\n",
    "        _, probas = nnet.forward(features)\n",
    "        predicted_labels = np.argmax(probas, axis=1)\n",
    "        \n",
    "        onehot_targets = int_to_onehot(targets, num_labels=num_labels)\n",
    "        loss = np.mean((onehot_targets - probas)**2)\n",
    "        correct_pred += (predicted_labels == targets).sum()\n",
    "        \n",
    "        num_examples += targets.shape[0]\n",
    "        mse += loss\n",
    "\n",
    "    mse = mse/(i+1)\n",
    "    acc = correct_pred/num_examples\n",
    "    return mse, acc"
   ]
  },
  {
   "cell_type": "code",
   "execution_count": 26,
   "id": "d103898b",
   "metadata": {
    "execution": {
     "iopub.execute_input": "2025-03-08T11:39:17.064642Z",
     "iopub.status.busy": "2025-03-08T11:39:17.064377Z",
     "iopub.status.idle": "2025-03-08T11:39:17.070354Z",
     "shell.execute_reply": "2025-03-08T11:39:17.069524Z"
    },
    "papermill": {
     "duration": 0.017015,
     "end_time": "2025-03-08T11:39:17.072010",
     "exception": false,
     "start_time": "2025-03-08T11:39:17.054995",
     "status": "completed"
    },
    "tags": []
   },
   "outputs": [],
   "source": [
    "def train(model, x_train, y_train, x_valid, y_valid, num_epochs,\n",
    "          learning_rate=0.1):\n",
    "    \n",
    "    epoch_loss = []\n",
    "    epoch_train_acc = []\n",
    "    epoch_valid_acc = []\n",
    "    \n",
    "    for e in range(num_epochs):\n",
    "\n",
    "        # iterate over minibatches\n",
    "        minibatch_gen = minibatch_generator(\n",
    "            x_train, y_train, minibatch_size)\n",
    "\n",
    "        for x_train_mini, y_train_mini in minibatch_gen:\n",
    "            \n",
    "            #### Compute outputs ####\n",
    "            a_h, a_out = model.forward(x_train_mini)\n",
    "\n",
    "            #### Compute gradients ####\n",
    "            d_loss__d_w_out, d_loss__d_b_out, d_loss__d_w_h, d_loss__d_b_h = \\\n",
    "                model.backward(x_train_mini, a_h, a_out, y_train_mini)\n",
    "\n",
    "            #### Update weights ####\n",
    "            model.weight_h -= learning_rate * d_loss__d_w_h\n",
    "            model.bias_h -= learning_rate * d_loss__d_b_h\n",
    "            model.weight_out -= learning_rate * d_loss__d_w_out\n",
    "            model.bias_out -= learning_rate * d_loss__d_b_out\n",
    "        \n",
    "        #### Epoch Logging ####        \n",
    "        train_mse, train_acc = compute_mse_and_acc(model, x_train, y_train)\n",
    "        valid_mse, valid_acc = compute_mse_and_acc(model, x_valid, y_valid)\n",
    "        train_acc, valid_acc = train_acc*100, valid_acc*100\n",
    "        epoch_train_acc.append(train_acc)\n",
    "        epoch_valid_acc.append(valid_acc)\n",
    "        epoch_loss.append(train_mse)\n",
    "        print(f'Epoch: {e+1:03d}/{num_epochs:03d} '\n",
    "              f'| Train MSE: {train_mse:.2f} '\n",
    "              f'| Train Acc: {train_acc:.2f}% '\n",
    "              f'| Valid Acc: {valid_acc:.2f}%')\n",
    "\n",
    "    return epoch_loss, epoch_train_acc, epoch_valid_acc"
   ]
  },
  {
   "cell_type": "code",
   "execution_count": 27,
   "id": "fea0c5b7",
   "metadata": {
    "execution": {
     "iopub.execute_input": "2025-03-08T11:39:17.097131Z",
     "iopub.status.busy": "2025-03-08T11:39:17.096774Z",
     "iopub.status.idle": "2025-03-08T11:44:12.829595Z",
     "shell.execute_reply": "2025-03-08T11:44:12.826583Z"
    },
    "papermill": {
     "duration": 295.745483,
     "end_time": "2025-03-08T11:44:12.832403",
     "exception": false,
     "start_time": "2025-03-08T11:39:17.086920",
     "status": "completed"
    },
    "tags": []
   },
   "outputs": [
    {
     "name": "stdout",
     "output_type": "stream",
     "text": [
      "Epoch: 001/400 | Train MSE: 0.07 | Train Acc: 67.15% | Valid Acc: 66.94%\n",
      "Epoch: 002/400 | Train MSE: 0.04 | Train Acc: 79.79% | Valid Acc: 79.88%\n",
      "Epoch: 003/400 | Train MSE: 0.03 | Train Acc: 84.85% | Valid Acc: 84.64%\n",
      "Epoch: 004/400 | Train MSE: 0.03 | Train Acc: 86.99% | Valid Acc: 87.13%\n",
      "Epoch: 005/400 | Train MSE: 0.02 | Train Acc: 88.19% | Valid Acc: 88.27%\n",
      "Epoch: 006/400 | Train MSE: 0.02 | Train Acc: 88.93% | Valid Acc: 89.10%\n",
      "Epoch: 007/400 | Train MSE: 0.02 | Train Acc: 89.70% | Valid Acc: 89.68%\n",
      "Epoch: 008/400 | Train MSE: 0.02 | Train Acc: 90.20% | Valid Acc: 90.02%\n",
      "Epoch: 009/400 | Train MSE: 0.02 | Train Acc: 90.52% | Valid Acc: 90.27%\n",
      "Epoch: 010/400 | Train MSE: 0.02 | Train Acc: 90.94% | Valid Acc: 90.73%\n",
      "Epoch: 011/400 | Train MSE: 0.02 | Train Acc: 91.18% | Valid Acc: 90.88%\n",
      "Epoch: 012/400 | Train MSE: 0.02 | Train Acc: 91.51% | Valid Acc: 91.10%\n",
      "Epoch: 013/400 | Train MSE: 0.02 | Train Acc: 91.54% | Valid Acc: 91.27%\n",
      "Epoch: 014/400 | Train MSE: 0.01 | Train Acc: 91.84% | Valid Acc: 91.33%\n",
      "Epoch: 015/400 | Train MSE: 0.01 | Train Acc: 91.94% | Valid Acc: 91.54%\n",
      "Epoch: 016/400 | Train MSE: 0.01 | Train Acc: 92.17% | Valid Acc: 91.65%\n",
      "Epoch: 017/400 | Train MSE: 0.01 | Train Acc: 92.30% | Valid Acc: 91.83%\n",
      "Epoch: 018/400 | Train MSE: 0.01 | Train Acc: 92.28% | Valid Acc: 91.86%\n",
      "Epoch: 019/400 | Train MSE: 0.01 | Train Acc: 92.58% | Valid Acc: 92.13%\n",
      "Epoch: 020/400 | Train MSE: 0.01 | Train Acc: 92.72% | Valid Acc: 92.26%\n",
      "Epoch: 021/400 | Train MSE: 0.01 | Train Acc: 92.67% | Valid Acc: 92.25%\n",
      "Epoch: 022/400 | Train MSE: 0.01 | Train Acc: 92.96% | Valid Acc: 92.40%\n",
      "Epoch: 023/400 | Train MSE: 0.01 | Train Acc: 93.05% | Valid Acc: 92.50%\n",
      "Epoch: 024/400 | Train MSE: 0.01 | Train Acc: 93.20% | Valid Acc: 92.61%\n",
      "Epoch: 025/400 | Train MSE: 0.01 | Train Acc: 93.31% | Valid Acc: 92.68%\n",
      "Epoch: 026/400 | Train MSE: 0.01 | Train Acc: 93.45% | Valid Acc: 92.73%\n",
      "Epoch: 027/400 | Train MSE: 0.01 | Train Acc: 93.37% | Valid Acc: 92.64%\n",
      "Epoch: 028/400 | Train MSE: 0.01 | Train Acc: 93.51% | Valid Acc: 92.85%\n",
      "Epoch: 029/400 | Train MSE: 0.01 | Train Acc: 93.65% | Valid Acc: 92.80%\n",
      "Epoch: 030/400 | Train MSE: 0.01 | Train Acc: 93.70% | Valid Acc: 92.95%\n",
      "Epoch: 031/400 | Train MSE: 0.01 | Train Acc: 93.80% | Valid Acc: 93.00%\n",
      "Epoch: 032/400 | Train MSE: 0.01 | Train Acc: 93.82% | Valid Acc: 93.02%\n",
      "Epoch: 033/400 | Train MSE: 0.01 | Train Acc: 93.95% | Valid Acc: 93.13%\n",
      "Epoch: 034/400 | Train MSE: 0.01 | Train Acc: 94.03% | Valid Acc: 93.20%\n",
      "Epoch: 035/400 | Train MSE: 0.01 | Train Acc: 93.99% | Valid Acc: 93.05%\n",
      "Epoch: 036/400 | Train MSE: 0.01 | Train Acc: 94.13% | Valid Acc: 93.26%\n",
      "Epoch: 037/400 | Train MSE: 0.01 | Train Acc: 94.06% | Valid Acc: 93.24%\n",
      "Epoch: 038/400 | Train MSE: 0.01 | Train Acc: 94.24% | Valid Acc: 93.33%\n",
      "Epoch: 039/400 | Train MSE: 0.01 | Train Acc: 94.30% | Valid Acc: 93.39%\n",
      "Epoch: 040/400 | Train MSE: 0.01 | Train Acc: 94.29% | Valid Acc: 93.42%\n",
      "Epoch: 041/400 | Train MSE: 0.01 | Train Acc: 94.42% | Valid Acc: 93.46%\n",
      "Epoch: 042/400 | Train MSE: 0.01 | Train Acc: 94.45% | Valid Acc: 93.51%\n",
      "Epoch: 043/400 | Train MSE: 0.01 | Train Acc: 94.47% | Valid Acc: 93.46%\n",
      "Epoch: 044/400 | Train MSE: 0.01 | Train Acc: 94.50% | Valid Acc: 93.42%\n",
      "Epoch: 045/400 | Train MSE: 0.01 | Train Acc: 94.62% | Valid Acc: 93.48%\n",
      "Epoch: 046/400 | Train MSE: 0.01 | Train Acc: 94.66% | Valid Acc: 93.70%\n",
      "Epoch: 047/400 | Train MSE: 0.01 | Train Acc: 94.68% | Valid Acc: 93.65%\n",
      "Epoch: 048/400 | Train MSE: 0.01 | Train Acc: 94.78% | Valid Acc: 93.68%\n",
      "Epoch: 049/400 | Train MSE: 0.01 | Train Acc: 94.79% | Valid Acc: 93.73%\n",
      "Epoch: 050/400 | Train MSE: 0.01 | Train Acc: 94.81% | Valid Acc: 93.77%\n",
      "Epoch: 051/400 | Train MSE: 0.01 | Train Acc: 94.86% | Valid Acc: 93.74%\n",
      "Epoch: 052/400 | Train MSE: 0.01 | Train Acc: 94.91% | Valid Acc: 93.77%\n",
      "Epoch: 053/400 | Train MSE: 0.01 | Train Acc: 95.02% | Valid Acc: 93.85%\n",
      "Epoch: 054/400 | Train MSE: 0.01 | Train Acc: 95.02% | Valid Acc: 93.87%\n",
      "Epoch: 055/400 | Train MSE: 0.01 | Train Acc: 95.04% | Valid Acc: 94.08%\n",
      "Epoch: 056/400 | Train MSE: 0.01 | Train Acc: 95.11% | Valid Acc: 93.89%\n",
      "Epoch: 057/400 | Train MSE: 0.01 | Train Acc: 95.18% | Valid Acc: 93.96%\n",
      "Epoch: 058/400 | Train MSE: 0.01 | Train Acc: 95.15% | Valid Acc: 93.93%\n",
      "Epoch: 059/400 | Train MSE: 0.01 | Train Acc: 95.12% | Valid Acc: 94.13%\n",
      "Epoch: 060/400 | Train MSE: 0.01 | Train Acc: 95.24% | Valid Acc: 94.11%\n",
      "Epoch: 061/400 | Train MSE: 0.01 | Train Acc: 95.30% | Valid Acc: 94.15%\n",
      "Epoch: 062/400 | Train MSE: 0.01 | Train Acc: 95.34% | Valid Acc: 94.23%\n",
      "Epoch: 063/400 | Train MSE: 0.01 | Train Acc: 95.39% | Valid Acc: 94.38%\n",
      "Epoch: 064/400 | Train MSE: 0.01 | Train Acc: 95.35% | Valid Acc: 94.04%\n",
      "Epoch: 065/400 | Train MSE: 0.01 | Train Acc: 95.45% | Valid Acc: 94.32%\n",
      "Epoch: 066/400 | Train MSE: 0.01 | Train Acc: 95.34% | Valid Acc: 94.12%\n",
      "Epoch: 067/400 | Train MSE: 0.01 | Train Acc: 95.51% | Valid Acc: 94.38%\n",
      "Epoch: 068/400 | Train MSE: 0.01 | Train Acc: 95.58% | Valid Acc: 94.35%\n",
      "Epoch: 069/400 | Train MSE: 0.01 | Train Acc: 95.55% | Valid Acc: 94.33%\n",
      "Epoch: 070/400 | Train MSE: 0.01 | Train Acc: 95.61% | Valid Acc: 94.40%\n",
      "Epoch: 071/400 | Train MSE: 0.01 | Train Acc: 95.66% | Valid Acc: 94.46%\n",
      "Epoch: 072/400 | Train MSE: 0.01 | Train Acc: 95.64% | Valid Acc: 94.44%\n",
      "Epoch: 073/400 | Train MSE: 0.01 | Train Acc: 95.67% | Valid Acc: 94.54%\n",
      "Epoch: 074/400 | Train MSE: 0.01 | Train Acc: 95.74% | Valid Acc: 94.55%\n",
      "Epoch: 075/400 | Train MSE: 0.01 | Train Acc: 95.74% | Valid Acc: 94.52%\n",
      "Epoch: 076/400 | Train MSE: 0.01 | Train Acc: 95.77% | Valid Acc: 94.67%\n",
      "Epoch: 077/400 | Train MSE: 0.01 | Train Acc: 95.83% | Valid Acc: 94.49%\n",
      "Epoch: 078/400 | Train MSE: 0.01 | Train Acc: 95.76% | Valid Acc: 94.55%\n",
      "Epoch: 079/400 | Train MSE: 0.01 | Train Acc: 95.89% | Valid Acc: 94.57%\n",
      "Epoch: 080/400 | Train MSE: 0.01 | Train Acc: 95.89% | Valid Acc: 94.61%\n",
      "Epoch: 081/400 | Train MSE: 0.01 | Train Acc: 95.87% | Valid Acc: 94.58%\n",
      "Epoch: 082/400 | Train MSE: 0.01 | Train Acc: 95.98% | Valid Acc: 94.64%\n",
      "Epoch: 083/400 | Train MSE: 0.01 | Train Acc: 96.01% | Valid Acc: 94.70%\n",
      "Epoch: 084/400 | Train MSE: 0.01 | Train Acc: 95.97% | Valid Acc: 94.58%\n",
      "Epoch: 085/400 | Train MSE: 0.01 | Train Acc: 96.04% | Valid Acc: 94.58%\n",
      "Epoch: 086/400 | Train MSE: 0.01 | Train Acc: 96.03% | Valid Acc: 94.60%\n",
      "Epoch: 087/400 | Train MSE: 0.01 | Train Acc: 96.06% | Valid Acc: 94.71%\n",
      "Epoch: 088/400 | Train MSE: 0.01 | Train Acc: 96.09% | Valid Acc: 94.83%\n",
      "Epoch: 089/400 | Train MSE: 0.01 | Train Acc: 96.09% | Valid Acc: 94.76%\n",
      "Epoch: 090/400 | Train MSE: 0.01 | Train Acc: 96.08% | Valid Acc: 94.83%\n",
      "Epoch: 091/400 | Train MSE: 0.01 | Train Acc: 96.17% | Valid Acc: 94.90%\n",
      "Epoch: 092/400 | Train MSE: 0.01 | Train Acc: 96.13% | Valid Acc: 94.67%\n",
      "Epoch: 093/400 | Train MSE: 0.01 | Train Acc: 96.19% | Valid Acc: 94.79%\n",
      "Epoch: 094/400 | Train MSE: 0.01 | Train Acc: 96.20% | Valid Acc: 94.83%\n",
      "Epoch: 095/400 | Train MSE: 0.01 | Train Acc: 96.26% | Valid Acc: 94.90%\n",
      "Epoch: 096/400 | Train MSE: 0.01 | Train Acc: 96.26% | Valid Acc: 94.90%\n",
      "Epoch: 097/400 | Train MSE: 0.01 | Train Acc: 96.24% | Valid Acc: 94.79%\n",
      "Epoch: 098/400 | Train MSE: 0.01 | Train Acc: 96.29% | Valid Acc: 94.82%\n",
      "Epoch: 099/400 | Train MSE: 0.01 | Train Acc: 96.31% | Valid Acc: 94.87%\n",
      "Epoch: 100/400 | Train MSE: 0.01 | Train Acc: 96.36% | Valid Acc: 94.83%\n",
      "Epoch: 101/400 | Train MSE: 0.01 | Train Acc: 96.32% | Valid Acc: 94.94%\n",
      "Epoch: 102/400 | Train MSE: 0.01 | Train Acc: 96.35% | Valid Acc: 94.86%\n",
      "Epoch: 103/400 | Train MSE: 0.01 | Train Acc: 96.38% | Valid Acc: 94.83%\n",
      "Epoch: 104/400 | Train MSE: 0.01 | Train Acc: 96.45% | Valid Acc: 94.95%\n",
      "Epoch: 105/400 | Train MSE: 0.01 | Train Acc: 96.43% | Valid Acc: 94.86%\n",
      "Epoch: 106/400 | Train MSE: 0.01 | Train Acc: 96.44% | Valid Acc: 94.87%\n",
      "Epoch: 107/400 | Train MSE: 0.01 | Train Acc: 96.42% | Valid Acc: 94.95%\n",
      "Epoch: 108/400 | Train MSE: 0.01 | Train Acc: 96.54% | Valid Acc: 95.04%\n",
      "Epoch: 109/400 | Train MSE: 0.01 | Train Acc: 96.48% | Valid Acc: 94.98%\n",
      "Epoch: 110/400 | Train MSE: 0.01 | Train Acc: 96.58% | Valid Acc: 95.04%\n",
      "Epoch: 111/400 | Train MSE: 0.01 | Train Acc: 96.56% | Valid Acc: 95.07%\n",
      "Epoch: 112/400 | Train MSE: 0.01 | Train Acc: 96.56% | Valid Acc: 95.06%\n",
      "Epoch: 113/400 | Train MSE: 0.01 | Train Acc: 96.53% | Valid Acc: 95.05%\n",
      "Epoch: 114/400 | Train MSE: 0.01 | Train Acc: 96.60% | Valid Acc: 95.01%\n",
      "Epoch: 115/400 | Train MSE: 0.01 | Train Acc: 96.62% | Valid Acc: 95.01%\n",
      "Epoch: 116/400 | Train MSE: 0.01 | Train Acc: 96.64% | Valid Acc: 94.94%\n",
      "Epoch: 117/400 | Train MSE: 0.01 | Train Acc: 96.68% | Valid Acc: 95.15%\n",
      "Epoch: 118/400 | Train MSE: 0.01 | Train Acc: 96.65% | Valid Acc: 95.01%\n",
      "Epoch: 119/400 | Train MSE: 0.01 | Train Acc: 96.68% | Valid Acc: 95.08%\n",
      "Epoch: 120/400 | Train MSE: 0.01 | Train Acc: 96.70% | Valid Acc: 95.14%\n",
      "Epoch: 121/400 | Train MSE: 0.01 | Train Acc: 96.72% | Valid Acc: 95.11%\n",
      "Epoch: 122/400 | Train MSE: 0.01 | Train Acc: 96.76% | Valid Acc: 95.05%\n",
      "Epoch: 123/400 | Train MSE: 0.01 | Train Acc: 96.79% | Valid Acc: 95.12%\n",
      "Epoch: 124/400 | Train MSE: 0.01 | Train Acc: 96.75% | Valid Acc: 94.99%\n",
      "Epoch: 125/400 | Train MSE: 0.01 | Train Acc: 96.82% | Valid Acc: 95.17%\n",
      "Epoch: 126/400 | Train MSE: 0.01 | Train Acc: 96.83% | Valid Acc: 95.08%\n",
      "Epoch: 127/400 | Train MSE: 0.01 | Train Acc: 96.82% | Valid Acc: 95.04%\n",
      "Epoch: 128/400 | Train MSE: 0.01 | Train Acc: 96.83% | Valid Acc: 95.18%\n",
      "Epoch: 129/400 | Train MSE: 0.01 | Train Acc: 96.89% | Valid Acc: 95.26%\n",
      "Epoch: 130/400 | Train MSE: 0.01 | Train Acc: 96.85% | Valid Acc: 95.05%\n",
      "Epoch: 131/400 | Train MSE: 0.01 | Train Acc: 96.92% | Valid Acc: 95.25%\n",
      "Epoch: 132/400 | Train MSE: 0.01 | Train Acc: 96.90% | Valid Acc: 95.21%\n",
      "Epoch: 133/400 | Train MSE: 0.01 | Train Acc: 96.94% | Valid Acc: 95.18%\n",
      "Epoch: 134/400 | Train MSE: 0.01 | Train Acc: 96.95% | Valid Acc: 95.17%\n",
      "Epoch: 135/400 | Train MSE: 0.01 | Train Acc: 96.95% | Valid Acc: 95.14%\n",
      "Epoch: 136/400 | Train MSE: 0.01 | Train Acc: 96.98% | Valid Acc: 95.21%\n",
      "Epoch: 137/400 | Train MSE: 0.01 | Train Acc: 96.96% | Valid Acc: 95.27%\n",
      "Epoch: 138/400 | Train MSE: 0.01 | Train Acc: 96.99% | Valid Acc: 95.27%\n",
      "Epoch: 139/400 | Train MSE: 0.01 | Train Acc: 96.99% | Valid Acc: 95.06%\n",
      "Epoch: 140/400 | Train MSE: 0.01 | Train Acc: 97.05% | Valid Acc: 95.35%\n",
      "Epoch: 141/400 | Train MSE: 0.01 | Train Acc: 97.04% | Valid Acc: 95.27%\n",
      "Epoch: 142/400 | Train MSE: 0.01 | Train Acc: 97.09% | Valid Acc: 95.27%\n",
      "Epoch: 143/400 | Train MSE: 0.01 | Train Acc: 97.02% | Valid Acc: 95.21%\n",
      "Epoch: 144/400 | Train MSE: 0.01 | Train Acc: 97.11% | Valid Acc: 95.30%\n",
      "Epoch: 145/400 | Train MSE: 0.01 | Train Acc: 97.09% | Valid Acc: 95.27%\n",
      "Epoch: 146/400 | Train MSE: 0.01 | Train Acc: 97.12% | Valid Acc: 95.29%\n",
      "Epoch: 147/400 | Train MSE: 0.01 | Train Acc: 97.13% | Valid Acc: 95.36%\n",
      "Epoch: 148/400 | Train MSE: 0.01 | Train Acc: 97.16% | Valid Acc: 95.38%\n",
      "Epoch: 149/400 | Train MSE: 0.01 | Train Acc: 97.18% | Valid Acc: 95.39%\n",
      "Epoch: 150/400 | Train MSE: 0.01 | Train Acc: 97.15% | Valid Acc: 95.39%\n",
      "Epoch: 151/400 | Train MSE: 0.01 | Train Acc: 97.22% | Valid Acc: 95.31%\n",
      "Epoch: 152/400 | Train MSE: 0.01 | Train Acc: 97.18% | Valid Acc: 95.38%\n",
      "Epoch: 153/400 | Train MSE: 0.01 | Train Acc: 97.21% | Valid Acc: 95.38%\n",
      "Epoch: 154/400 | Train MSE: 0.01 | Train Acc: 97.20% | Valid Acc: 95.43%\n",
      "Epoch: 155/400 | Train MSE: 0.01 | Train Acc: 97.25% | Valid Acc: 95.33%\n",
      "Epoch: 156/400 | Train MSE: 0.01 | Train Acc: 97.29% | Valid Acc: 95.35%\n",
      "Epoch: 157/400 | Train MSE: 0.01 | Train Acc: 97.29% | Valid Acc: 95.37%\n",
      "Epoch: 158/400 | Train MSE: 0.01 | Train Acc: 97.29% | Valid Acc: 95.43%\n",
      "Epoch: 159/400 | Train MSE: 0.01 | Train Acc: 97.26% | Valid Acc: 95.52%\n",
      "Epoch: 160/400 | Train MSE: 0.01 | Train Acc: 97.31% | Valid Acc: 95.45%\n",
      "Epoch: 161/400 | Train MSE: 0.01 | Train Acc: 97.26% | Valid Acc: 95.58%\n",
      "Epoch: 162/400 | Train MSE: 0.01 | Train Acc: 97.28% | Valid Acc: 95.45%\n",
      "Epoch: 163/400 | Train MSE: 0.01 | Train Acc: 97.36% | Valid Acc: 95.49%\n",
      "Epoch: 164/400 | Train MSE: 0.01 | Train Acc: 97.35% | Valid Acc: 95.48%\n",
      "Epoch: 165/400 | Train MSE: 0.01 | Train Acc: 97.35% | Valid Acc: 95.49%\n",
      "Epoch: 166/400 | Train MSE: 0.01 | Train Acc: 97.40% | Valid Acc: 95.46%\n",
      "Epoch: 167/400 | Train MSE: 0.01 | Train Acc: 97.39% | Valid Acc: 95.60%\n",
      "Epoch: 168/400 | Train MSE: 0.01 | Train Acc: 97.38% | Valid Acc: 95.55%\n",
      "Epoch: 169/400 | Train MSE: 0.01 | Train Acc: 97.40% | Valid Acc: 95.56%\n",
      "Epoch: 170/400 | Train MSE: 0.01 | Train Acc: 97.40% | Valid Acc: 95.49%\n",
      "Epoch: 171/400 | Train MSE: 0.01 | Train Acc: 97.47% | Valid Acc: 95.56%\n",
      "Epoch: 172/400 | Train MSE: 0.01 | Train Acc: 97.46% | Valid Acc: 95.54%\n",
      "Epoch: 173/400 | Train MSE: 0.01 | Train Acc: 97.49% | Valid Acc: 95.52%\n",
      "Epoch: 174/400 | Train MSE: 0.01 | Train Acc: 97.43% | Valid Acc: 95.49%\n",
      "Epoch: 175/400 | Train MSE: 0.01 | Train Acc: 97.50% | Valid Acc: 95.50%\n",
      "Epoch: 176/400 | Train MSE: 0.00 | Train Acc: 97.49% | Valid Acc: 95.58%\n",
      "Epoch: 177/400 | Train MSE: 0.00 | Train Acc: 97.52% | Valid Acc: 95.56%\n",
      "Epoch: 178/400 | Train MSE: 0.00 | Train Acc: 97.51% | Valid Acc: 95.57%\n",
      "Epoch: 179/400 | Train MSE: 0.00 | Train Acc: 97.54% | Valid Acc: 95.67%\n",
      "Epoch: 180/400 | Train MSE: 0.00 | Train Acc: 97.54% | Valid Acc: 95.69%\n",
      "Epoch: 181/400 | Train MSE: 0.00 | Train Acc: 97.56% | Valid Acc: 95.61%\n",
      "Epoch: 182/400 | Train MSE: 0.00 | Train Acc: 97.54% | Valid Acc: 95.64%\n",
      "Epoch: 183/400 | Train MSE: 0.00 | Train Acc: 97.58% | Valid Acc: 95.68%\n",
      "Epoch: 184/400 | Train MSE: 0.00 | Train Acc: 97.57% | Valid Acc: 95.63%\n",
      "Epoch: 185/400 | Train MSE: 0.00 | Train Acc: 97.57% | Valid Acc: 95.64%\n",
      "Epoch: 186/400 | Train MSE: 0.00 | Train Acc: 97.60% | Valid Acc: 95.67%\n",
      "Epoch: 187/400 | Train MSE: 0.00 | Train Acc: 97.55% | Valid Acc: 95.68%\n",
      "Epoch: 188/400 | Train MSE: 0.00 | Train Acc: 97.64% | Valid Acc: 95.60%\n",
      "Epoch: 189/400 | Train MSE: 0.00 | Train Acc: 97.66% | Valid Acc: 95.63%\n",
      "Epoch: 190/400 | Train MSE: 0.00 | Train Acc: 97.59% | Valid Acc: 95.60%\n",
      "Epoch: 191/400 | Train MSE: 0.00 | Train Acc: 97.61% | Valid Acc: 95.65%\n",
      "Epoch: 192/400 | Train MSE: 0.00 | Train Acc: 97.68% | Valid Acc: 95.69%\n",
      "Epoch: 193/400 | Train MSE: 0.00 | Train Acc: 97.66% | Valid Acc: 95.64%\n",
      "Epoch: 194/400 | Train MSE: 0.00 | Train Acc: 97.69% | Valid Acc: 95.68%\n",
      "Epoch: 195/400 | Train MSE: 0.00 | Train Acc: 97.69% | Valid Acc: 95.69%\n",
      "Epoch: 196/400 | Train MSE: 0.00 | Train Acc: 97.68% | Valid Acc: 95.71%\n",
      "Epoch: 197/400 | Train MSE: 0.00 | Train Acc: 97.69% | Valid Acc: 95.56%\n",
      "Epoch: 198/400 | Train MSE: 0.00 | Train Acc: 97.73% | Valid Acc: 95.67%\n",
      "Epoch: 199/400 | Train MSE: 0.00 | Train Acc: 97.75% | Valid Acc: 95.65%\n",
      "Epoch: 200/400 | Train MSE: 0.00 | Train Acc: 97.74% | Valid Acc: 95.64%\n",
      "Epoch: 201/400 | Train MSE: 0.00 | Train Acc: 97.76% | Valid Acc: 95.63%\n",
      "Epoch: 202/400 | Train MSE: 0.00 | Train Acc: 97.76% | Valid Acc: 95.61%\n",
      "Epoch: 203/400 | Train MSE: 0.00 | Train Acc: 97.76% | Valid Acc: 95.64%\n",
      "Epoch: 204/400 | Train MSE: 0.00 | Train Acc: 97.79% | Valid Acc: 95.64%\n",
      "Epoch: 205/400 | Train MSE: 0.00 | Train Acc: 97.81% | Valid Acc: 95.68%\n",
      "Epoch: 206/400 | Train MSE: 0.00 | Train Acc: 97.83% | Valid Acc: 95.69%\n",
      "Epoch: 207/400 | Train MSE: 0.00 | Train Acc: 97.77% | Valid Acc: 95.70%\n",
      "Epoch: 208/400 | Train MSE: 0.00 | Train Acc: 97.77% | Valid Acc: 95.63%\n",
      "Epoch: 209/400 | Train MSE: 0.00 | Train Acc: 97.81% | Valid Acc: 95.71%\n",
      "Epoch: 210/400 | Train MSE: 0.00 | Train Acc: 97.87% | Valid Acc: 95.74%\n",
      "Epoch: 211/400 | Train MSE: 0.00 | Train Acc: 97.85% | Valid Acc: 95.63%\n",
      "Epoch: 212/400 | Train MSE: 0.00 | Train Acc: 97.85% | Valid Acc: 95.73%\n",
      "Epoch: 213/400 | Train MSE: 0.00 | Train Acc: 97.85% | Valid Acc: 95.67%\n",
      "Epoch: 214/400 | Train MSE: 0.00 | Train Acc: 97.85% | Valid Acc: 95.79%\n",
      "Epoch: 215/400 | Train MSE: 0.00 | Train Acc: 97.84% | Valid Acc: 95.67%\n",
      "Epoch: 216/400 | Train MSE: 0.00 | Train Acc: 97.87% | Valid Acc: 95.76%\n",
      "Epoch: 217/400 | Train MSE: 0.00 | Train Acc: 97.92% | Valid Acc: 95.70%\n",
      "Epoch: 218/400 | Train MSE: 0.00 | Train Acc: 97.87% | Valid Acc: 95.77%\n",
      "Epoch: 219/400 | Train MSE: 0.00 | Train Acc: 97.89% | Valid Acc: 95.81%\n",
      "Epoch: 220/400 | Train MSE: 0.00 | Train Acc: 97.91% | Valid Acc: 95.73%\n",
      "Epoch: 221/400 | Train MSE: 0.00 | Train Acc: 97.87% | Valid Acc: 95.75%\n",
      "Epoch: 222/400 | Train MSE: 0.00 | Train Acc: 97.92% | Valid Acc: 95.75%\n",
      "Epoch: 223/400 | Train MSE: 0.00 | Train Acc: 97.90% | Valid Acc: 95.74%\n",
      "Epoch: 224/400 | Train MSE: 0.00 | Train Acc: 97.93% | Valid Acc: 95.77%\n",
      "Epoch: 225/400 | Train MSE: 0.00 | Train Acc: 97.95% | Valid Acc: 95.79%\n",
      "Epoch: 226/400 | Train MSE: 0.00 | Train Acc: 97.93% | Valid Acc: 95.69%\n",
      "Epoch: 227/400 | Train MSE: 0.00 | Train Acc: 97.93% | Valid Acc: 95.65%\n",
      "Epoch: 228/400 | Train MSE: 0.00 | Train Acc: 97.95% | Valid Acc: 95.69%\n",
      "Epoch: 229/400 | Train MSE: 0.00 | Train Acc: 97.96% | Valid Acc: 95.76%\n",
      "Epoch: 230/400 | Train MSE: 0.00 | Train Acc: 97.99% | Valid Acc: 95.77%\n",
      "Epoch: 231/400 | Train MSE: 0.00 | Train Acc: 97.97% | Valid Acc: 95.74%\n",
      "Epoch: 232/400 | Train MSE: 0.00 | Train Acc: 97.97% | Valid Acc: 95.75%\n",
      "Epoch: 233/400 | Train MSE: 0.00 | Train Acc: 97.98% | Valid Acc: 95.85%\n",
      "Epoch: 234/400 | Train MSE: 0.00 | Train Acc: 97.99% | Valid Acc: 95.77%\n",
      "Epoch: 235/400 | Train MSE: 0.00 | Train Acc: 97.99% | Valid Acc: 95.83%\n",
      "Epoch: 236/400 | Train MSE: 0.00 | Train Acc: 98.01% | Valid Acc: 95.83%\n",
      "Epoch: 237/400 | Train MSE: 0.00 | Train Acc: 98.00% | Valid Acc: 95.85%\n",
      "Epoch: 238/400 | Train MSE: 0.00 | Train Acc: 98.03% | Valid Acc: 95.75%\n",
      "Epoch: 239/400 | Train MSE: 0.00 | Train Acc: 98.02% | Valid Acc: 95.79%\n",
      "Epoch: 240/400 | Train MSE: 0.00 | Train Acc: 98.02% | Valid Acc: 95.71%\n",
      "Epoch: 241/400 | Train MSE: 0.00 | Train Acc: 98.04% | Valid Acc: 95.86%\n",
      "Epoch: 242/400 | Train MSE: 0.00 | Train Acc: 98.03% | Valid Acc: 95.85%\n",
      "Epoch: 243/400 | Train MSE: 0.00 | Train Acc: 98.05% | Valid Acc: 95.75%\n",
      "Epoch: 244/400 | Train MSE: 0.00 | Train Acc: 98.05% | Valid Acc: 95.83%\n",
      "Epoch: 245/400 | Train MSE: 0.00 | Train Acc: 98.04% | Valid Acc: 95.82%\n",
      "Epoch: 246/400 | Train MSE: 0.00 | Train Acc: 98.09% | Valid Acc: 95.81%\n",
      "Epoch: 247/400 | Train MSE: 0.00 | Train Acc: 98.06% | Valid Acc: 95.80%\n",
      "Epoch: 248/400 | Train MSE: 0.00 | Train Acc: 98.09% | Valid Acc: 95.82%\n",
      "Epoch: 249/400 | Train MSE: 0.00 | Train Acc: 98.08% | Valid Acc: 95.83%\n",
      "Epoch: 250/400 | Train MSE: 0.00 | Train Acc: 98.10% | Valid Acc: 95.88%\n",
      "Epoch: 251/400 | Train MSE: 0.00 | Train Acc: 98.10% | Valid Acc: 95.79%\n",
      "Epoch: 252/400 | Train MSE: 0.00 | Train Acc: 98.10% | Valid Acc: 95.86%\n",
      "Epoch: 253/400 | Train MSE: 0.00 | Train Acc: 98.09% | Valid Acc: 95.76%\n",
      "Epoch: 254/400 | Train MSE: 0.00 | Train Acc: 98.10% | Valid Acc: 95.86%\n",
      "Epoch: 255/400 | Train MSE: 0.00 | Train Acc: 98.11% | Valid Acc: 95.82%\n",
      "Epoch: 256/400 | Train MSE: 0.00 | Train Acc: 98.15% | Valid Acc: 95.88%\n",
      "Epoch: 257/400 | Train MSE: 0.00 | Train Acc: 98.14% | Valid Acc: 95.85%\n",
      "Epoch: 258/400 | Train MSE: 0.00 | Train Acc: 98.12% | Valid Acc: 95.76%\n",
      "Epoch: 259/400 | Train MSE: 0.00 | Train Acc: 98.13% | Valid Acc: 95.83%\n",
      "Epoch: 260/400 | Train MSE: 0.00 | Train Acc: 98.17% | Valid Acc: 95.87%\n",
      "Epoch: 261/400 | Train MSE: 0.00 | Train Acc: 98.15% | Valid Acc: 95.82%\n",
      "Epoch: 262/400 | Train MSE: 0.00 | Train Acc: 98.16% | Valid Acc: 95.82%\n",
      "Epoch: 263/400 | Train MSE: 0.00 | Train Acc: 98.19% | Valid Acc: 95.92%\n",
      "Epoch: 264/400 | Train MSE: 0.00 | Train Acc: 98.19% | Valid Acc: 95.87%\n",
      "Epoch: 265/400 | Train MSE: 0.00 | Train Acc: 98.19% | Valid Acc: 95.88%\n",
      "Epoch: 266/400 | Train MSE: 0.00 | Train Acc: 98.20% | Valid Acc: 95.83%\n",
      "Epoch: 267/400 | Train MSE: 0.00 | Train Acc: 98.20% | Valid Acc: 95.88%\n",
      "Epoch: 268/400 | Train MSE: 0.00 | Train Acc: 98.21% | Valid Acc: 95.92%\n",
      "Epoch: 269/400 | Train MSE: 0.00 | Train Acc: 98.22% | Valid Acc: 95.89%\n",
      "Epoch: 270/400 | Train MSE: 0.00 | Train Acc: 98.20% | Valid Acc: 95.88%\n",
      "Epoch: 271/400 | Train MSE: 0.00 | Train Acc: 98.21% | Valid Acc: 95.86%\n",
      "Epoch: 272/400 | Train MSE: 0.00 | Train Acc: 98.20% | Valid Acc: 95.92%\n",
      "Epoch: 273/400 | Train MSE: 0.00 | Train Acc: 98.23% | Valid Acc: 95.95%\n",
      "Epoch: 274/400 | Train MSE: 0.00 | Train Acc: 98.23% | Valid Acc: 95.82%\n",
      "Epoch: 275/400 | Train MSE: 0.00 | Train Acc: 98.27% | Valid Acc: 95.86%\n",
      "Epoch: 276/400 | Train MSE: 0.00 | Train Acc: 98.26% | Valid Acc: 95.85%\n",
      "Epoch: 277/400 | Train MSE: 0.00 | Train Acc: 98.24% | Valid Acc: 95.87%\n",
      "Epoch: 278/400 | Train MSE: 0.00 | Train Acc: 98.24% | Valid Acc: 95.83%\n",
      "Epoch: 279/400 | Train MSE: 0.00 | Train Acc: 98.24% | Valid Acc: 95.88%\n",
      "Epoch: 280/400 | Train MSE: 0.00 | Train Acc: 98.27% | Valid Acc: 95.87%\n",
      "Epoch: 281/400 | Train MSE: 0.00 | Train Acc: 98.26% | Valid Acc: 95.89%\n",
      "Epoch: 282/400 | Train MSE: 0.00 | Train Acc: 98.26% | Valid Acc: 95.94%\n",
      "Epoch: 283/400 | Train MSE: 0.00 | Train Acc: 98.29% | Valid Acc: 95.93%\n",
      "Epoch: 284/400 | Train MSE: 0.00 | Train Acc: 98.26% | Valid Acc: 95.92%\n",
      "Epoch: 285/400 | Train MSE: 0.00 | Train Acc: 98.29% | Valid Acc: 95.89%\n",
      "Epoch: 286/400 | Train MSE: 0.00 | Train Acc: 98.28% | Valid Acc: 95.81%\n",
      "Epoch: 287/400 | Train MSE: 0.00 | Train Acc: 98.30% | Valid Acc: 95.86%\n",
      "Epoch: 288/400 | Train MSE: 0.00 | Train Acc: 98.28% | Valid Acc: 95.88%\n",
      "Epoch: 289/400 | Train MSE: 0.00 | Train Acc: 98.31% | Valid Acc: 95.93%\n",
      "Epoch: 290/400 | Train MSE: 0.00 | Train Acc: 98.30% | Valid Acc: 95.86%\n",
      "Epoch: 291/400 | Train MSE: 0.00 | Train Acc: 98.30% | Valid Acc: 95.90%\n",
      "Epoch: 292/400 | Train MSE: 0.00 | Train Acc: 98.33% | Valid Acc: 95.94%\n",
      "Epoch: 293/400 | Train MSE: 0.00 | Train Acc: 98.29% | Valid Acc: 95.90%\n",
      "Epoch: 294/400 | Train MSE: 0.00 | Train Acc: 98.30% | Valid Acc: 95.87%\n",
      "Epoch: 295/400 | Train MSE: 0.00 | Train Acc: 98.32% | Valid Acc: 95.92%\n",
      "Epoch: 296/400 | Train MSE: 0.00 | Train Acc: 98.32% | Valid Acc: 95.83%\n",
      "Epoch: 297/400 | Train MSE: 0.00 | Train Acc: 98.32% | Valid Acc: 95.94%\n",
      "Epoch: 298/400 | Train MSE: 0.00 | Train Acc: 98.33% | Valid Acc: 95.85%\n",
      "Epoch: 299/400 | Train MSE: 0.00 | Train Acc: 98.34% | Valid Acc: 95.93%\n",
      "Epoch: 300/400 | Train MSE: 0.00 | Train Acc: 98.34% | Valid Acc: 95.90%\n",
      "Epoch: 301/400 | Train MSE: 0.00 | Train Acc: 98.36% | Valid Acc: 95.94%\n",
      "Epoch: 302/400 | Train MSE: 0.00 | Train Acc: 98.32% | Valid Acc: 95.87%\n",
      "Epoch: 303/400 | Train MSE: 0.00 | Train Acc: 98.35% | Valid Acc: 95.94%\n",
      "Epoch: 304/400 | Train MSE: 0.00 | Train Acc: 98.36% | Valid Acc: 95.87%\n",
      "Epoch: 305/400 | Train MSE: 0.00 | Train Acc: 98.38% | Valid Acc: 95.94%\n",
      "Epoch: 306/400 | Train MSE: 0.00 | Train Acc: 98.35% | Valid Acc: 95.90%\n",
      "Epoch: 307/400 | Train MSE: 0.00 | Train Acc: 98.37% | Valid Acc: 95.96%\n",
      "Epoch: 308/400 | Train MSE: 0.00 | Train Acc: 98.37% | Valid Acc: 95.89%\n",
      "Epoch: 309/400 | Train MSE: 0.00 | Train Acc: 98.37% | Valid Acc: 95.87%\n",
      "Epoch: 310/400 | Train MSE: 0.00 | Train Acc: 98.37% | Valid Acc: 95.87%\n",
      "Epoch: 311/400 | Train MSE: 0.00 | Train Acc: 98.38% | Valid Acc: 95.94%\n",
      "Epoch: 312/400 | Train MSE: 0.00 | Train Acc: 98.39% | Valid Acc: 95.94%\n",
      "Epoch: 313/400 | Train MSE: 0.00 | Train Acc: 98.40% | Valid Acc: 95.89%\n",
      "Epoch: 314/400 | Train MSE: 0.00 | Train Acc: 98.41% | Valid Acc: 95.89%\n",
      "Epoch: 315/400 | Train MSE: 0.00 | Train Acc: 98.41% | Valid Acc: 95.88%\n",
      "Epoch: 316/400 | Train MSE: 0.00 | Train Acc: 98.41% | Valid Acc: 95.87%\n",
      "Epoch: 317/400 | Train MSE: 0.00 | Train Acc: 98.41% | Valid Acc: 95.82%\n",
      "Epoch: 318/400 | Train MSE: 0.00 | Train Acc: 98.43% | Valid Acc: 95.89%\n",
      "Epoch: 319/400 | Train MSE: 0.00 | Train Acc: 98.41% | Valid Acc: 95.88%\n",
      "Epoch: 320/400 | Train MSE: 0.00 | Train Acc: 98.42% | Valid Acc: 95.89%\n",
      "Epoch: 321/400 | Train MSE: 0.00 | Train Acc: 98.43% | Valid Acc: 95.86%\n",
      "Epoch: 322/400 | Train MSE: 0.00 | Train Acc: 98.42% | Valid Acc: 95.95%\n",
      "Epoch: 323/400 | Train MSE: 0.00 | Train Acc: 98.42% | Valid Acc: 95.87%\n",
      "Epoch: 324/400 | Train MSE: 0.00 | Train Acc: 98.40% | Valid Acc: 95.92%\n",
      "Epoch: 325/400 | Train MSE: 0.00 | Train Acc: 98.44% | Valid Acc: 95.95%\n",
      "Epoch: 326/400 | Train MSE: 0.00 | Train Acc: 98.44% | Valid Acc: 95.86%\n",
      "Epoch: 327/400 | Train MSE: 0.00 | Train Acc: 98.45% | Valid Acc: 95.94%\n",
      "Epoch: 328/400 | Train MSE: 0.00 | Train Acc: 98.44% | Valid Acc: 95.86%\n",
      "Epoch: 329/400 | Train MSE: 0.00 | Train Acc: 98.44% | Valid Acc: 95.90%\n",
      "Epoch: 330/400 | Train MSE: 0.00 | Train Acc: 98.47% | Valid Acc: 95.90%\n",
      "Epoch: 331/400 | Train MSE: 0.00 | Train Acc: 98.44% | Valid Acc: 95.87%\n",
      "Epoch: 332/400 | Train MSE: 0.00 | Train Acc: 98.46% | Valid Acc: 95.89%\n",
      "Epoch: 333/400 | Train MSE: 0.00 | Train Acc: 98.48% | Valid Acc: 95.94%\n",
      "Epoch: 334/400 | Train MSE: 0.00 | Train Acc: 98.46% | Valid Acc: 95.86%\n",
      "Epoch: 335/400 | Train MSE: 0.00 | Train Acc: 98.46% | Valid Acc: 95.94%\n",
      "Epoch: 336/400 | Train MSE: 0.00 | Train Acc: 98.46% | Valid Acc: 95.96%\n",
      "Epoch: 337/400 | Train MSE: 0.00 | Train Acc: 98.48% | Valid Acc: 95.85%\n",
      "Epoch: 338/400 | Train MSE: 0.00 | Train Acc: 98.49% | Valid Acc: 95.89%\n",
      "Epoch: 339/400 | Train MSE: 0.00 | Train Acc: 98.50% | Valid Acc: 95.88%\n",
      "Epoch: 340/400 | Train MSE: 0.00 | Train Acc: 98.49% | Valid Acc: 95.88%\n",
      "Epoch: 341/400 | Train MSE: 0.00 | Train Acc: 98.49% | Valid Acc: 95.94%\n",
      "Epoch: 342/400 | Train MSE: 0.00 | Train Acc: 98.50% | Valid Acc: 95.89%\n",
      "Epoch: 343/400 | Train MSE: 0.00 | Train Acc: 98.50% | Valid Acc: 95.88%\n",
      "Epoch: 344/400 | Train MSE: 0.00 | Train Acc: 98.50% | Valid Acc: 95.93%\n",
      "Epoch: 345/400 | Train MSE: 0.00 | Train Acc: 98.49% | Valid Acc: 95.82%\n",
      "Epoch: 346/400 | Train MSE: 0.00 | Train Acc: 98.51% | Valid Acc: 95.88%\n",
      "Epoch: 347/400 | Train MSE: 0.00 | Train Acc: 98.51% | Valid Acc: 95.89%\n",
      "Epoch: 348/400 | Train MSE: 0.00 | Train Acc: 98.51% | Valid Acc: 95.94%\n",
      "Epoch: 349/400 | Train MSE: 0.00 | Train Acc: 98.49% | Valid Acc: 95.90%\n",
      "Epoch: 350/400 | Train MSE: 0.00 | Train Acc: 98.50% | Valid Acc: 95.96%\n",
      "Epoch: 351/400 | Train MSE: 0.00 | Train Acc: 98.53% | Valid Acc: 95.95%\n",
      "Epoch: 352/400 | Train MSE: 0.00 | Train Acc: 98.52% | Valid Acc: 95.87%\n",
      "Epoch: 353/400 | Train MSE: 0.00 | Train Acc: 98.52% | Valid Acc: 95.94%\n",
      "Epoch: 354/400 | Train MSE: 0.00 | Train Acc: 98.53% | Valid Acc: 95.95%\n",
      "Epoch: 355/400 | Train MSE: 0.00 | Train Acc: 98.52% | Valid Acc: 95.98%\n",
      "Epoch: 356/400 | Train MSE: 0.00 | Train Acc: 98.53% | Valid Acc: 95.93%\n",
      "Epoch: 357/400 | Train MSE: 0.00 | Train Acc: 98.52% | Valid Acc: 95.89%\n",
      "Epoch: 358/400 | Train MSE: 0.00 | Train Acc: 98.51% | Valid Acc: 95.90%\n",
      "Epoch: 359/400 | Train MSE: 0.00 | Train Acc: 98.52% | Valid Acc: 95.93%\n",
      "Epoch: 360/400 | Train MSE: 0.00 | Train Acc: 98.53% | Valid Acc: 95.92%\n",
      "Epoch: 361/400 | Train MSE: 0.00 | Train Acc: 98.55% | Valid Acc: 95.90%\n",
      "Epoch: 362/400 | Train MSE: 0.00 | Train Acc: 98.54% | Valid Acc: 95.88%\n",
      "Epoch: 363/400 | Train MSE: 0.00 | Train Acc: 98.54% | Valid Acc: 95.89%\n",
      "Epoch: 364/400 | Train MSE: 0.00 | Train Acc: 98.56% | Valid Acc: 95.98%\n",
      "Epoch: 365/400 | Train MSE: 0.00 | Train Acc: 98.55% | Valid Acc: 95.94%\n",
      "Epoch: 366/400 | Train MSE: 0.00 | Train Acc: 98.54% | Valid Acc: 95.96%\n",
      "Epoch: 367/400 | Train MSE: 0.00 | Train Acc: 98.55% | Valid Acc: 95.95%\n",
      "Epoch: 368/400 | Train MSE: 0.00 | Train Acc: 98.54% | Valid Acc: 96.06%\n",
      "Epoch: 369/400 | Train MSE: 0.00 | Train Acc: 98.53% | Valid Acc: 95.95%\n",
      "Epoch: 370/400 | Train MSE: 0.00 | Train Acc: 98.54% | Valid Acc: 95.94%\n",
      "Epoch: 371/400 | Train MSE: 0.00 | Train Acc: 98.55% | Valid Acc: 96.02%\n",
      "Epoch: 372/400 | Train MSE: 0.00 | Train Acc: 98.54% | Valid Acc: 95.96%\n",
      "Epoch: 373/400 | Train MSE: 0.00 | Train Acc: 98.57% | Valid Acc: 95.96%\n",
      "Epoch: 374/400 | Train MSE: 0.00 | Train Acc: 98.56% | Valid Acc: 95.92%\n",
      "Epoch: 375/400 | Train MSE: 0.00 | Train Acc: 98.55% | Valid Acc: 95.94%\n",
      "Epoch: 376/400 | Train MSE: 0.00 | Train Acc: 98.56% | Valid Acc: 95.90%\n",
      "Epoch: 377/400 | Train MSE: 0.00 | Train Acc: 98.57% | Valid Acc: 95.98%\n",
      "Epoch: 378/400 | Train MSE: 0.00 | Train Acc: 98.57% | Valid Acc: 95.94%\n",
      "Epoch: 379/400 | Train MSE: 0.00 | Train Acc: 98.56% | Valid Acc: 95.94%\n",
      "Epoch: 380/400 | Train MSE: 0.00 | Train Acc: 98.58% | Valid Acc: 95.94%\n",
      "Epoch: 381/400 | Train MSE: 0.00 | Train Acc: 98.57% | Valid Acc: 95.99%\n",
      "Epoch: 382/400 | Train MSE: 0.00 | Train Acc: 98.58% | Valid Acc: 95.94%\n",
      "Epoch: 383/400 | Train MSE: 0.00 | Train Acc: 98.57% | Valid Acc: 95.95%\n",
      "Epoch: 384/400 | Train MSE: 0.00 | Train Acc: 98.57% | Valid Acc: 96.02%\n",
      "Epoch: 385/400 | Train MSE: 0.00 | Train Acc: 98.59% | Valid Acc: 95.92%\n",
      "Epoch: 386/400 | Train MSE: 0.00 | Train Acc: 98.58% | Valid Acc: 95.96%\n",
      "Epoch: 387/400 | Train MSE: 0.00 | Train Acc: 98.59% | Valid Acc: 95.92%\n",
      "Epoch: 388/400 | Train MSE: 0.00 | Train Acc: 98.59% | Valid Acc: 96.04%\n",
      "Epoch: 389/400 | Train MSE: 0.00 | Train Acc: 98.59% | Valid Acc: 95.93%\n",
      "Epoch: 390/400 | Train MSE: 0.00 | Train Acc: 98.60% | Valid Acc: 96.02%\n",
      "Epoch: 391/400 | Train MSE: 0.00 | Train Acc: 98.60% | Valid Acc: 95.98%\n",
      "Epoch: 392/400 | Train MSE: 0.00 | Train Acc: 98.60% | Valid Acc: 96.04%\n",
      "Epoch: 393/400 | Train MSE: 0.00 | Train Acc: 98.60% | Valid Acc: 95.93%\n",
      "Epoch: 394/400 | Train MSE: 0.00 | Train Acc: 98.61% | Valid Acc: 96.05%\n",
      "Epoch: 395/400 | Train MSE: 0.00 | Train Acc: 98.61% | Valid Acc: 95.98%\n",
      "Epoch: 396/400 | Train MSE: 0.00 | Train Acc: 98.60% | Valid Acc: 95.95%\n",
      "Epoch: 397/400 | Train MSE: 0.00 | Train Acc: 98.62% | Valid Acc: 95.98%\n",
      "Epoch: 398/400 | Train MSE: 0.00 | Train Acc: 98.61% | Valid Acc: 95.98%\n",
      "Epoch: 399/400 | Train MSE: 0.00 | Train Acc: 98.61% | Valid Acc: 96.02%\n",
      "Epoch: 400/400 | Train MSE: 0.00 | Train Acc: 98.62% | Valid Acc: 95.98%\n"
     ]
    }
   ],
   "source": [
    "np.random.seed(123) # for the training set shuffling\n",
    "\n",
    "epoch_loss, epoch_train_acc, epoch_valid_acc = train(\n",
    "    model, x_train, y_train, x_test, y_test,\n",
    "    num_epochs=400, learning_rate=0.1)"
   ]
  },
  {
   "cell_type": "code",
   "execution_count": 28,
   "id": "77c957ee",
   "metadata": {
    "execution": {
     "iopub.execute_input": "2025-03-08T11:44:12.971566Z",
     "iopub.status.busy": "2025-03-08T11:44:12.971222Z",
     "iopub.status.idle": "2025-03-08T11:44:13.215318Z",
     "shell.execute_reply": "2025-03-08T11:44:13.214424Z"
    },
    "papermill": {
     "duration": 0.302126,
     "end_time": "2025-03-08T11:44:13.216956",
     "exception": false,
     "start_time": "2025-03-08T11:44:12.914830",
     "status": "completed"
    },
    "tags": []
   },
   "outputs": [
    {
     "data": {
      "image/png": "[encoded data removed]",
      "text/plain": [
       "<Figure size 640x480 with 1 Axes>"
      ]
     },
     "metadata": {},
     "output_type": "display_data"
    }
   ],
   "source": [
    "plt.plot(range(len(epoch_loss)), epoch_loss)\n",
    "plt.ylabel('Mean squared error')\n",
    "plt.xlabel('Epoch')\n",
    "#plt.savefig('figures/11_07.png', dpi=300)\n",
    "plt.show()"
   ]
  },
  {
   "cell_type": "code",
   "execution_count": 29,
   "id": "719dec6d",
   "metadata": {
    "execution": {
     "iopub.execute_input": "2025-03-08T11:44:13.273149Z",
     "iopub.status.busy": "2025-03-08T11:44:13.272896Z",
     "iopub.status.idle": "2025-03-08T11:44:13.521179Z",
     "shell.execute_reply": "2025-03-08T11:44:13.520262Z"
    },
    "papermill": {
     "duration": 0.277093,
     "end_time": "2025-03-08T11:44:13.522660",
     "exception": false,
     "start_time": "2025-03-08T11:44:13.245567",
     "status": "completed"
    },
    "tags": []
   },
   "outputs": [
    {
     "data": {
      "image/png": "[encoded data removed]",
      "text/plain": [
       "<Figure size 640x480 with 1 Axes>"
      ]
     },
     "metadata": {},
     "output_type": "display_data"
    }
   ],
   "source": [
    "plt.plot(range(len(epoch_train_acc)), epoch_train_acc,\n",
    "         label='Training')\n",
    "plt.plot(range(len(epoch_valid_acc)), epoch_valid_acc,\n",
    "         label='Validation')\n",
    "plt.ylabel('Accuracy')\n",
    "plt.xlabel('Epochs')\n",
    "plt.legend(loc='lower right')\n",
    "#plt.savefig('figures/11_08.png', dpi=300)\n",
    "plt.show()"
   ]
  },
  {
   "cell_type": "code",
   "execution_count": 30,
   "id": "617f2876",
   "metadata": {
    "execution": {
     "iopub.execute_input": "2025-03-08T11:44:13.576920Z",
     "iopub.status.busy": "2025-03-08T11:44:13.576685Z",
     "iopub.status.idle": "2025-03-08T11:44:13.640181Z",
     "shell.execute_reply": "2025-03-08T11:44:13.639158Z"
    },
    "papermill": {
     "duration": 0.092909,
     "end_time": "2025-03-08T11:44:13.642197",
     "exception": false,
     "start_time": "2025-03-08T11:44:13.549288",
     "status": "completed"
    },
    "tags": []
   },
   "outputs": [
    {
     "name": "stdout",
     "output_type": "stream",
     "text": [
      "Test accuracy: 95.98%\n"
     ]
    }
   ],
   "source": [
    "test_mse, test_acc = compute_mse_and_acc(model, x_test, y_test)\n",
    "print(f'Test accuracy: {test_acc*100:.2f}%')"
   ]
  },
  {
   "cell_type": "code",
   "execution_count": 31,
   "id": "9a20678b",
   "metadata": {
    "execution": {
     "iopub.execute_input": "2025-03-08T11:44:13.783656Z",
     "iopub.status.busy": "2025-03-08T11:44:13.783328Z",
     "iopub.status.idle": "2025-03-08T11:44:15.521681Z",
     "shell.execute_reply": "2025-03-08T11:44:15.520698Z"
    },
    "papermill": {
     "duration": 1.799952,
     "end_time": "2025-03-08T11:44:15.523111",
     "exception": false,
     "start_time": "2025-03-08T11:44:13.723159",
     "status": "completed"
    },
    "tags": []
   },
   "outputs": [
    {
     "data": {
      "image/png": "[encoded data removed]",
      "text/plain": [
       "<Figure size 800x800 with 25 Axes>"
      ]
     },
     "metadata": {},
     "output_type": "display_data"
    }
   ],
   "source": [
    "x_test_subset = x_test[:1000, :]\n",
    "y_test_subset = y_test[:1000]\n",
    "\n",
    "_, probas = model.forward(x_test_subset)\n",
    "test_pred = np.argmax(probas, axis=1)\n",
    "\n",
    "misclassified_images = x_test_subset[y_test_subset != test_pred][:25]\n",
    "misclassified_labels = test_pred[y_test_subset != test_pred][:25]\n",
    "correct_labels = y_test_subset[y_test_subset != test_pred][:25]\n",
    "fig, ax = plt.subplots(nrows=5, ncols=5, \n",
    "                       sharex=True, sharey=True, figsize=(8, 8))\n",
    "ax = ax.flatten()\n",
    "for i in range(25):\n",
    "    img = misclassified_images[i].reshape(28, 28, 1)\n",
    "    ax[i].imshow(img, cmap='Greys', interpolation='nearest')\n",
    "    ax[i].set_title(f'{i+1}) '\n",
    "                    f'True: {correct_labels[i]}\\n'\n",
    "                    f' Predicted: {misclassified_labels[i]}')\n",
    "\n",
    "ax[0].set_xticks([])\n",
    "ax[0].set_yticks([])\n",
    "plt.tight_layout()\n",
    "#plt.savefig('figures/11_09.png', dpi=300)\n",
    "plt.show()"
   ]
  }
 ],
 "metadata": {
  "kaggle": {
   "accelerator": "gpu",
   "dataSources": [
    {
     "databundleVersionId": 861823,
     "sourceId": 3004,
     "sourceType": "competition"
    },
    {
     "sourceId": 1313369,
     "sourceType": "kernelVersion"
    }
   ],
   "dockerImageVersionId": 30823,
   "isGpuEnabled": true,
   "isInternetEnabled": true,
   "language": "python",
   "sourceType": "notebook"
  },
  "kernelspec": {
   "display_name": "Python 3",
   "language": "python",
   "name": "python3"
  },
  "language_info": {
   "codemirror_mode": {
    "name": "ipython",
    "version": 3
   },
   "file_extension": ".py",
   "mimetype": "text/x-python",
   "name": "python",
   "nbconvert_exporter": "python",
   "pygments_lexer": "ipython3",
   "version": "3.10.12"
  },
  "papermill": {
   "default_parameters": {},
   "duration": 315.110075,
   "end_time": "2025-03-08T11:44:16.874588",
   "environment_variables": {},
   "exception": null,
   "input_path": "__notebook__.ipynb",
   "output_path": "__notebook__.ipynb",
   "parameters": {},
   "start_time": "2025-03-08T11:39:01.764513",
   "version": "2.6.0"
  }
 },
 "nbformat": 4,
 "nbformat_minor": 5
}
