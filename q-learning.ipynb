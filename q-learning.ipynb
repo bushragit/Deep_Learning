{
 "cells": [
  {
   "cell_type": "markdown",
   "id": "964fc87b",
   "metadata": {
    "papermill": {
     "duration": 0.009627,
     "end_time": "2025-01-28T08:00:01.455498",
     "exception": false,
     "start_time": "2025-01-28T08:00:01.445871",
     "status": "completed"
    },
    "tags": []
   },
   "source": [
    "## Qlearning \n",
    "it is model free.  \n",
    "it is off policy means learn from hit and trial  \n",
    "use bellman equation"
   ]
  },
  {
   "cell_type": "code",
   "execution_count": 1,
   "id": "c3e36bea",
   "metadata": {
    "execution": {
     "iopub.execute_input": "2025-01-28T08:00:01.472341Z",
     "iopub.status.busy": "2025-01-28T08:00:01.472005Z",
     "iopub.status.idle": "2025-01-28T08:00:02.119033Z",
     "shell.execute_reply": "2025-01-28T08:00:02.117894Z"
    },
    "papermill": {
     "duration": 0.657948,
     "end_time": "2025-01-28T08:00:02.121281",
     "exception": false,
     "start_time": "2025-01-28T08:00:01.463333",
     "status": "completed"
    },
    "tags": []
   },
   "outputs": [],
   "source": [
    "import numpy as np\n",
    "import os\n",
    "import gym\n",
    "import random"
   ]
  },
  {
   "cell_type": "code",
   "execution_count": 2,
   "id": "7355b2d5",
   "metadata": {
    "execution": {
     "iopub.execute_input": "2025-01-28T08:00:02.139820Z",
     "iopub.status.busy": "2025-01-28T08:00:02.139406Z",
     "iopub.status.idle": "2025-01-28T08:00:02.170863Z",
     "shell.execute_reply": "2025-01-28T08:00:02.169560Z"
    },
    "papermill": {
     "duration": 0.043073,
     "end_time": "2025-01-28T08:00:02.172847",
     "exception": false,
     "start_time": "2025-01-28T08:00:02.129774",
     "status": "completed"
    },
    "tags": []
   },
   "outputs": [
    {
     "name": "stderr",
     "output_type": "stream",
     "text": [
      "/usr/local/lib/python3.10/dist-packages/ipykernel/ipkernel.py:283: DeprecationWarning: `should_run_async` will not call `transform_cell` automatically in the future. Please pass the result to `transformed_cell` argument and any exception that happen during thetransform in `preprocessing_exc_tuple` in IPython 7.17 and above.\n",
      "  and should_run_async(code)\n",
      "/usr/local/lib/python3.10/dist-packages/gym/core.py:317: DeprecationWarning: \u001b[33mWARN: Initializing wrapper in old step API which returns one bool instead of two. It is recommended to set `new_step_api=True` to use new step API. This will be the default behaviour in future.\u001b[0m\n",
      "  deprecation(\n",
      "/usr/local/lib/python3.10/dist-packages/gym/wrappers/step_api_compatibility.py:39: DeprecationWarning: \u001b[33mWARN: Initializing environment in old step API which returns one bool instead of two. It is recommended to set `new_step_api=True` to use new step API. This will be the default behaviour in future.\u001b[0m\n",
      "  deprecation(\n"
     ]
    }
   ],
   "source": [
    "env = gym.make(\"FrozenLake-v1\",map_name=\"4x4\", is_slippery=False)"
   ]
  },
  {
   "cell_type": "code",
   "execution_count": 3,
   "id": "f23bbd3e",
   "metadata": {
    "execution": {
     "iopub.execute_input": "2025-01-28T08:00:02.190406Z",
     "iopub.status.busy": "2025-01-28T08:00:02.189989Z",
     "iopub.status.idle": "2025-01-28T08:00:02.199571Z",
     "shell.execute_reply": "2025-01-28T08:00:02.198376Z"
    },
    "papermill": {
     "duration": 0.02052,
     "end_time": "2025-01-28T08:00:02.201439",
     "exception": false,
     "start_time": "2025-01-28T08:00:02.180919",
     "status": "completed"
    },
    "tags": []
   },
   "outputs": [
    {
     "data": {
      "text/plain": [
       "0"
      ]
     },
     "execution_count": 3,
     "metadata": {},
     "output_type": "execute_result"
    }
   ],
   "source": [
    "env.reset()"
   ]
  },
  {
   "cell_type": "code",
   "execution_count": 4,
   "id": "6eda81c9",
   "metadata": {
    "execution": {
     "iopub.execute_input": "2025-01-28T08:00:02.219826Z",
     "iopub.status.busy": "2025-01-28T08:00:02.219404Z",
     "iopub.status.idle": "2025-01-28T08:00:02.226811Z",
     "shell.execute_reply": "2025-01-28T08:00:02.225761Z"
    },
    "papermill": {
     "duration": 0.018781,
     "end_time": "2025-01-28T08:00:02.228686",
     "exception": false,
     "start_time": "2025-01-28T08:00:02.209905",
     "status": "completed"
    },
    "tags": []
   },
   "outputs": [
    {
     "name": "stdout",
     "output_type": "stream",
     "text": [
      "\n",
      "---Action Space____\n",
      "\n",
      "Action space shape: 4\n",
      "Action space sample: 2\n"
     ]
    }
   ],
   "source": [
    "#possible actions in this case are 4\n",
    "print(\"\\n---Action Space____\\n\")\n",
    "print(\"Action space shape:\",env.action_space.n)\n",
    "print('Action space sample:',env.action_space.sample()) #take a random action)"
   ]
  },
  {
   "cell_type": "markdown",
   "id": "f7f7fbb3",
   "metadata": {
    "papermill": {
     "duration": 0.007782,
     "end_time": "2025-01-28T08:00:02.244994",
     "exception": false,
     "start_time": "2025-01-28T08:00:02.237212",
     "status": "completed"
    },
    "tags": []
   },
   "source": [
    "The action space (the set of possible actions the agent can take) is discrete with 4 actions available 🎮:\n",
    "\n",
    "0. GO LEFT  \n",
    "1. GO DOWN  \n",
    "2. GO RIGHT\n",
    "3. GO UP"
   ]
  },
  {
   "cell_type": "markdown",
   "id": "f1389df3",
   "metadata": {
    "papermill": {
     "duration": 0.007793,
     "end_time": "2025-01-28T08:00:02.260778",
     "exception": false,
     "start_time": "2025-01-28T08:00:02.252985",
     "status": "completed"
    },
    "tags": []
   },
   "source": [
    "## create and initialize the Q table"
   ]
  },
  {
   "cell_type": "code",
   "execution_count": 5,
   "id": "9e9ff71e",
   "metadata": {
    "execution": {
     "iopub.execute_input": "2025-01-28T08:00:02.278205Z",
     "iopub.status.busy": "2025-01-28T08:00:02.277820Z",
     "iopub.status.idle": "2025-01-28T08:00:02.284513Z",
     "shell.execute_reply": "2025-01-28T08:00:02.283346Z"
    },
    "papermill": {
     "duration": 0.017412,
     "end_time": "2025-01-28T08:00:02.286186",
     "exception": false,
     "start_time": "2025-01-28T08:00:02.268774",
     "status": "completed"
    },
    "tags": []
   },
   "outputs": [
    {
     "name": "stdout",
     "output_type": "stream",
     "text": [
      "There are  16  possible states\n",
      "There are  4  possible actions\n"
     ]
    }
   ],
   "source": [
    "state_space = env.observation_space.n\n",
    "action_space = env.action_space.n\n",
    "print(\"There are \", state_space, \" possible states\") #locations where it can move\n",
    "print(\"There are \", action_space, \" possible actions\")#how it move above,below,left,right"
   ]
  },
  {
   "cell_type": "code",
   "execution_count": 6,
   "id": "30e4be6b",
   "metadata": {
    "execution": {
     "iopub.execute_input": "2025-01-28T08:00:02.303976Z",
     "iopub.status.busy": "2025-01-28T08:00:02.303566Z",
     "iopub.status.idle": "2025-01-28T08:00:02.308118Z",
     "shell.execute_reply": "2025-01-28T08:00:02.306971Z"
    },
    "papermill": {
     "duration": 0.015505,
     "end_time": "2025-01-28T08:00:02.309989",
     "exception": false,
     "start_time": "2025-01-28T08:00:02.294484",
     "status": "completed"
    },
    "tags": []
   },
   "outputs": [],
   "source": [
    "#states in no of rows and actions in no of columns\n",
    "def initialize_Q_table(state_space,action_space):\n",
    "    Qtable=np.zeros((state_space,action_space))\n",
    "    return Qtable"
   ]
  },
  {
   "cell_type": "code",
   "execution_count": 7,
   "id": "7c83e47f",
   "metadata": {
    "execution": {
     "iopub.execute_input": "2025-01-28T08:00:02.328769Z",
     "iopub.status.busy": "2025-01-28T08:00:02.328236Z",
     "iopub.status.idle": "2025-01-28T08:00:02.332865Z",
     "shell.execute_reply": "2025-01-28T08:00:02.331671Z"
    },
    "papermill": {
     "duration": 0.015999,
     "end_time": "2025-01-28T08:00:02.334475",
     "exception": false,
     "start_time": "2025-01-28T08:00:02.318476",
     "status": "completed"
    },
    "tags": []
   },
   "outputs": [],
   "source": [
    "Qtable_froznlake = initialize_Q_table(state_space,action_space)"
   ]
  },
  {
   "cell_type": "code",
   "execution_count": 8,
   "id": "ca286cc8",
   "metadata": {
    "execution": {
     "iopub.execute_input": "2025-01-28T08:00:02.352449Z",
     "iopub.status.busy": "2025-01-28T08:00:02.352028Z",
     "iopub.status.idle": "2025-01-28T08:00:02.358912Z",
     "shell.execute_reply": "2025-01-28T08:00:02.357810Z"
    },
    "papermill": {
     "duration": 0.017806,
     "end_time": "2025-01-28T08:00:02.360671",
     "exception": false,
     "start_time": "2025-01-28T08:00:02.342865",
     "status": "completed"
    },
    "tags": []
   },
   "outputs": [
    {
     "data": {
      "text/plain": [
       "array([[0., 0., 0., 0.],\n",
       "       [0., 0., 0., 0.],\n",
       "       [0., 0., 0., 0.],\n",
       "       [0., 0., 0., 0.],\n",
       "       [0., 0., 0., 0.],\n",
       "       [0., 0., 0., 0.],\n",
       "       [0., 0., 0., 0.],\n",
       "       [0., 0., 0., 0.],\n",
       "       [0., 0., 0., 0.],\n",
       "       [0., 0., 0., 0.],\n",
       "       [0., 0., 0., 0.],\n",
       "       [0., 0., 0., 0.],\n",
       "       [0., 0., 0., 0.],\n",
       "       [0., 0., 0., 0.],\n",
       "       [0., 0., 0., 0.],\n",
       "       [0., 0., 0., 0.]])"
      ]
     },
     "execution_count": 8,
     "metadata": {},
     "output_type": "execute_result"
    }
   ],
   "source": [
    "Qtable_froznlake"
   ]
  },
  {
   "cell_type": "code",
   "execution_count": 9,
   "id": "628b64e2",
   "metadata": {
    "execution": {
     "iopub.execute_input": "2025-01-28T08:00:02.378787Z",
     "iopub.status.busy": "2025-01-28T08:00:02.378294Z",
     "iopub.status.idle": "2025-01-28T08:00:02.384441Z",
     "shell.execute_reply": "2025-01-28T08:00:02.383361Z"
    },
    "papermill": {
     "duration": 0.017167,
     "end_time": "2025-01-28T08:00:02.386291",
     "exception": false,
     "start_time": "2025-01-28T08:00:02.369124",
     "status": "completed"
    },
    "tags": []
   },
   "outputs": [
    {
     "data": {
      "text/plain": [
       "(16, 4)"
      ]
     },
     "execution_count": 9,
     "metadata": {},
     "output_type": "execute_result"
    }
   ],
   "source": [
    "Qtable_froznlake.shape"
   ]
  },
  {
   "cell_type": "markdown",
   "id": "5f4b7607",
   "metadata": {
    "papermill": {
     "duration": 0.008186,
     "end_time": "2025-01-28T08:00:02.403166",
     "exception": false,
     "start_time": "2025-01-28T08:00:02.394980",
     "status": "completed"
    },
    "tags": []
   },
   "source": [
    "1. epsilon greedy policy (exploitation: analyze on which action has max value)\n",
    "2. With probability ɛ: we do exploration (trying random action)."
   ]
  },
  {
   "cell_type": "code",
   "execution_count": 10,
   "id": "60e098ad",
   "metadata": {
    "execution": {
     "iopub.execute_input": "2025-01-28T08:00:02.421945Z",
     "iopub.status.busy": "2025-01-28T08:00:02.421503Z",
     "iopub.status.idle": "2025-01-28T08:00:02.426911Z",
     "shell.execute_reply": "2025-01-28T08:00:02.425787Z"
    },
    "papermill": {
     "duration": 0.017398,
     "end_time": "2025-01-28T08:00:02.428957",
     "exception": false,
     "start_time": "2025-01-28T08:00:02.411559",
     "status": "completed"
    },
    "tags": []
   },
   "outputs": [],
   "source": [
    "def epsilon_greedy_policy(Qtable,state,epsilon):\n",
    "    random_num=random.uniform(0,1)\n",
    "    if random_num>epsilon:\n",
    "        action = np.argmax(Qtable[state])\n",
    "\n",
    "    else:\n",
    "         action = env.action_space.sample()\n",
    "    return action"
   ]
  },
  {
   "cell_type": "code",
   "execution_count": 11,
   "id": "03797cce",
   "metadata": {
    "execution": {
     "iopub.execute_input": "2025-01-28T08:00:02.447504Z",
     "iopub.status.busy": "2025-01-28T08:00:02.447149Z",
     "iopub.status.idle": "2025-01-28T08:00:02.451812Z",
     "shell.execute_reply": "2025-01-28T08:00:02.450588Z"
    },
    "papermill": {
     "duration": 0.016225,
     "end_time": "2025-01-28T08:00:02.453696",
     "exception": false,
     "start_time": "2025-01-28T08:00:02.437471",
     "status": "completed"
    },
    "tags": []
   },
   "outputs": [],
   "source": [
    "def greedy_policy(Qtable,state):\n",
    "    action = np.argmax(Qtable[state])\n",
    "    return action"
   ]
  },
  {
   "cell_type": "code",
   "execution_count": 12,
   "id": "8cf850e2",
   "metadata": {
    "execution": {
     "iopub.execute_input": "2025-01-28T08:00:02.472094Z",
     "iopub.status.busy": "2025-01-28T08:00:02.471725Z",
     "iopub.status.idle": "2025-01-28T08:00:02.477049Z",
     "shell.execute_reply": "2025-01-28T08:00:02.475962Z"
    },
    "papermill": {
     "duration": 0.016577,
     "end_time": "2025-01-28T08:00:02.478730",
     "exception": false,
     "start_time": "2025-01-28T08:00:02.462153",
     "status": "completed"
    },
    "tags": []
   },
   "outputs": [],
   "source": [
    "# Training parameters\n",
    "n_training_episodes = 10000  # Total training episodes\n",
    "learning_rate = 0.7          # Learning rate\n",
    "\n",
    "# Evaluation parameters\n",
    "n_eval_episodes = 100        # Total number of test episodes\n",
    "\n",
    "# Environment parameters\n",
    "env_id = \"FrozenLake-v1\"     # Name of the environment\n",
    "max_steps = 99               # Max steps per episode\n",
    "gamma = 0.95                 # Discounting rate\n",
    "eval_seed = []               # The evaluation seed of the environment\n",
    "\n",
    "# Exploration parameters\n",
    "epsilon = 1.0                 # Exploration rate\n",
    "max_epsilon = 1.0             # Exploration probability at start\n",
    "min_epsilon = 0.05            # Minimum exploration probability\n",
    "decay_rate = 0.0005            # Exponential decay rate for exploration prob"
   ]
  },
  {
   "cell_type": "code",
   "execution_count": 13,
   "id": "24f8039a",
   "metadata": {
    "execution": {
     "iopub.execute_input": "2025-01-28T08:00:02.497021Z",
     "iopub.status.busy": "2025-01-28T08:00:02.496646Z",
     "iopub.status.idle": "2025-01-28T08:00:02.500608Z",
     "shell.execute_reply": "2025-01-28T08:00:02.499453Z"
    },
    "papermill": {
     "duration": 0.015091,
     "end_time": "2025-01-28T08:00:02.502458",
     "exception": false,
     "start_time": "2025-01-28T08:00:02.487367",
     "status": "completed"
    },
    "tags": []
   },
   "outputs": [],
   "source": [
    "#initially epsilon vale 1 here itis exploration is 1 b/c it's start explore env\n",
    "#inc epsilon inc exploration\n",
    "#dec epsion inc exploitation"
   ]
  },
  {
   "cell_type": "markdown",
   "id": "18fd168c",
   "metadata": {
    "papermill": {
     "duration": 0.007915,
     "end_time": "2025-01-28T08:00:02.518695",
     "exception": false,
     "start_time": "2025-01-28T08:00:02.510780",
     "status": "completed"
    },
    "tags": []
   },
   "source": [
    "### create the training loop method"
   ]
  },
  {
   "cell_type": "code",
   "execution_count": 14,
   "id": "56edd095",
   "metadata": {
    "execution": {
     "iopub.execute_input": "2025-01-28T08:00:02.536808Z",
     "iopub.status.busy": "2025-01-28T08:00:02.536350Z",
     "iopub.status.idle": "2025-01-28T08:00:02.543057Z",
     "shell.execute_reply": "2025-01-28T08:00:02.541917Z"
    },
    "papermill": {
     "duration": 0.017989,
     "end_time": "2025-01-28T08:00:02.544848",
     "exception": false,
     "start_time": "2025-01-28T08:00:02.526859",
     "status": "completed"
    },
    "tags": []
   },
   "outputs": [],
   "source": [
    "def train(n_training_episodes, min_epsilon, max_epsilon, decay_rate, env, max_steps, Qtable):\n",
    "  for episode in range(n_training_episodes):\n",
    "      \n",
    "    epsilon = min_epsilon + (max_epsilon - min_epsilon)*np.exp(-decay_rate*episode) # Reduce epsilon (because we need less and less exploration)\n",
    "    # Reset the environment\n",
    "    state = env.reset()\n",
    "    step = 0\n",
    "    done = False\n",
    "\n",
    "    # repeat\n",
    "    for step in range(max_steps):\n",
    "        \n",
    "      # Choose the action At using epsilon greedy policy\n",
    "      action = epsilon_greedy_policy(Qtable, state, epsilon)\n",
    "\n",
    "      # Take action At and observe Rt+1 and St+1\n",
    "      # Take the action (a) and observe the outcome state(s') and reward (r)\n",
    "      new_state, reward, done, info = env.step(action) #Takes the chosen action in the environment\n",
    "\n",
    "      # Update Q(s,a):= Q(s,a) + lr [R(s,a) + gamma * max Q(s',a') - Q(s,a)]\n",
    "    #updates the Q-value for the state-action pair using the Q-learning formula\n",
    "      Qtable[state][action] = Qtable[state][action] + learning_rate * (reward + gamma * np.max(Qtable[new_state]) - Qtable[state][action])\n",
    "\n",
    "      # If done, finish the episode\n",
    "      if done:\n",
    "        break\n",
    "\n",
    "      # Our state is the new state\n",
    "      state = new_state\n",
    "  \n",
    "  return Qtable\n",
    "\n",
    "\n",
    "        "
   ]
  },
  {
   "cell_type": "code",
   "execution_count": 15,
   "id": "862a728c",
   "metadata": {
    "execution": {
     "iopub.execute_input": "2025-01-28T08:00:02.563142Z",
     "iopub.status.busy": "2025-01-28T08:00:02.562741Z",
     "iopub.status.idle": "2025-01-28T08:00:04.439567Z",
     "shell.execute_reply": "2025-01-28T08:00:04.438665Z"
    },
    "papermill": {
     "duration": 1.888132,
     "end_time": "2025-01-28T08:00:04.441630",
     "exception": false,
     "start_time": "2025-01-28T08:00:02.553498",
     "status": "completed"
    },
    "tags": []
   },
   "outputs": [
    {
     "name": "stderr",
     "output_type": "stream",
     "text": [
      "/usr/local/lib/python3.10/dist-packages/gym/utils/passive_env_checker.py:241: DeprecationWarning: `np.bool8` is a deprecated alias for `np.bool_`.  (Deprecated NumPy 1.24)\n",
      "  if not isinstance(terminated, (bool, np.bool8)):\n"
     ]
    }
   ],
   "source": [
    "Qtable_frozenlake = train(n_training_episodes, min_epsilon, max_epsilon, decay_rate, env, max_steps, Qtable_froznlake)"
   ]
  },
  {
   "cell_type": "code",
   "execution_count": 16,
   "id": "48f589b7",
   "metadata": {
    "execution": {
     "iopub.execute_input": "2025-01-28T08:00:04.460120Z",
     "iopub.status.busy": "2025-01-28T08:00:04.459755Z",
     "iopub.status.idle": "2025-01-28T08:00:04.465983Z",
     "shell.execute_reply": "2025-01-28T08:00:04.465095Z"
    },
    "papermill": {
     "duration": 0.017219,
     "end_time": "2025-01-28T08:00:04.467509",
     "exception": false,
     "start_time": "2025-01-28T08:00:04.450290",
     "status": "completed"
    },
    "tags": []
   },
   "outputs": [
    {
     "data": {
      "text/plain": [
       "array([[0.73509189, 0.77378094, 0.77378094, 0.73509189],\n",
       "       [0.73509189, 0.        , 0.81450625, 0.77378094],\n",
       "       [0.77378094, 0.857375  , 0.77378094, 0.81450625],\n",
       "       [0.81450625, 0.        , 0.77378094, 0.77378094],\n",
       "       [0.77378094, 0.81450625, 0.        , 0.73509189],\n",
       "       [0.        , 0.        , 0.        , 0.        ],\n",
       "       [0.        , 0.9025    , 0.        , 0.81450625],\n",
       "       [0.        , 0.        , 0.        , 0.        ],\n",
       "       [0.81450625, 0.        , 0.857375  , 0.77378094],\n",
       "       [0.81450625, 0.9025    , 0.9025    , 0.        ],\n",
       "       [0.857375  , 0.95      , 0.        , 0.857375  ],\n",
       "       [0.        , 0.        , 0.        , 0.        ],\n",
       "       [0.        , 0.        , 0.        , 0.        ],\n",
       "       [0.        , 0.9025    , 0.95      , 0.857375  ],\n",
       "       [0.9025    , 0.95      , 1.        , 0.9025    ],\n",
       "       [0.        , 0.        , 0.        , 0.        ]])"
      ]
     },
     "execution_count": 16,
     "metadata": {},
     "output_type": "execute_result"
    }
   ],
   "source": [
    "Qtable_frozenlake"
   ]
  },
  {
   "cell_type": "code",
   "execution_count": 17,
   "id": "21ca63e0",
   "metadata": {
    "execution": {
     "iopub.execute_input": "2025-01-28T08:00:04.486415Z",
     "iopub.status.busy": "2025-01-28T08:00:04.486082Z",
     "iopub.status.idle": "2025-01-28T08:00:04.492097Z",
     "shell.execute_reply": "2025-01-28T08:00:04.491047Z"
    },
    "papermill": {
     "duration": 0.017622,
     "end_time": "2025-01-28T08:00:04.493948",
     "exception": false,
     "start_time": "2025-01-28T08:00:04.476326",
     "status": "completed"
    },
    "tags": []
   },
   "outputs": [],
   "source": [
    "import numpy as np\n",
    "\n",
    "def evaluate_and_plot_with_std(env, Qtable, n_eval_episodes, max_steps):\n",
    "    rewards_per_episode = []\n",
    "\n",
    "    for episode in range(n_eval_episodes):\n",
    "        state = env.reset()\n",
    "        done = False\n",
    "        episode_reward = 0\n",
    "\n",
    "        for step in range(max_steps):\n",
    "            action = np.argmax(Qtable[state])  # Greedy policy\n",
    "            new_state, reward, done, info = env.step(action)\n",
    "            episode_reward += reward\n",
    "\n",
    "            if done:\n",
    "                break\n",
    "\n",
    "            state = new_state\n",
    "\n",
    "        rewards_per_episode.append(episode_reward)\n",
    "\n",
    "    # Calculate average reward\n",
    "    average_reward = np.mean(rewards_per_episode)\n",
    "\n",
    "    # Calculate standard deviation of rewards\n",
    "    std_reward = np.std(rewards_per_episode)\n",
    "\n",
    "    return average_reward, std_reward"
   ]
  },
  {
   "cell_type": "code",
   "execution_count": 18,
   "id": "2b44d5e0",
   "metadata": {
    "execution": {
     "iopub.execute_input": "2025-01-28T08:00:04.512307Z",
     "iopub.status.busy": "2025-01-28T08:00:04.511974Z",
     "iopub.status.idle": "2025-01-28T08:00:04.531800Z",
     "shell.execute_reply": "2025-01-28T08:00:04.530440Z"
    },
    "papermill": {
     "duration": 0.031001,
     "end_time": "2025-01-28T08:00:04.533477",
     "exception": false,
     "start_time": "2025-01-28T08:00:04.502476",
     "status": "completed"
    },
    "tags": []
   },
   "outputs": [
    {
     "name": "stdout",
     "output_type": "stream",
     "text": [
      "Mean_reward=1.00 +/- 0.00\n"
     ]
    }
   ],
   "source": [
    "# Evaluate our Agent\n",
    "#mean_reward, std_reward = evaluate_agent(env, max_steps, n_eval_episodes, Qtable_frozenlake, eval_seed)\n",
    "mean_reward, std_reward = evaluate_and_plot_with_std(env, Qtable_frozenlake, n_eval_episodes, max_steps)\n",
    "print(f\"Mean_reward={mean_reward:.2f} +/- {std_reward:.2f}\")"
   ]
  },
  {
   "cell_type": "markdown",
   "id": "c679952f",
   "metadata": {
    "papermill": {
     "duration": 0.008124,
     "end_time": "2025-01-28T08:00:04.550052",
     "exception": false,
     "start_time": "2025-01-28T08:00:04.541928",
     "status": "completed"
    },
    "tags": []
   },
   "source": [
    "## 8*8 map and slippery"
   ]
  },
  {
   "cell_type": "code",
   "execution_count": 19,
   "id": "32a38adb",
   "metadata": {
    "execution": {
     "iopub.execute_input": "2025-01-28T08:00:04.568102Z",
     "iopub.status.busy": "2025-01-28T08:00:04.567723Z",
     "iopub.status.idle": "2025-01-28T08:00:04.574677Z",
     "shell.execute_reply": "2025-01-28T08:00:04.573596Z"
    },
    "papermill": {
     "duration": 0.018126,
     "end_time": "2025-01-28T08:00:04.576367",
     "exception": false,
     "start_time": "2025-01-28T08:00:04.558241",
     "status": "completed"
    },
    "tags": []
   },
   "outputs": [],
   "source": [
    "env = gym.make(\"FrozenLake-v1\", map_name=\"8x8\", is_slippery=True)"
   ]
  },
  {
   "cell_type": "code",
   "execution_count": 20,
   "id": "29a789ff",
   "metadata": {
    "execution": {
     "iopub.execute_input": "2025-01-28T08:00:04.594654Z",
     "iopub.status.busy": "2025-01-28T08:00:04.594232Z",
     "iopub.status.idle": "2025-01-28T08:00:04.600657Z",
     "shell.execute_reply": "2025-01-28T08:00:04.599652Z"
    },
    "papermill": {
     "duration": 0.017406,
     "end_time": "2025-01-28T08:00:04.602305",
     "exception": false,
     "start_time": "2025-01-28T08:00:04.584899",
     "status": "completed"
    },
    "tags": []
   },
   "outputs": [
    {
     "data": {
      "text/plain": [
       "0"
      ]
     },
     "execution_count": 20,
     "metadata": {},
     "output_type": "execute_result"
    }
   ],
   "source": [
    "env.reset()"
   ]
  },
  {
   "cell_type": "code",
   "execution_count": 21,
   "id": "a8811354",
   "metadata": {
    "execution": {
     "iopub.execute_input": "2025-01-28T08:00:04.620635Z",
     "iopub.status.busy": "2025-01-28T08:00:04.620258Z",
     "iopub.status.idle": "2025-01-28T08:00:04.626221Z",
     "shell.execute_reply": "2025-01-28T08:00:04.624978Z"
    },
    "papermill": {
     "duration": 0.017219,
     "end_time": "2025-01-28T08:00:04.628049",
     "exception": false,
     "start_time": "2025-01-28T08:00:04.610830",
     "status": "completed"
    },
    "tags": []
   },
   "outputs": [
    {
     "name": "stdout",
     "output_type": "stream",
     "text": [
      "64\n",
      "4\n"
     ]
    }
   ],
   "source": [
    "state_space = env.observation_space.n\n",
    "action_space= env.action_space.n\n",
    "print(state_space)\n",
    "print(action_space)"
   ]
  },
  {
   "cell_type": "code",
   "execution_count": 22,
   "id": "c567c3a8",
   "metadata": {
    "execution": {
     "iopub.execute_input": "2025-01-28T08:00:04.647392Z",
     "iopub.status.busy": "2025-01-28T08:00:04.647057Z",
     "iopub.status.idle": "2025-01-28T08:00:04.651782Z",
     "shell.execute_reply": "2025-01-28T08:00:04.650481Z"
    },
    "papermill": {
     "duration": 0.01632,
     "end_time": "2025-01-28T08:00:04.653496",
     "exception": false,
     "start_time": "2025-01-28T08:00:04.637176",
     "status": "completed"
    },
    "tags": []
   },
   "outputs": [],
   "source": [
    "def initialize_Q_table(state_space,action_space):\n",
    "    Qtable=np.zeros((state_space,action_space))\n",
    "    \n",
    "    return Qtable"
   ]
  },
  {
   "cell_type": "code",
   "execution_count": 23,
   "id": "1f672532",
   "metadata": {
    "execution": {
     "iopub.execute_input": "2025-01-28T08:00:04.672200Z",
     "iopub.status.busy": "2025-01-28T08:00:04.671859Z",
     "iopub.status.idle": "2025-01-28T08:00:04.676135Z",
     "shell.execute_reply": "2025-01-28T08:00:04.675125Z"
    },
    "papermill": {
     "duration": 0.015712,
     "end_time": "2025-01-28T08:00:04.678036",
     "exception": false,
     "start_time": "2025-01-28T08:00:04.662324",
     "status": "completed"
    },
    "tags": []
   },
   "outputs": [],
   "source": [
    "frozen_lake = initialize_Q_table(state_space,action_space)"
   ]
  },
  {
   "cell_type": "code",
   "execution_count": 24,
   "id": "afc5250d",
   "metadata": {
    "execution": {
     "iopub.execute_input": "2025-01-28T08:00:04.696869Z",
     "iopub.status.busy": "2025-01-28T08:00:04.696405Z",
     "iopub.status.idle": "2025-01-28T08:00:04.702553Z",
     "shell.execute_reply": "2025-01-28T08:00:04.701385Z"
    },
    "papermill": {
     "duration": 0.017285,
     "end_time": "2025-01-28T08:00:04.704183",
     "exception": false,
     "start_time": "2025-01-28T08:00:04.686898",
     "status": "completed"
    },
    "tags": []
   },
   "outputs": [
    {
     "data": {
      "text/plain": [
       "(64, 4)"
      ]
     },
     "execution_count": 24,
     "metadata": {},
     "output_type": "execute_result"
    }
   ],
   "source": [
    "frozen_lake.shape"
   ]
  },
  {
   "cell_type": "code",
   "execution_count": 25,
   "id": "a117c84b",
   "metadata": {
    "execution": {
     "iopub.execute_input": "2025-01-28T08:00:04.723177Z",
     "iopub.status.busy": "2025-01-28T08:00:04.722787Z",
     "iopub.status.idle": "2025-01-28T08:00:04.730299Z",
     "shell.execute_reply": "2025-01-28T08:00:04.729195Z"
    },
    "papermill": {
     "duration": 0.019088,
     "end_time": "2025-01-28T08:00:04.732186",
     "exception": false,
     "start_time": "2025-01-28T08:00:04.713098",
     "status": "completed"
    },
    "tags": []
   },
   "outputs": [
    {
     "data": {
      "text/plain": [
       "array([[0., 0., 0., 0.],\n",
       "       [0., 0., 0., 0.],\n",
       "       [0., 0., 0., 0.],\n",
       "       [0., 0., 0., 0.],\n",
       "       [0., 0., 0., 0.],\n",
       "       [0., 0., 0., 0.],\n",
       "       [0., 0., 0., 0.],\n",
       "       [0., 0., 0., 0.],\n",
       "       [0., 0., 0., 0.],\n",
       "       [0., 0., 0., 0.],\n",
       "       [0., 0., 0., 0.],\n",
       "       [0., 0., 0., 0.],\n",
       "       [0., 0., 0., 0.],\n",
       "       [0., 0., 0., 0.],\n",
       "       [0., 0., 0., 0.],\n",
       "       [0., 0., 0., 0.],\n",
       "       [0., 0., 0., 0.],\n",
       "       [0., 0., 0., 0.],\n",
       "       [0., 0., 0., 0.],\n",
       "       [0., 0., 0., 0.],\n",
       "       [0., 0., 0., 0.],\n",
       "       [0., 0., 0., 0.],\n",
       "       [0., 0., 0., 0.],\n",
       "       [0., 0., 0., 0.],\n",
       "       [0., 0., 0., 0.],\n",
       "       [0., 0., 0., 0.],\n",
       "       [0., 0., 0., 0.],\n",
       "       [0., 0., 0., 0.],\n",
       "       [0., 0., 0., 0.],\n",
       "       [0., 0., 0., 0.],\n",
       "       [0., 0., 0., 0.],\n",
       "       [0., 0., 0., 0.],\n",
       "       [0., 0., 0., 0.],\n",
       "       [0., 0., 0., 0.],\n",
       "       [0., 0., 0., 0.],\n",
       "       [0., 0., 0., 0.],\n",
       "       [0., 0., 0., 0.],\n",
       "       [0., 0., 0., 0.],\n",
       "       [0., 0., 0., 0.],\n",
       "       [0., 0., 0., 0.],\n",
       "       [0., 0., 0., 0.],\n",
       "       [0., 0., 0., 0.],\n",
       "       [0., 0., 0., 0.],\n",
       "       [0., 0., 0., 0.],\n",
       "       [0., 0., 0., 0.],\n",
       "       [0., 0., 0., 0.],\n",
       "       [0., 0., 0., 0.],\n",
       "       [0., 0., 0., 0.],\n",
       "       [0., 0., 0., 0.],\n",
       "       [0., 0., 0., 0.],\n",
       "       [0., 0., 0., 0.],\n",
       "       [0., 0., 0., 0.],\n",
       "       [0., 0., 0., 0.],\n",
       "       [0., 0., 0., 0.],\n",
       "       [0., 0., 0., 0.],\n",
       "       [0., 0., 0., 0.],\n",
       "       [0., 0., 0., 0.],\n",
       "       [0., 0., 0., 0.],\n",
       "       [0., 0., 0., 0.],\n",
       "       [0., 0., 0., 0.],\n",
       "       [0., 0., 0., 0.],\n",
       "       [0., 0., 0., 0.],\n",
       "       [0., 0., 0., 0.],\n",
       "       [0., 0., 0., 0.]])"
      ]
     },
     "execution_count": 25,
     "metadata": {},
     "output_type": "execute_result"
    }
   ],
   "source": [
    "frozen_lake"
   ]
  },
  {
   "cell_type": "code",
   "execution_count": 26,
   "id": "cf4dcbc7",
   "metadata": {
    "execution": {
     "iopub.execute_input": "2025-01-28T08:00:04.751803Z",
     "iopub.status.busy": "2025-01-28T08:00:04.751302Z",
     "iopub.status.idle": "2025-01-28T08:00:04.756524Z",
     "shell.execute_reply": "2025-01-28T08:00:04.755479Z"
    },
    "papermill": {
     "duration": 0.01699,
     "end_time": "2025-01-28T08:00:04.758237",
     "exception": false,
     "start_time": "2025-01-28T08:00:04.741247",
     "status": "completed"
    },
    "tags": []
   },
   "outputs": [],
   "source": [
    "def epsilon_greedy_policy(Qtable,state,epsilon):\n",
    "    random_number=random.uniform(0,1)\n",
    "    if random_number>epsilon:\n",
    "        action=np.argmax(Qtable[state])\n",
    "    else:\n",
    "        action= env.action_space.sample()\n",
    "\n",
    "    return action"
   ]
  },
  {
   "cell_type": "code",
   "execution_count": 27,
   "id": "5718b175",
   "metadata": {
    "execution": {
     "iopub.execute_input": "2025-01-28T08:00:04.777397Z",
     "iopub.status.busy": "2025-01-28T08:00:04.777067Z",
     "iopub.status.idle": "2025-01-28T08:00:04.781650Z",
     "shell.execute_reply": "2025-01-28T08:00:04.780462Z"
    },
    "papermill": {
     "duration": 0.016134,
     "end_time": "2025-01-28T08:00:04.783454",
     "exception": false,
     "start_time": "2025-01-28T08:00:04.767320",
     "status": "completed"
    },
    "tags": []
   },
   "outputs": [],
   "source": [
    "def greedy_policy(Qtable,state):\n",
    "    action=np.argmax(Qtable[state])\n",
    "    return action"
   ]
  },
  {
   "cell_type": "code",
   "execution_count": 28,
   "id": "0b66b7bc",
   "metadata": {
    "execution": {
     "iopub.execute_input": "2025-01-28T08:00:04.802864Z",
     "iopub.status.busy": "2025-01-28T08:00:04.802435Z",
     "iopub.status.idle": "2025-01-28T08:00:04.807701Z",
     "shell.execute_reply": "2025-01-28T08:00:04.806648Z"
    },
    "papermill": {
     "duration": 0.016771,
     "end_time": "2025-01-28T08:00:04.809347",
     "exception": false,
     "start_time": "2025-01-28T08:00:04.792576",
     "status": "completed"
    },
    "tags": []
   },
   "outputs": [],
   "source": [
    "# Training parameters\n",
    "n_training_episodes = 10000  # Total training episodes\n",
    "learning_rate = 0.7          # Learning rate\n",
    "\n",
    "# Evaluation parameters\n",
    "n_eval_episodes = 100        # Total number of test episodes\n",
    "\n",
    "# Environment parameters\n",
    "env_id = \"FrozenLake-v1\"     # Name of the environment\n",
    "max_steps = 99               # Max steps per episode\n",
    "gamma = 0.95                 # Discounting rate # This is the discounting rate, which determines the importance of future rewards. A value close to 1 means future rewards are highly considered, while a value close to 0 means the agent prioritizes immediate rewards.\n",
    "eval_seed = []               # The evaluation seed of the environment\n",
    "\n",
    "# Exploration parameters\n",
    "epsilon = 1.0                 # Exploration rate\n",
    "max_epsilon = 1.0             # Exploration probability at start\n",
    "min_epsilon = 0.05            # Minimum exploration probability\n",
    "decay_rate = 0.0005 "
   ]
  },
  {
   "cell_type": "code",
   "execution_count": 29,
   "id": "c038dee9",
   "metadata": {
    "execution": {
     "iopub.execute_input": "2025-01-28T08:00:04.828863Z",
     "iopub.status.busy": "2025-01-28T08:00:04.828409Z",
     "iopub.status.idle": "2025-01-28T08:00:04.832785Z",
     "shell.execute_reply": "2025-01-28T08:00:04.831704Z"
    },
    "papermill": {
     "duration": 0.016158,
     "end_time": "2025-01-28T08:00:04.834609",
     "exception": false,
     "start_time": "2025-01-28T08:00:04.818451",
     "status": "completed"
    },
    "tags": []
   },
   "outputs": [],
   "source": [
    "# def train(n_training_episodes, min_epsilon, max_epsilon,env, max_steps, decay_rate, Qtable):\n",
    "#     for episode in range(n_training_episodes):\n",
    "#         epsilon = min_epsilon+(max_epsilon-min_epsilon)*np.exp(-decay_rate*episode)\n",
    "#         state = env.reset()\n",
    "#         step=0\n",
    "#         done=False\n",
    "\n",
    "#         for step in range(max_steps):\n",
    "#             action = epsilon_greedy_policy(Qtable, state, epsilon)\n",
    "#             new_state, reward,info, done = env.step(action) \n",
    "\n",
    "#             Qtable[state][action] = Qtable[state][action] + learning_rate * (reward + gamma * np.max(Qtable[new_state]) - Qtable[state][action])\n",
    "\n",
    "            \n",
    "#             if done:\n",
    "#                 break\n",
    "#             state = new_state\n",
    "    \n",
    "#     return Qtable\n",
    "             "
   ]
  },
  {
   "cell_type": "code",
   "execution_count": 30,
   "id": "9f0b3bdf",
   "metadata": {
    "execution": {
     "iopub.execute_input": "2025-01-28T08:00:04.854493Z",
     "iopub.status.busy": "2025-01-28T08:00:04.854129Z",
     "iopub.status.idle": "2025-01-28T08:00:04.860782Z",
     "shell.execute_reply": "2025-01-28T08:00:04.859703Z"
    },
    "papermill": {
     "duration": 0.018663,
     "end_time": "2025-01-28T08:00:04.862496",
     "exception": false,
     "start_time": "2025-01-28T08:00:04.843833",
     "status": "completed"
    },
    "tags": []
   },
   "outputs": [],
   "source": [
    "def train(n_training_episodes, min_epsilon, max_epsilon, decay_rate, env, max_steps, Qtable):\n",
    "  for episode in range(n_training_episodes):\n",
    "      \n",
    "    epsilon = min_epsilon + (max_epsilon - min_epsilon)*np.exp(-decay_rate*episode) # Reduce epsilon (because we need less and less exploration)\n",
    "    # Reset the environment\n",
    "    state = env.reset()\n",
    "    step = 0\n",
    "    done = False\n",
    "\n",
    "    # repeat\n",
    "    for step in range(max_steps):\n",
    "        \n",
    "      # Choose the action At using epsilon greedy policy\n",
    "      action = epsilon_greedy_policy(Qtable, state, epsilon)\n",
    "\n",
    "      # Take action At and observe Rt+1 and St+1\n",
    "      # Take the action (a) and observe the outcome state(s') and reward (r)\n",
    "      new_state, reward, done, info = env.step(action) #Takes the chosen action in the environment\n",
    "\n",
    "      # Update Q(s,a):= Q(s,a) + lr [R(s,a) + gamma * max Q(s',a') - Q(s,a)]\n",
    "    #updates the Q-value for the state-action pair using the Q-learning formula\n",
    "      Qtable[state][action] = Qtable[state][action] + learning_rate * (reward + gamma * np.max(Qtable[new_state]) - Qtable[state][action])\n",
    "\n",
    "      # If done, finish the episode\n",
    "      if done:\n",
    "        break\n",
    "\n",
    "      # Our state is the new state\n",
    "      state = new_state\n",
    "  \n",
    "  return Qtable"
   ]
  },
  {
   "cell_type": "code",
   "execution_count": 31,
   "id": "9ee6ac3e",
   "metadata": {
    "execution": {
     "iopub.execute_input": "2025-01-28T08:00:04.883100Z",
     "iopub.status.busy": "2025-01-28T08:00:04.882694Z",
     "iopub.status.idle": "2025-01-28T08:00:19.336075Z",
     "shell.execute_reply": "2025-01-28T08:00:19.335138Z"
    },
    "papermill": {
     "duration": 14.466029,
     "end_time": "2025-01-28T08:00:19.338111",
     "exception": false,
     "start_time": "2025-01-28T08:00:04.872082",
     "status": "completed"
    },
    "tags": []
   },
   "outputs": [],
   "source": [
    "Qtable_frozenlake = train(n_training_episodes, min_epsilon, max_epsilon, decay_rate, env, max_steps, frozen_lake)"
   ]
  },
  {
   "cell_type": "code",
   "execution_count": 32,
   "id": "2f1dfcf8",
   "metadata": {
    "execution": {
     "iopub.execute_input": "2025-01-28T08:00:19.357255Z",
     "iopub.status.busy": "2025-01-28T08:00:19.356895Z",
     "iopub.status.idle": "2025-01-28T08:00:19.365407Z",
     "shell.execute_reply": "2025-01-28T08:00:19.364384Z"
    },
    "papermill": {
     "duration": 0.019935,
     "end_time": "2025-01-28T08:00:19.367000",
     "exception": false,
     "start_time": "2025-01-28T08:00:19.347065",
     "status": "completed"
    },
    "tags": []
   },
   "outputs": [
    {
     "data": {
      "text/plain": [
       "array([[2.46521893e-02, 2.48433408e-02, 2.43808542e-02, 2.47896911e-02],\n",
       "       [2.49022311e-02, 2.54111284e-02, 2.49276291e-02, 2.77446643e-02],\n",
       "       [2.82401146e-02, 2.97429720e-02, 2.92122215e-02, 3.68443255e-02],\n",
       "       [3.62072803e-02, 3.34016563e-02, 3.76991249e-02, 3.63463059e-02],\n",
       "       [4.07959454e-02, 4.50186301e-02, 4.43589567e-02, 5.94803063e-02],\n",
       "       [5.13615629e-02, 5.31473320e-02, 7.11135959e-02, 5.51672395e-02],\n",
       "       [6.99849054e-02, 9.55264142e-02, 7.16857604e-02, 6.88548410e-02],\n",
       "       [7.61131944e-02, 7.07445550e-02, 7.48687068e-02, 7.66611590e-02],\n",
       "       [2.40778655e-02, 2.52811844e-02, 2.52331294e-02, 2.54220116e-02],\n",
       "       [2.54707639e-02, 3.18815861e-02, 2.52425337e-02, 2.50434137e-02],\n",
       "       [1.71010533e-02, 2.77253189e-02, 2.73228794e-02, 4.16815848e-02],\n",
       "       [1.36898252e-02, 6.76951521e-03, 9.84470885e-03, 4.15951178e-02],\n",
       "       [4.25436436e-02, 1.99704954e-02, 3.55466599e-02, 3.72383600e-02],\n",
       "       [3.07147442e-02, 4.43059124e-02, 5.45192976e-02, 4.25458870e-02],\n",
       "       [9.96095204e-02, 6.63722952e-02, 1.07051245e-01, 5.77249697e-02],\n",
       "       [7.76953392e-02, 8.57752857e-02, 7.56618091e-02, 7.58481263e-02],\n",
       "       [2.18730845e-02, 1.91519820e-02, 1.94961445e-02, 2.45325843e-02],\n",
       "       [2.14969939e-02, 1.10789696e-02, 1.44594730e-02, 2.62287858e-02],\n",
       "       [2.78381052e-02, 1.39702709e-02, 5.21064852e-03, 9.68688113e-03],\n",
       "       [0.00000000e+00, 0.00000000e+00, 0.00000000e+00, 0.00000000e+00],\n",
       "       [7.21208441e-03, 3.36736968e-03, 7.83181639e-03, 1.16628746e-02],\n",
       "       [4.42285646e-03, 7.28951068e-03, 7.50839655e-03, 3.03996568e-02],\n",
       "       [1.03857184e-01, 7.65794890e-02, 1.12494414e-01, 3.86138856e-02],\n",
       "       [9.81968140e-02, 1.25805315e-01, 1.01447447e-01, 1.01838295e-01],\n",
       "       [8.53767127e-03, 1.30385836e-02, 1.59128238e-02, 1.00156299e-02],\n",
       "       [1.74115096e-02, 7.59380327e-03, 4.84321089e-03, 8.58689059e-03],\n",
       "       [2.03670631e-03, 1.40594525e-03, 3.02405774e-03, 2.24625023e-02],\n",
       "       [7.40858226e-07, 1.52752796e-02, 2.05548470e-04, 1.93729866e-04],\n",
       "       [1.74757369e-03, 2.05646006e-02, 1.46288243e-03, 1.43438069e-03],\n",
       "       [0.00000000e+00, 0.00000000e+00, 0.00000000e+00, 0.00000000e+00],\n",
       "       [3.49753993e-02, 5.40512344e-02, 1.13897947e-01, 2.78980760e-02],\n",
       "       [1.01878242e-01, 1.27157570e-01, 1.63120606e-01, 1.22870504e-01],\n",
       "       [3.07554648e-03, 1.99033853e-03, 6.86421285e-03, 1.51663422e-02],\n",
       "       [4.26032618e-04, 6.71510377e-03, 2.89341296e-04, 1.84817507e-02],\n",
       "       [8.55785403e-04, 6.24969974e-05, 9.53282989e-06, 1.03396567e-04],\n",
       "       [0.00000000e+00, 0.00000000e+00, 0.00000000e+00, 0.00000000e+00],\n",
       "       [1.70123386e-03, 4.72820929e-04, 2.61965303e-02, 4.56927270e-05],\n",
       "       [7.03832424e-03, 2.72444041e-02, 5.94475605e-04, 6.34081659e-04],\n",
       "       [2.35434227e-02, 1.18445752e-02, 1.02235495e-02, 1.86285724e-01],\n",
       "       [1.20537678e-01, 1.49852888e-01, 1.61497396e-01, 1.83829905e-01],\n",
       "       [1.03407851e-02, 2.76053834e-04, 2.23013415e-03, 2.11894697e-03],\n",
       "       [0.00000000e+00, 0.00000000e+00, 0.00000000e+00, 0.00000000e+00],\n",
       "       [0.00000000e+00, 0.00000000e+00, 0.00000000e+00, 0.00000000e+00],\n",
       "       [2.58711795e-04, 7.45144216e-06, 3.46237722e-06, 7.49514653e-06],\n",
       "       [9.48979905e-04, 3.86768127e-04, 3.81101035e-04, 1.03418552e-02],\n",
       "       [3.30452898e-02, 1.20044219e-03, 2.19631601e-02, 3.14008197e-03],\n",
       "       [0.00000000e+00, 0.00000000e+00, 0.00000000e+00, 0.00000000e+00],\n",
       "       [1.55193458e-01, 2.58003264e-01, 3.14665052e-01, 1.25914484e-01],\n",
       "       [2.30698625e-03, 1.55757787e-03, 8.88063890e-04, 8.58927773e-04],\n",
       "       [0.00000000e+00, 0.00000000e+00, 0.00000000e+00, 0.00000000e+00],\n",
       "       [6.99538510e-06, 6.06050052e-06, 3.98068617e-05, 5.15873711e-06],\n",
       "       [7.13148040e-05, 1.83101414e-06, 1.49528173e-06, 0.00000000e+00],\n",
       "       [0.00000000e+00, 0.00000000e+00, 0.00000000e+00, 0.00000000e+00],\n",
       "       [4.01923197e-02, 2.06107993e-04, 1.87797467e-03, 2.36039133e-02],\n",
       "       [0.00000000e+00, 0.00000000e+00, 0.00000000e+00, 0.00000000e+00],\n",
       "       [2.62927814e-01, 1.97587733e-01, 8.77008380e-01, 1.78738346e-01],\n",
       "       [1.52167060e-03, 7.69957579e-04, 2.67765169e-04, 9.78520718e-04],\n",
       "       [1.12253889e-03, 1.30330381e-04, 1.30389464e-04, 2.58676965e-04],\n",
       "       [7.02441024e-04, 0.00000000e+00, 4.46153907e-05, 4.88158822e-05],\n",
       "       [0.00000000e+00, 0.00000000e+00, 0.00000000e+00, 0.00000000e+00],\n",
       "       [0.00000000e+00, 0.00000000e+00, 0.00000000e+00, 0.00000000e+00],\n",
       "       [2.44102206e-03, 2.66729298e-02, 1.42521668e-01, 1.00475458e-03],\n",
       "       [1.70985487e-02, 0.00000000e+00, 4.82986747e-02, 1.05101676e-01],\n",
       "       [0.00000000e+00, 0.00000000e+00, 0.00000000e+00, 0.00000000e+00]])"
      ]
     },
     "execution_count": 32,
     "metadata": {},
     "output_type": "execute_result"
    }
   ],
   "source": [
    "Qtable_frozenlake"
   ]
  },
  {
   "cell_type": "code",
   "execution_count": 33,
   "id": "5f332f03",
   "metadata": {
    "execution": {
     "iopub.execute_input": "2025-01-28T08:00:19.386267Z",
     "iopub.status.busy": "2025-01-28T08:00:19.385892Z",
     "iopub.status.idle": "2025-01-28T08:00:19.391969Z",
     "shell.execute_reply": "2025-01-28T08:00:19.390865Z"
    },
    "papermill": {
     "duration": 0.017508,
     "end_time": "2025-01-28T08:00:19.393629",
     "exception": false,
     "start_time": "2025-01-28T08:00:19.376121",
     "status": "completed"
    },
    "tags": []
   },
   "outputs": [],
   "source": [
    "import numpy as np\n",
    "\n",
    "def evaluate_agent(env, Qtable, n_eval_episodes, max_steps):\n",
    "    rewards_per_episode = []\n",
    "\n",
    "    for episode in range(n_eval_episodes):\n",
    "        state = env.reset()\n",
    "        done = False\n",
    "        episode_reward = 0\n",
    "\n",
    "        for step in range(max_steps):\n",
    "            action = np.argmax(Qtable[state])  # Greedy policy\n",
    "            new_state, reward, done, info = env.step(action)\n",
    "            episode_reward += reward\n",
    "\n",
    "            if done:\n",
    "                break\n",
    "\n",
    "            state = new_state\n",
    "\n",
    "        rewards_per_episode.append(episode_reward)\n",
    "\n",
    "    # Calculate average reward\n",
    "    average_reward = np.mean(rewards_per_episode)\n",
    "\n",
    "    # Calculate standard deviation of rewards\n",
    "    std_reward = np.std(rewards_per_episode)\n",
    "\n",
    "    return average_reward, std_reward"
   ]
  },
  {
   "cell_type": "code",
   "execution_count": 34,
   "id": "14dfc1cb",
   "metadata": {
    "execution": {
     "iopub.execute_input": "2025-01-28T08:00:19.412836Z",
     "iopub.status.busy": "2025-01-28T08:00:19.412429Z",
     "iopub.status.idle": "2025-01-28T08:00:19.534311Z",
     "shell.execute_reply": "2025-01-28T08:00:19.532933Z"
    },
    "papermill": {
     "duration": 0.133575,
     "end_time": "2025-01-28T08:00:19.536264",
     "exception": false,
     "start_time": "2025-01-28T08:00:19.402689",
     "status": "completed"
    },
    "tags": []
   },
   "outputs": [
    {
     "name": "stdout",
     "output_type": "stream",
     "text": [
      "Mean_reward=0.02 +/- 0.14\n"
     ]
    }
   ],
   "source": [
    "# Evaluate our Agent\n",
    "mean_reward, std_reward = evaluate_agent(env, Qtable_frozenlake, n_eval_episodes, max_steps)\n",
    "print(f\"Mean_reward={mean_reward:.2f} +/- {std_reward:.2f}\")"
   ]
  },
  {
   "cell_type": "markdown",
   "id": "14c4c923",
   "metadata": {
    "papermill": {
     "duration": 0.009224,
     "end_time": "2025-01-28T08:00:19.554650",
     "exception": false,
     "start_time": "2025-01-28T08:00:19.545426",
     "status": "completed"
    },
    "tags": []
   },
   "source": [
    "### Taxi"
   ]
  },
  {
   "cell_type": "code",
   "execution_count": null,
   "id": "9a259ee3",
   "metadata": {
    "papermill": {
     "duration": 0.008544,
     "end_time": "2025-01-28T08:00:19.572218",
     "exception": false,
     "start_time": "2025-01-28T08:00:19.563674",
     "status": "completed"
    },
    "tags": []
   },
   "outputs": [],
   "source": []
  }
 ],
 "metadata": {
  "kaggle": {
   "accelerator": "none",
   "dataSources": [],
   "dockerImageVersionId": 30839,
   "isGpuEnabled": false,
   "isInternetEnabled": true,
   "language": "python",
   "sourceType": "notebook"
  },
  "kernelspec": {
   "display_name": "Python 3",
   "language": "python",
   "name": "python3"
  },
  "language_info": {
   "codemirror_mode": {
    "name": "ipython",
    "version": 3
   },
   "file_extension": ".py",
   "mimetype": "text/x-python",
   "name": "python",
   "nbconvert_exporter": "python",
   "pygments_lexer": "ipython3",
   "version": "3.10.12"
  },
  "papermill": {
   "default_parameters": {},
   "duration": 21.918282,
   "end_time": "2025-01-28T08:00:20.101785",
   "environment_variables": {},
   "exception": null,
   "input_path": "__notebook__.ipynb",
   "output_path": "__notebook__.ipynb",
   "parameters": {},
   "start_time": "2025-01-28T07:59:58.183503",
   "version": "2.6.0"
  }
 },
 "nbformat": 4,
 "nbformat_minor": 5
}
