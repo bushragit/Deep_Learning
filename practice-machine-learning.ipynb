{
 "cells": [
  {
   "cell_type": "markdown",
   "id": "01dd427a",
   "metadata": {
    "papermill": {
     "duration": 0.019516,
     "end_time": "2025-02-04T03:18:19.886176",
     "exception": false,
     "start_time": "2025-02-04T03:18:19.866660",
     "status": "completed"
    },
    "tags": []
   },
   "source": [
    "sorr with corr  \n",
    "file read  \n",
    "assign diferent classes"
   ]
  },
  {
   "cell_type": "code",
   "execution_count": 1,
   "id": "a783487e",
   "metadata": {
    "execution": {
     "iopub.execute_input": "2025-02-04T03:18:19.924847Z",
     "iopub.status.busy": "2025-02-04T03:18:19.924458Z",
     "iopub.status.idle": "2025-02-04T03:18:22.233857Z",
     "shell.execute_reply": "2025-02-04T03:18:22.232817Z"
    },
    "papermill": {
     "duration": 2.331073,
     "end_time": "2025-02-04T03:18:22.235727",
     "exception": false,
     "start_time": "2025-02-04T03:18:19.904654",
     "status": "completed"
    },
    "tags": []
   },
   "outputs": [],
   "source": [
    "import seaborn as sns\n",
    "import numpy as np\n",
    "import matplotlib.pyplot as plt"
   ]
  },
  {
   "cell_type": "code",
   "execution_count": 2,
   "id": "c6d0cc6d",
   "metadata": {
    "execution": {
     "iopub.execute_input": "2025-02-04T03:18:22.275174Z",
     "iopub.status.busy": "2025-02-04T03:18:22.274643Z",
     "iopub.status.idle": "2025-02-04T03:18:22.278422Z",
     "shell.execute_reply": "2025-02-04T03:18:22.277441Z"
    },
    "papermill": {
     "duration": 0.025153,
     "end_time": "2025-02-04T03:18:22.280102",
     "exception": false,
     "start_time": "2025-02-04T03:18:22.254949",
     "status": "completed"
    },
    "tags": []
   },
   "outputs": [],
   "source": [
    "# pd.options.display.max_rows = None\n",
    "# pd.options.display.max_columns = None"
   ]
  },
  {
   "cell_type": "code",
   "execution_count": 3,
   "id": "431411e1",
   "metadata": {
    "execution": {
     "iopub.execute_input": "2025-02-04T03:18:22.318761Z",
     "iopub.status.busy": "2025-02-04T03:18:22.318434Z",
     "iopub.status.idle": "2025-02-04T03:18:23.593818Z",
     "shell.execute_reply": "2025-02-04T03:18:23.593036Z"
    },
    "papermill": {
     "duration": 1.296438,
     "end_time": "2025-02-04T03:18:23.595493",
     "exception": false,
     "start_time": "2025-02-04T03:18:22.299055",
     "status": "completed"
    },
    "tags": []
   },
   "outputs": [],
   "source": [
    "df = sns.load_dataset(\"titanic\")"
   ]
  },
  {
   "cell_type": "code",
   "execution_count": 4,
   "id": "ddf3645f",
   "metadata": {
    "execution": {
     "iopub.execute_input": "2025-02-04T03:18:23.633887Z",
     "iopub.status.busy": "2025-02-04T03:18:23.633494Z",
     "iopub.status.idle": "2025-02-04T03:18:23.639663Z",
     "shell.execute_reply": "2025-02-04T03:18:23.638722Z"
    },
    "papermill": {
     "duration": 0.026888,
     "end_time": "2025-02-04T03:18:23.641269",
     "exception": false,
     "start_time": "2025-02-04T03:18:23.614381",
     "status": "completed"
    },
    "tags": []
   },
   "outputs": [
    {
     "data": {
      "text/plain": [
       "pandas.core.frame.DataFrame"
      ]
     },
     "execution_count": 4,
     "metadata": {},
     "output_type": "execute_result"
    }
   ],
   "source": [
    "type(df)"
   ]
  },
  {
   "cell_type": "code",
   "execution_count": 5,
   "id": "1d0f5ff3",
   "metadata": {
    "execution": {
     "iopub.execute_input": "2025-02-04T03:18:23.679486Z",
     "iopub.status.busy": "2025-02-04T03:18:23.679152Z",
     "iopub.status.idle": "2025-02-04T03:18:23.684387Z",
     "shell.execute_reply": "2025-02-04T03:18:23.683607Z"
    },
    "papermill": {
     "duration": 0.025809,
     "end_time": "2025-02-04T03:18:23.685677",
     "exception": false,
     "start_time": "2025-02-04T03:18:23.659868",
     "status": "completed"
    },
    "tags": []
   },
   "outputs": [
    {
     "data": {
      "text/plain": [
       "(891, 15)"
      ]
     },
     "execution_count": 5,
     "metadata": {},
     "output_type": "execute_result"
    }
   ],
   "source": [
    "df.shape"
   ]
  },
  {
   "cell_type": "code",
   "execution_count": 6,
   "id": "5c8808b6",
   "metadata": {
    "execution": {
     "iopub.execute_input": "2025-02-04T03:18:23.723624Z",
     "iopub.status.busy": "2025-02-04T03:18:23.723290Z",
     "iopub.status.idle": "2025-02-04T03:18:23.748387Z",
     "shell.execute_reply": "2025-02-04T03:18:23.747096Z"
    },
    "papermill": {
     "duration": 0.045982,
     "end_time": "2025-02-04T03:18:23.750145",
     "exception": false,
     "start_time": "2025-02-04T03:18:23.704163",
     "status": "completed"
    },
    "tags": []
   },
   "outputs": [
    {
     "name": "stdout",
     "output_type": "stream",
     "text": [
      "<class 'pandas.core.frame.DataFrame'>\n",
      "RangeIndex: 891 entries, 0 to 890\n",
      "Data columns (total 15 columns):\n",
      " #   Column       Non-Null Count  Dtype   \n",
      "---  ------       --------------  -----   \n",
      " 0   survived     891 non-null    int64   \n",
      " 1   pclass       891 non-null    int64   \n",
      " 2   sex          891 non-null    object  \n",
      " 3   age          714 non-null    float64 \n",
      " 4   sibsp        891 non-null    int64   \n",
      " 5   parch        891 non-null    int64   \n",
      " 6   fare         891 non-null    float64 \n",
      " 7   embarked     889 non-null    object  \n",
      " 8   class        891 non-null    category\n",
      " 9   who          891 non-null    object  \n",
      " 10  adult_male   891 non-null    bool    \n",
      " 11  deck         203 non-null    category\n",
      " 12  embark_town  889 non-null    object  \n",
      " 13  alive        891 non-null    object  \n",
      " 14  alone        891 non-null    bool    \n",
      "dtypes: bool(2), category(2), float64(2), int64(4), object(5)\n",
      "memory usage: 80.7+ KB\n"
     ]
    }
   ],
   "source": [
    "df.info()"
   ]
  },
  {
   "cell_type": "code",
   "execution_count": 7,
   "id": "fcc8edf8",
   "metadata": {
    "execution": {
     "iopub.execute_input": "2025-02-04T03:18:23.788181Z",
     "iopub.status.busy": "2025-02-04T03:18:23.787827Z",
     "iopub.status.idle": "2025-02-04T03:18:23.795268Z",
     "shell.execute_reply": "2025-02-04T03:18:23.794476Z"
    },
    "papermill": {
     "duration": 0.028068,
     "end_time": "2025-02-04T03:18:23.796629",
     "exception": false,
     "start_time": "2025-02-04T03:18:23.768561",
     "status": "completed"
    },
    "tags": []
   },
   "outputs": [
    {
     "data": {
      "text/plain": [
       "survived         0\n",
       "pclass           0\n",
       "sex              0\n",
       "age            177\n",
       "sibsp            0\n",
       "parch            0\n",
       "fare             0\n",
       "embarked         2\n",
       "class            0\n",
       "who              0\n",
       "adult_male       0\n",
       "deck           688\n",
       "embark_town      2\n",
       "alive            0\n",
       "alone            0\n",
       "dtype: int64"
      ]
     },
     "execution_count": 7,
     "metadata": {},
     "output_type": "execute_result"
    }
   ],
   "source": [
    "df.isnull().sum()"
   ]
  },
  {
   "cell_type": "code",
   "execution_count": 8,
   "id": "6e2fb21e",
   "metadata": {
    "execution": {
     "iopub.execute_input": "2025-02-04T03:18:23.834854Z",
     "iopub.status.busy": "2025-02-04T03:18:23.834503Z",
     "iopub.status.idle": "2025-02-04T03:18:23.840044Z",
     "shell.execute_reply": "2025-02-04T03:18:23.839183Z"
    },
    "papermill": {
     "duration": 0.026194,
     "end_time": "2025-02-04T03:18:23.841466",
     "exception": false,
     "start_time": "2025-02-04T03:18:23.815272",
     "status": "completed"
    },
    "tags": []
   },
   "outputs": [],
   "source": [
    "missing_percentage =(df.isnull().sum()/len(df))*100"
   ]
  },
  {
   "cell_type": "code",
   "execution_count": 9,
   "id": "e359343b",
   "metadata": {
    "execution": {
     "iopub.execute_input": "2025-02-04T03:18:23.880426Z",
     "iopub.status.busy": "2025-02-04T03:18:23.880092Z",
     "iopub.status.idle": "2025-02-04T03:18:23.886654Z",
     "shell.execute_reply": "2025-02-04T03:18:23.885875Z"
    },
    "papermill": {
     "duration": 0.027638,
     "end_time": "2025-02-04T03:18:23.888210",
     "exception": false,
     "start_time": "2025-02-04T03:18:23.860572",
     "status": "completed"
    },
    "tags": []
   },
   "outputs": [
    {
     "data": {
      "text/plain": [
       "survived        0.000000\n",
       "pclass          0.000000\n",
       "sex             0.000000\n",
       "age            19.865320\n",
       "sibsp           0.000000\n",
       "parch           0.000000\n",
       "fare            0.000000\n",
       "embarked        0.224467\n",
       "class           0.000000\n",
       "who             0.000000\n",
       "adult_male      0.000000\n",
       "deck           77.216611\n",
       "embark_town     0.224467\n",
       "alive           0.000000\n",
       "alone           0.000000\n",
       "dtype: float64"
      ]
     },
     "execution_count": 9,
     "metadata": {},
     "output_type": "execute_result"
    }
   ],
   "source": [
    "missing_percentage"
   ]
  },
  {
   "cell_type": "code",
   "execution_count": 10,
   "id": "7b0747a2",
   "metadata": {
    "execution": {
     "iopub.execute_input": "2025-02-04T03:18:23.927419Z",
     "iopub.status.busy": "2025-02-04T03:18:23.927080Z",
     "iopub.status.idle": "2025-02-04T03:18:23.936030Z",
     "shell.execute_reply": "2025-02-04T03:18:23.934985Z"
    },
    "papermill": {
     "duration": 0.030293,
     "end_time": "2025-02-04T03:18:23.937560",
     "exception": false,
     "start_time": "2025-02-04T03:18:23.907267",
     "status": "completed"
    },
    "tags": []
   },
   "outputs": [],
   "source": [
    "df.drop(\"deck\", axis = 1, inplace=True)"
   ]
  },
  {
   "cell_type": "code",
   "execution_count": 11,
   "id": "046d7794",
   "metadata": {
    "execution": {
     "iopub.execute_input": "2025-02-04T03:18:23.978207Z",
     "iopub.status.busy": "2025-02-04T03:18:23.977636Z",
     "iopub.status.idle": "2025-02-04T03:18:23.985162Z",
     "shell.execute_reply": "2025-02-04T03:18:23.984081Z"
    },
    "papermill": {
     "duration": 0.02937,
     "end_time": "2025-02-04T03:18:23.986674",
     "exception": false,
     "start_time": "2025-02-04T03:18:23.957304",
     "status": "completed"
    },
    "tags": []
   },
   "outputs": [],
   "source": [
    "df.dropna(subset=\"embarked\", axis=0, inplace=True)"
   ]
  },
  {
   "cell_type": "code",
   "execution_count": 12,
   "id": "26765c7f",
   "metadata": {
    "execution": {
     "iopub.execute_input": "2025-02-04T03:18:24.026163Z",
     "iopub.status.busy": "2025-02-04T03:18:24.025755Z",
     "iopub.status.idle": "2025-02-04T03:18:24.034820Z",
     "shell.execute_reply": "2025-02-04T03:18:24.033904Z"
    },
    "papermill": {
     "duration": 0.030819,
     "end_time": "2025-02-04T03:18:24.036330",
     "exception": false,
     "start_time": "2025-02-04T03:18:24.005511",
     "status": "completed"
    },
    "tags": []
   },
   "outputs": [
    {
     "data": {
      "text/plain": [
       "111"
      ]
     },
     "execution_count": 12,
     "metadata": {},
     "output_type": "execute_result"
    }
   ],
   "source": [
    "df.duplicated().sum()"
   ]
  },
  {
   "cell_type": "code",
   "execution_count": 13,
   "id": "eabec1cb",
   "metadata": {
    "execution": {
     "iopub.execute_input": "2025-02-04T03:18:24.075455Z",
     "iopub.status.busy": "2025-02-04T03:18:24.075122Z",
     "iopub.status.idle": "2025-02-04T03:18:24.082307Z",
     "shell.execute_reply": "2025-02-04T03:18:24.081434Z"
    },
    "papermill": {
     "duration": 0.028626,
     "end_time": "2025-02-04T03:18:24.084034",
     "exception": false,
     "start_time": "2025-02-04T03:18:24.055408",
     "status": "completed"
    },
    "tags": []
   },
   "outputs": [],
   "source": [
    "df = df.drop_duplicates()"
   ]
  },
  {
   "cell_type": "code",
   "execution_count": 14,
   "id": "c9cba5c3",
   "metadata": {
    "execution": {
     "iopub.execute_input": "2025-02-04T03:18:24.124224Z",
     "iopub.status.busy": "2025-02-04T03:18:24.123858Z",
     "iopub.status.idle": "2025-02-04T03:18:24.129782Z",
     "shell.execute_reply": "2025-02-04T03:18:24.128860Z"
    },
    "papermill": {
     "duration": 0.02789,
     "end_time": "2025-02-04T03:18:24.131355",
     "exception": false,
     "start_time": "2025-02-04T03:18:24.103465",
     "status": "completed"
    },
    "tags": []
   },
   "outputs": [
    {
     "data": {
      "text/plain": [
       "29.752848664688425"
      ]
     },
     "execution_count": 14,
     "metadata": {},
     "output_type": "execute_result"
    }
   ],
   "source": [
    "df[\"age\"].mean()"
   ]
  },
  {
   "cell_type": "code",
   "execution_count": 15,
   "id": "34b97c65",
   "metadata": {
    "execution": {
     "iopub.execute_input": "2025-02-04T03:18:24.171530Z",
     "iopub.status.busy": "2025-02-04T03:18:24.171190Z",
     "iopub.status.idle": "2025-02-04T03:18:24.179770Z",
     "shell.execute_reply": "2025-02-04T03:18:24.178925Z"
    },
    "papermill": {
     "duration": 0.030944,
     "end_time": "2025-02-04T03:18:24.181303",
     "exception": false,
     "start_time": "2025-02-04T03:18:24.150359",
     "status": "completed"
    },
    "tags": []
   },
   "outputs": [
    {
     "data": {
      "text/plain": [
       "age\n",
       "24.00    29\n",
       "18.00    25\n",
       "22.00    24\n",
       "19.00    23\n",
       "28.00    22\n",
       "         ..\n",
       "36.50     1\n",
       "0.92      1\n",
       "23.50     1\n",
       "55.50     1\n",
       "74.00     1\n",
       "Name: count, Length: 88, dtype: int64"
      ]
     },
     "execution_count": 15,
     "metadata": {},
     "output_type": "execute_result"
    }
   ],
   "source": [
    "df[\"age\"].value_counts()"
   ]
  },
  {
   "cell_type": "code",
   "execution_count": 16,
   "id": "3ad07dbc",
   "metadata": {
    "execution": {
     "iopub.execute_input": "2025-02-04T03:18:24.272819Z",
     "iopub.status.busy": "2025-02-04T03:18:24.272399Z",
     "iopub.status.idle": "2025-02-04T03:18:24.276229Z",
     "shell.execute_reply": "2025-02-04T03:18:24.275409Z"
    },
    "papermill": {
     "duration": 0.077458,
     "end_time": "2025-02-04T03:18:24.277833",
     "exception": false,
     "start_time": "2025-02-04T03:18:24.200375",
     "status": "completed"
    },
    "tags": []
   },
   "outputs": [],
   "source": [
    "import matplotlib.pyplot as plt"
   ]
  },
  {
   "cell_type": "code",
   "execution_count": 17,
   "id": "375849aa",
   "metadata": {
    "execution": {
     "iopub.execute_input": "2025-02-04T03:18:24.317935Z",
     "iopub.status.busy": "2025-02-04T03:18:24.317556Z",
     "iopub.status.idle": "2025-02-04T03:18:24.628094Z",
     "shell.execute_reply": "2025-02-04T03:18:24.627012Z"
    },
    "papermill": {
     "duration": 0.332687,
     "end_time": "2025-02-04T03:18:24.629793",
     "exception": false,
     "start_time": "2025-02-04T03:18:24.297106",
     "status": "completed"
    },
    "tags": []
   },
   "outputs": [
    {
     "name": "stderr",
     "output_type": "stream",
     "text": [
      "/usr/local/lib/python3.10/dist-packages/seaborn/_oldcore.py:1119: FutureWarning: use_inf_as_na option is deprecated and will be removed in a future version. Convert inf values to NaN before operating instead.\n",
      "  with pd.option_context('mode.use_inf_as_na', True):\n"
     ]
    },
    {
     "data": {
      "text/plain": [
       "<Axes: xlabel='age', ylabel='Count'>"
      ]
     },
     "execution_count": 17,
     "metadata": {},
     "output_type": "execute_result"
    },
    {
     "data": {
      "image/png": "[encoded data removed]",
      "text/plain": [
       "<Figure size 640x480 with 1 Axes>"
      ]
     },
     "metadata": {},
     "output_type": "display_data"
    }
   ],
   "source": [
    "sns.histplot(df[\"age\"])"
   ]
  },
  {
   "cell_type": "code",
   "execution_count": 18,
   "id": "3bbf4c99",
   "metadata": {
    "execution": {
     "iopub.execute_input": "2025-02-04T03:18:24.670427Z",
     "iopub.status.busy": "2025-02-04T03:18:24.670054Z",
     "iopub.status.idle": "2025-02-04T03:18:24.675981Z",
     "shell.execute_reply": "2025-02-04T03:18:24.674890Z"
    },
    "papermill": {
     "duration": 0.028045,
     "end_time": "2025-02-04T03:18:24.677544",
     "exception": false,
     "start_time": "2025-02-04T03:18:24.649499",
     "status": "completed"
    },
    "tags": []
   },
   "outputs": [],
   "source": [
    "df[\"age\"]=df[\"age\"].fillna(df[\"age\"].mean())"
   ]
  },
  {
   "cell_type": "code",
   "execution_count": 19,
   "id": "f67cae75",
   "metadata": {
    "execution": {
     "iopub.execute_input": "2025-02-04T03:18:24.717854Z",
     "iopub.status.busy": "2025-02-04T03:18:24.717462Z",
     "iopub.status.idle": "2025-02-04T03:18:24.966265Z",
     "shell.execute_reply": "2025-02-04T03:18:24.965268Z"
    },
    "papermill": {
     "duration": 0.270658,
     "end_time": "2025-02-04T03:18:24.967928",
     "exception": false,
     "start_time": "2025-02-04T03:18:24.697270",
     "status": "completed"
    },
    "tags": []
   },
   "outputs": [
    {
     "name": "stderr",
     "output_type": "stream",
     "text": [
      "/usr/local/lib/python3.10/dist-packages/seaborn/_oldcore.py:1119: FutureWarning: use_inf_as_na option is deprecated and will be removed in a future version. Convert inf values to NaN before operating instead.\n",
      "  with pd.option_context('mode.use_inf_as_na', True):\n"
     ]
    },
    {
     "data": {
      "text/plain": [
       "<Axes: xlabel='age', ylabel='Count'>"
      ]
     },
     "execution_count": 19,
     "metadata": {},
     "output_type": "execute_result"
    },
    {
     "data": {
      "image/png": "[encoded data removed]",
      "text/plain": [
       "<Figure size 640x480 with 1 Axes>"
      ]
     },
     "metadata": {},
     "output_type": "display_data"
    }
   ],
   "source": [
    "sns.histplot(df[\"age\"])"
   ]
  },
  {
   "cell_type": "code",
   "execution_count": 20,
   "id": "e7742db7",
   "metadata": {
    "execution": {
     "iopub.execute_input": "2025-02-04T03:18:25.009450Z",
     "iopub.status.busy": "2025-02-04T03:18:25.009087Z",
     "iopub.status.idle": "2025-02-04T03:18:25.012784Z",
     "shell.execute_reply": "2025-02-04T03:18:25.011853Z"
    },
    "papermill": {
     "duration": 0.026394,
     "end_time": "2025-02-04T03:18:25.014535",
     "exception": false,
     "start_time": "2025-02-04T03:18:24.988141",
     "status": "completed"
    },
    "tags": []
   },
   "outputs": [],
   "source": [
    "# #removing outliers\n",
    "# Q1=np.percentile(data,25)\n",
    "# Q2=np.percentile(data,75)\n",
    "# IQR=Q3-Q1\n",
    "# UB=Q3+1.5*IQR\n",
    "# LB=-Q1-1.5*IQR\n"
   ]
  },
  {
   "cell_type": "code",
   "execution_count": 21,
   "id": "f6d60cf4",
   "metadata": {
    "execution": {
     "iopub.execute_input": "2025-02-04T03:18:25.056785Z",
     "iopub.status.busy": "2025-02-04T03:18:25.056453Z",
     "iopub.status.idle": "2025-02-04T03:18:25.061987Z",
     "shell.execute_reply": "2025-02-04T03:18:25.061191Z"
    },
    "papermill": {
     "duration": 0.028384,
     "end_time": "2025-02-04T03:18:25.063433",
     "exception": false,
     "start_time": "2025-02-04T03:18:25.035049",
     "status": "completed"
    },
    "tags": []
   },
   "outputs": [],
   "source": [
    "#removing outliers\n",
    "Q1=np.percentile(df[\"age\"],25)\n",
    "Q3=np.percentile(df[\"age\"],75)\n",
    "IQR=Q3-Q1\n",
    "UB=Q3+1.5*IQR\n",
    "LB=Q1-1.5*IQR"
   ]
  },
  {
   "cell_type": "code",
   "execution_count": 22,
   "id": "a8d5aa2b",
   "metadata": {
    "execution": {
     "iopub.execute_input": "2025-02-04T03:18:25.105959Z",
     "iopub.status.busy": "2025-02-04T03:18:25.105540Z",
     "iopub.status.idle": "2025-02-04T03:18:25.110726Z",
     "shell.execute_reply": "2025-02-04T03:18:25.109733Z"
    },
    "papermill": {
     "duration": 0.028244,
     "end_time": "2025-02-04T03:18:25.112220",
     "exception": false,
     "start_time": "2025-02-04T03:18:25.083976",
     "status": "completed"
    },
    "tags": []
   },
   "outputs": [
    {
     "name": "stdout",
     "output_type": "stream",
     "text": [
      "58.125\n",
      "-0.875\n"
     ]
    }
   ],
   "source": [
    "print(UB)\n",
    "print(LB)"
   ]
  },
  {
   "cell_type": "code",
   "execution_count": 23,
   "id": "c2eaa3d2",
   "metadata": {
    "execution": {
     "iopub.execute_input": "2025-02-04T03:18:25.155454Z",
     "iopub.status.busy": "2025-02-04T03:18:25.155102Z",
     "iopub.status.idle": "2025-02-04T03:18:25.161826Z",
     "shell.execute_reply": "2025-02-04T03:18:25.161031Z"
    },
    "papermill": {
     "duration": 0.029676,
     "end_time": "2025-02-04T03:18:25.163185",
     "exception": false,
     "start_time": "2025-02-04T03:18:25.133509",
     "status": "completed"
    },
    "tags": []
   },
   "outputs": [
    {
     "data": {
      "text/plain": [
       "0      22.000000\n",
       "1      38.000000\n",
       "2      26.000000\n",
       "3      35.000000\n",
       "4      35.000000\n",
       "         ...    \n",
       "885    39.000000\n",
       "887    19.000000\n",
       "888    29.752849\n",
       "889    26.000000\n",
       "890    32.000000\n",
       "Name: age, Length: 778, dtype: float64"
      ]
     },
     "execution_count": 23,
     "metadata": {},
     "output_type": "execute_result"
    }
   ],
   "source": [
    "df[\"age\"]"
   ]
  },
  {
   "cell_type": "code",
   "execution_count": 24,
   "id": "8332dff6",
   "metadata": {
    "execution": {
     "iopub.execute_input": "2025-02-04T03:18:25.205891Z",
     "iopub.status.busy": "2025-02-04T03:18:25.205490Z",
     "iopub.status.idle": "2025-02-04T03:18:25.212850Z",
     "shell.execute_reply": "2025-02-04T03:18:25.211747Z"
    },
    "papermill": {
     "duration": 0.030871,
     "end_time": "2025-02-04T03:18:25.214350",
     "exception": false,
     "start_time": "2025-02-04T03:18:25.183479",
     "status": "completed"
    },
    "tags": []
   },
   "outputs": [
    {
     "name": "stdout",
     "output_type": "stream",
     "text": [
      "0      True\n",
      "1      True\n",
      "2      True\n",
      "3      True\n",
      "4      True\n",
      "       ... \n",
      "885    True\n",
      "887    True\n",
      "888    True\n",
      "889    True\n",
      "890    True\n",
      "Name: age, Length: 778, dtype: bool\n",
      "0      False\n",
      "1      False\n",
      "2      False\n",
      "3      False\n",
      "4      False\n",
      "       ...  \n",
      "885    False\n",
      "887    False\n",
      "888    False\n",
      "889    False\n",
      "890    False\n",
      "Name: age, Length: 778, dtype: bool\n"
     ]
    }
   ],
   "source": [
    "print(df[\"age\"]<UB)\n",
    "print(df[\"age\"]>UB)\n"
   ]
  },
  {
   "cell_type": "code",
   "execution_count": 25,
   "id": "63a85e2e",
   "metadata": {
    "execution": {
     "iopub.execute_input": "2025-02-04T03:18:25.256999Z",
     "iopub.status.busy": "2025-02-04T03:18:25.256543Z",
     "iopub.status.idle": "2025-02-04T03:18:25.262371Z",
     "shell.execute_reply": "2025-02-04T03:18:25.261391Z"
    },
    "papermill": {
     "duration": 0.029214,
     "end_time": "2025-02-04T03:18:25.263887",
     "exception": false,
     "start_time": "2025-02-04T03:18:25.234673",
     "status": "completed"
    },
    "tags": []
   },
   "outputs": [
    {
     "name": "stdout",
     "output_type": "stream",
     "text": [
      "(array([ 33,  53,  89,  90, 109, 161, 217, 236, 257, 262, 302, 335, 396,\n",
      "       413, 434, 441, 486, 506, 522, 553, 558, 591, 602, 611, 655, 745]),)\n"
     ]
    }
   ],
   "source": [
    "print(np.where(df[\"age\"]>UB))"
   ]
  },
  {
   "cell_type": "code",
   "execution_count": 26,
   "id": "3970611c",
   "metadata": {
    "execution": {
     "iopub.execute_input": "2025-02-04T03:18:25.305820Z",
     "iopub.status.busy": "2025-02-04T03:18:25.305463Z",
     "iopub.status.idle": "2025-02-04T03:18:25.311075Z",
     "shell.execute_reply": "2025-02-04T03:18:25.309952Z"
    },
    "papermill": {
     "duration": 0.028266,
     "end_time": "2025-02-04T03:18:25.312690",
     "exception": false,
     "start_time": "2025-02-04T03:18:25.284424",
     "status": "completed"
    },
    "tags": []
   },
   "outputs": [
    {
     "name": "stdout",
     "output_type": "stream",
     "text": [
      "(array([], dtype=int64),)\n"
     ]
    }
   ],
   "source": [
    "print(np.where(df[\"age\"]<LB))"
   ]
  },
  {
   "cell_type": "code",
   "execution_count": 27,
   "id": "ffdf1829",
   "metadata": {
    "execution": {
     "iopub.execute_input": "2025-02-04T03:18:25.355716Z",
     "iopub.status.busy": "2025-02-04T03:18:25.355382Z",
     "iopub.status.idle": "2025-02-04T03:18:25.359034Z",
     "shell.execute_reply": "2025-02-04T03:18:25.357931Z"
    },
    "papermill": {
     "duration": 0.026732,
     "end_time": "2025-02-04T03:18:25.360626",
     "exception": false,
     "start_time": "2025-02-04T03:18:25.333894",
     "status": "completed"
    },
    "tags": []
   },
   "outputs": [],
   "source": [
    "#df[\"age\"] = np.where(df[\"age\"] > UB, UB, df[\"age\"])"
   ]
  },
  {
   "cell_type": "code",
   "execution_count": 28,
   "id": "3767a450",
   "metadata": {
    "execution": {
     "iopub.execute_input": "2025-02-04T03:18:25.403429Z",
     "iopub.status.busy": "2025-02-04T03:18:25.403063Z",
     "iopub.status.idle": "2025-02-04T03:18:25.409298Z",
     "shell.execute_reply": "2025-02-04T03:18:25.408286Z"
    },
    "papermill": {
     "duration": 0.029714,
     "end_time": "2025-02-04T03:18:25.410929",
     "exception": false,
     "start_time": "2025-02-04T03:18:25.381215",
     "status": "completed"
    },
    "tags": []
   },
   "outputs": [],
   "source": [
    "df = df.loc[(df[\"age\"] >= LB) & (df[\"age\"] <= UB)]  # ✅ Removes outliers\n"
   ]
  },
  {
   "cell_type": "code",
   "execution_count": 29,
   "id": "fa06bbdf",
   "metadata": {
    "execution": {
     "iopub.execute_input": "2025-02-04T03:18:25.453305Z",
     "iopub.status.busy": "2025-02-04T03:18:25.452969Z",
     "iopub.status.idle": "2025-02-04T03:18:25.477764Z",
     "shell.execute_reply": "2025-02-04T03:18:25.476767Z"
    },
    "papermill": {
     "duration": 0.047936,
     "end_time": "2025-02-04T03:18:25.479401",
     "exception": false,
     "start_time": "2025-02-04T03:18:25.431465",
     "status": "completed"
    },
    "tags": []
   },
   "outputs": [
    {
     "data": {
      "text/html": [
       "<div>\n",
       "<style scoped>\n",
       "    .dataframe tbody tr th:only-of-type {\n",
       "        vertical-align: middle;\n",
       "    }\n",
       "\n",
       "    .dataframe tbody tr th {\n",
       "        vertical-align: top;\n",
       "    }\n",
       "\n",
       "    .dataframe thead th {\n",
       "        text-align: right;\n",
       "    }\n",
       "</style>\n",
       "<table border=\"1\" class=\"dataframe\">\n",
       "  <thead>\n",
       "    <tr style=\"text-align: right;\">\n",
       "      <th></th>\n",
       "      <th>survived</th>\n",
       "      <th>pclass</th>\n",
       "      <th>sex</th>\n",
       "      <th>age</th>\n",
       "      <th>sibsp</th>\n",
       "      <th>parch</th>\n",
       "      <th>fare</th>\n",
       "      <th>embarked</th>\n",
       "      <th>class</th>\n",
       "      <th>who</th>\n",
       "      <th>adult_male</th>\n",
       "      <th>embark_town</th>\n",
       "      <th>alive</th>\n",
       "      <th>alone</th>\n",
       "    </tr>\n",
       "  </thead>\n",
       "  <tbody>\n",
       "    <tr>\n",
       "      <th>0</th>\n",
       "      <td>0</td>\n",
       "      <td>3</td>\n",
       "      <td>male</td>\n",
       "      <td>22.000000</td>\n",
       "      <td>1</td>\n",
       "      <td>0</td>\n",
       "      <td>7.2500</td>\n",
       "      <td>S</td>\n",
       "      <td>Third</td>\n",
       "      <td>man</td>\n",
       "      <td>True</td>\n",
       "      <td>Southampton</td>\n",
       "      <td>no</td>\n",
       "      <td>False</td>\n",
       "    </tr>\n",
       "    <tr>\n",
       "      <th>1</th>\n",
       "      <td>1</td>\n",
       "      <td>1</td>\n",
       "      <td>female</td>\n",
       "      <td>38.000000</td>\n",
       "      <td>1</td>\n",
       "      <td>0</td>\n",
       "      <td>71.2833</td>\n",
       "      <td>C</td>\n",
       "      <td>First</td>\n",
       "      <td>woman</td>\n",
       "      <td>False</td>\n",
       "      <td>Cherbourg</td>\n",
       "      <td>yes</td>\n",
       "      <td>False</td>\n",
       "    </tr>\n",
       "    <tr>\n",
       "      <th>2</th>\n",
       "      <td>1</td>\n",
       "      <td>3</td>\n",
       "      <td>female</td>\n",
       "      <td>26.000000</td>\n",
       "      <td>0</td>\n",
       "      <td>0</td>\n",
       "      <td>7.9250</td>\n",
       "      <td>S</td>\n",
       "      <td>Third</td>\n",
       "      <td>woman</td>\n",
       "      <td>False</td>\n",
       "      <td>Southampton</td>\n",
       "      <td>yes</td>\n",
       "      <td>True</td>\n",
       "    </tr>\n",
       "    <tr>\n",
       "      <th>3</th>\n",
       "      <td>1</td>\n",
       "      <td>1</td>\n",
       "      <td>female</td>\n",
       "      <td>35.000000</td>\n",
       "      <td>1</td>\n",
       "      <td>0</td>\n",
       "      <td>53.1000</td>\n",
       "      <td>S</td>\n",
       "      <td>First</td>\n",
       "      <td>woman</td>\n",
       "      <td>False</td>\n",
       "      <td>Southampton</td>\n",
       "      <td>yes</td>\n",
       "      <td>False</td>\n",
       "    </tr>\n",
       "    <tr>\n",
       "      <th>4</th>\n",
       "      <td>0</td>\n",
       "      <td>3</td>\n",
       "      <td>male</td>\n",
       "      <td>35.000000</td>\n",
       "      <td>0</td>\n",
       "      <td>0</td>\n",
       "      <td>8.0500</td>\n",
       "      <td>S</td>\n",
       "      <td>Third</td>\n",
       "      <td>man</td>\n",
       "      <td>True</td>\n",
       "      <td>Southampton</td>\n",
       "      <td>no</td>\n",
       "      <td>True</td>\n",
       "    </tr>\n",
       "    <tr>\n",
       "      <th>...</th>\n",
       "      <td>...</td>\n",
       "      <td>...</td>\n",
       "      <td>...</td>\n",
       "      <td>...</td>\n",
       "      <td>...</td>\n",
       "      <td>...</td>\n",
       "      <td>...</td>\n",
       "      <td>...</td>\n",
       "      <td>...</td>\n",
       "      <td>...</td>\n",
       "      <td>...</td>\n",
       "      <td>...</td>\n",
       "      <td>...</td>\n",
       "      <td>...</td>\n",
       "    </tr>\n",
       "    <tr>\n",
       "      <th>885</th>\n",
       "      <td>0</td>\n",
       "      <td>3</td>\n",
       "      <td>female</td>\n",
       "      <td>39.000000</td>\n",
       "      <td>0</td>\n",
       "      <td>5</td>\n",
       "      <td>29.1250</td>\n",
       "      <td>Q</td>\n",
       "      <td>Third</td>\n",
       "      <td>woman</td>\n",
       "      <td>False</td>\n",
       "      <td>Queenstown</td>\n",
       "      <td>no</td>\n",
       "      <td>False</td>\n",
       "    </tr>\n",
       "    <tr>\n",
       "      <th>887</th>\n",
       "      <td>1</td>\n",
       "      <td>1</td>\n",
       "      <td>female</td>\n",
       "      <td>19.000000</td>\n",
       "      <td>0</td>\n",
       "      <td>0</td>\n",
       "      <td>30.0000</td>\n",
       "      <td>S</td>\n",
       "      <td>First</td>\n",
       "      <td>woman</td>\n",
       "      <td>False</td>\n",
       "      <td>Southampton</td>\n",
       "      <td>yes</td>\n",
       "      <td>True</td>\n",
       "    </tr>\n",
       "    <tr>\n",
       "      <th>888</th>\n",
       "      <td>0</td>\n",
       "      <td>3</td>\n",
       "      <td>female</td>\n",
       "      <td>29.752849</td>\n",
       "      <td>1</td>\n",
       "      <td>2</td>\n",
       "      <td>23.4500</td>\n",
       "      <td>S</td>\n",
       "      <td>Third</td>\n",
       "      <td>woman</td>\n",
       "      <td>False</td>\n",
       "      <td>Southampton</td>\n",
       "      <td>no</td>\n",
       "      <td>False</td>\n",
       "    </tr>\n",
       "    <tr>\n",
       "      <th>889</th>\n",
       "      <td>1</td>\n",
       "      <td>1</td>\n",
       "      <td>male</td>\n",
       "      <td>26.000000</td>\n",
       "      <td>0</td>\n",
       "      <td>0</td>\n",
       "      <td>30.0000</td>\n",
       "      <td>C</td>\n",
       "      <td>First</td>\n",
       "      <td>man</td>\n",
       "      <td>True</td>\n",
       "      <td>Cherbourg</td>\n",
       "      <td>yes</td>\n",
       "      <td>True</td>\n",
       "    </tr>\n",
       "    <tr>\n",
       "      <th>890</th>\n",
       "      <td>0</td>\n",
       "      <td>3</td>\n",
       "      <td>male</td>\n",
       "      <td>32.000000</td>\n",
       "      <td>0</td>\n",
       "      <td>0</td>\n",
       "      <td>7.7500</td>\n",
       "      <td>Q</td>\n",
       "      <td>Third</td>\n",
       "      <td>man</td>\n",
       "      <td>True</td>\n",
       "      <td>Queenstown</td>\n",
       "      <td>no</td>\n",
       "      <td>True</td>\n",
       "    </tr>\n",
       "  </tbody>\n",
       "</table>\n",
       "<p>752 rows × 14 columns</p>\n",
       "</div>"
      ],
      "text/plain": [
       "     survived  pclass     sex        age  sibsp  parch     fare embarked  \\\n",
       "0           0       3    male  22.000000      1      0   7.2500        S   \n",
       "1           1       1  female  38.000000      1      0  71.2833        C   \n",
       "2           1       3  female  26.000000      0      0   7.9250        S   \n",
       "3           1       1  female  35.000000      1      0  53.1000        S   \n",
       "4           0       3    male  35.000000      0      0   8.0500        S   \n",
       "..        ...     ...     ...        ...    ...    ...      ...      ...   \n",
       "885         0       3  female  39.000000      0      5  29.1250        Q   \n",
       "887         1       1  female  19.000000      0      0  30.0000        S   \n",
       "888         0       3  female  29.752849      1      2  23.4500        S   \n",
       "889         1       1    male  26.000000      0      0  30.0000        C   \n",
       "890         0       3    male  32.000000      0      0   7.7500        Q   \n",
       "\n",
       "     class    who  adult_male  embark_town alive  alone  \n",
       "0    Third    man        True  Southampton    no  False  \n",
       "1    First  woman       False    Cherbourg   yes  False  \n",
       "2    Third  woman       False  Southampton   yes   True  \n",
       "3    First  woman       False  Southampton   yes  False  \n",
       "4    Third    man        True  Southampton    no   True  \n",
       "..     ...    ...         ...          ...   ...    ...  \n",
       "885  Third  woman       False   Queenstown    no  False  \n",
       "887  First  woman       False  Southampton   yes   True  \n",
       "888  Third  woman       False  Southampton    no  False  \n",
       "889  First    man        True    Cherbourg   yes   True  \n",
       "890  Third    man        True   Queenstown    no   True  \n",
       "\n",
       "[752 rows x 14 columns]"
      ]
     },
     "execution_count": 29,
     "metadata": {},
     "output_type": "execute_result"
    }
   ],
   "source": [
    "df"
   ]
  },
  {
   "cell_type": "code",
   "execution_count": 30,
   "id": "69f5df5e",
   "metadata": {
    "execution": {
     "iopub.execute_input": "2025-02-04T03:18:25.523133Z",
     "iopub.status.busy": "2025-02-04T03:18:25.522731Z",
     "iopub.status.idle": "2025-02-04T03:18:25.526449Z",
     "shell.execute_reply": "2025-02-04T03:18:25.525566Z"
    },
    "papermill": {
     "duration": 0.027521,
     "end_time": "2025-02-04T03:18:25.528108",
     "exception": false,
     "start_time": "2025-02-04T03:18:25.500587",
     "status": "completed"
    },
    "tags": []
   },
   "outputs": [],
   "source": [
    "# import pandas as pd\n",
    "\n",
    "# df = pd.DataFrame({'age': [18, 25, 30, 40]})\n",
    "# df[\"age_category\"] = df[\"age\"].apply(lambda x: \"Young\" if x < 30 else \"Adult\")\n",
    "# print(df)\n"
   ]
  },
  {
   "cell_type": "code",
   "execution_count": 31,
   "id": "08c460b8",
   "metadata": {
    "execution": {
     "iopub.execute_input": "2025-02-04T03:18:25.572183Z",
     "iopub.status.busy": "2025-02-04T03:18:25.571784Z",
     "iopub.status.idle": "2025-02-04T03:18:25.579023Z",
     "shell.execute_reply": "2025-02-04T03:18:25.578095Z"
    },
    "papermill": {
     "duration": 0.030607,
     "end_time": "2025-02-04T03:18:25.580565",
     "exception": false,
     "start_time": "2025-02-04T03:18:25.549958",
     "status": "completed"
    },
    "tags": []
   },
   "outputs": [
    {
     "data": {
      "text/plain": [
       "array([False,  True])"
      ]
     },
     "execution_count": 31,
     "metadata": {},
     "output_type": "execute_result"
    }
   ],
   "source": [
    "df[\"alone\"].unique()"
   ]
  },
  {
   "cell_type": "code",
   "execution_count": 32,
   "id": "fd1cd5f2",
   "metadata": {
    "execution": {
     "iopub.execute_input": "2025-02-04T03:18:25.623288Z",
     "iopub.status.busy": "2025-02-04T03:18:25.622946Z",
     "iopub.status.idle": "2025-02-04T03:18:25.629820Z",
     "shell.execute_reply": "2025-02-04T03:18:25.628904Z"
    },
    "papermill": {
     "duration": 0.030038,
     "end_time": "2025-02-04T03:18:25.631498",
     "exception": false,
     "start_time": "2025-02-04T03:18:25.601460",
     "status": "completed"
    },
    "tags": []
   },
   "outputs": [
    {
     "data": {
      "text/plain": [
       "alone\n",
       "True     421\n",
       "False    331\n",
       "Name: count, dtype: int64"
      ]
     },
     "execution_count": 32,
     "metadata": {},
     "output_type": "execute_result"
    }
   ],
   "source": [
    "df[\"alone\"].value_counts()"
   ]
  },
  {
   "cell_type": "code",
   "execution_count": 33,
   "id": "87056263",
   "metadata": {
    "execution": {
     "iopub.execute_input": "2025-02-04T03:18:25.675458Z",
     "iopub.status.busy": "2025-02-04T03:18:25.675118Z",
     "iopub.status.idle": "2025-02-04T03:18:25.680711Z",
     "shell.execute_reply": "2025-02-04T03:18:25.679840Z"
    },
    "papermill": {
     "duration": 0.029398,
     "end_time": "2025-02-04T03:18:25.682380",
     "exception": false,
     "start_time": "2025-02-04T03:18:25.652982",
     "status": "completed"
    },
    "tags": []
   },
   "outputs": [],
   "source": [
    "df[\"alone\"] = df[\"alone\"].map(lambda x: 0 if x == False else 1) #0 for no and 1 for yes"
   ]
  },
  {
   "cell_type": "code",
   "execution_count": 34,
   "id": "44971114",
   "metadata": {
    "execution": {
     "iopub.execute_input": "2025-02-04T03:18:25.726257Z",
     "iopub.status.busy": "2025-02-04T03:18:25.725927Z",
     "iopub.status.idle": "2025-02-04T03:18:25.731602Z",
     "shell.execute_reply": "2025-02-04T03:18:25.730782Z"
    },
    "papermill": {
     "duration": 0.029354,
     "end_time": "2025-02-04T03:18:25.733243",
     "exception": false,
     "start_time": "2025-02-04T03:18:25.703889",
     "status": "completed"
    },
    "tags": []
   },
   "outputs": [
    {
     "data": {
      "text/plain": [
       "array([0, 1])"
      ]
     },
     "execution_count": 34,
     "metadata": {},
     "output_type": "execute_result"
    }
   ],
   "source": [
    "df[\"alone\"].unique()"
   ]
  },
  {
   "cell_type": "code",
   "execution_count": 35,
   "id": "969c6316",
   "metadata": {
    "execution": {
     "iopub.execute_input": "2025-02-04T03:18:25.777155Z",
     "iopub.status.busy": "2025-02-04T03:18:25.776793Z",
     "iopub.status.idle": "2025-02-04T03:18:25.784750Z",
     "shell.execute_reply": "2025-02-04T03:18:25.783952Z"
    },
    "papermill": {
     "duration": 0.031304,
     "end_time": "2025-02-04T03:18:25.786237",
     "exception": false,
     "start_time": "2025-02-04T03:18:25.754933",
     "status": "completed"
    },
    "tags": []
   },
   "outputs": [
    {
     "data": {
      "text/plain": [
       "alone\n",
       "1    421\n",
       "0    331\n",
       "Name: count, dtype: int64"
      ]
     },
     "execution_count": 35,
     "metadata": {},
     "output_type": "execute_result"
    }
   ],
   "source": [
    "df[\"alone\"].value_counts()"
   ]
  },
  {
   "cell_type": "code",
   "execution_count": 36,
   "id": "8b776f21",
   "metadata": {
    "execution": {
     "iopub.execute_input": "2025-02-04T03:18:25.829993Z",
     "iopub.status.busy": "2025-02-04T03:18:25.829587Z",
     "iopub.status.idle": "2025-02-04T03:18:25.835207Z",
     "shell.execute_reply": "2025-02-04T03:18:25.834226Z"
    },
    "papermill": {
     "duration": 0.029454,
     "end_time": "2025-02-04T03:18:25.836765",
     "exception": false,
     "start_time": "2025-02-04T03:18:25.807311",
     "status": "completed"
    },
    "tags": []
   },
   "outputs": [
    {
     "data": {
      "text/plain": [
       "Index(['survived', 'pclass', 'sex', 'age', 'sibsp', 'parch', 'fare',\n",
       "       'embarked', 'class', 'who', 'adult_male', 'embark_town', 'alive',\n",
       "       'alone'],\n",
       "      dtype='object')"
      ]
     },
     "execution_count": 36,
     "metadata": {},
     "output_type": "execute_result"
    }
   ],
   "source": [
    "df.columns"
   ]
  },
  {
   "cell_type": "code",
   "execution_count": 37,
   "id": "65c35614",
   "metadata": {
    "execution": {
     "iopub.execute_input": "2025-02-04T03:18:25.881526Z",
     "iopub.status.busy": "2025-02-04T03:18:25.881178Z",
     "iopub.status.idle": "2025-02-04T03:18:25.886568Z",
     "shell.execute_reply": "2025-02-04T03:18:25.885608Z"
    },
    "papermill": {
     "duration": 0.029794,
     "end_time": "2025-02-04T03:18:25.888088",
     "exception": false,
     "start_time": "2025-02-04T03:18:25.858294",
     "status": "completed"
    },
    "tags": []
   },
   "outputs": [],
   "source": [
    "df.drop([\"sibsp\",\"parch\"], inplace=True, axis=1)"
   ]
  },
  {
   "cell_type": "code",
   "execution_count": 38,
   "id": "9ba686b1",
   "metadata": {
    "execution": {
     "iopub.execute_input": "2025-02-04T03:18:25.931323Z",
     "iopub.status.busy": "2025-02-04T03:18:25.930957Z",
     "iopub.status.idle": "2025-02-04T03:18:25.936715Z",
     "shell.execute_reply": "2025-02-04T03:18:25.935895Z"
    },
    "papermill": {
     "duration": 0.029133,
     "end_time": "2025-02-04T03:18:25.938259",
     "exception": false,
     "start_time": "2025-02-04T03:18:25.909126",
     "status": "completed"
    },
    "tags": []
   },
   "outputs": [
    {
     "data": {
      "text/plain": [
       "array(['male', 'female'], dtype=object)"
      ]
     },
     "execution_count": 38,
     "metadata": {},
     "output_type": "execute_result"
    }
   ],
   "source": [
    "df[\"sex\"].unique()"
   ]
  },
  {
   "cell_type": "code",
   "execution_count": 39,
   "id": "27a2ccbe",
   "metadata": {
    "execution": {
     "iopub.execute_input": "2025-02-04T03:18:25.981937Z",
     "iopub.status.busy": "2025-02-04T03:18:25.981559Z",
     "iopub.status.idle": "2025-02-04T03:18:25.988319Z",
     "shell.execute_reply": "2025-02-04T03:18:25.987505Z"
    },
    "papermill": {
     "duration": 0.030021,
     "end_time": "2025-02-04T03:18:25.989665",
     "exception": false,
     "start_time": "2025-02-04T03:18:25.959644",
     "status": "completed"
    },
    "tags": []
   },
   "outputs": [
    {
     "data": {
      "text/plain": [
       "sex\n",
       "male      465\n",
       "female    287\n",
       "Name: count, dtype: int64"
      ]
     },
     "execution_count": 39,
     "metadata": {},
     "output_type": "execute_result"
    }
   ],
   "source": [
    "df[\"sex\"].value_counts()"
   ]
  },
  {
   "cell_type": "code",
   "execution_count": 40,
   "id": "d6c13cf8",
   "metadata": {
    "execution": {
     "iopub.execute_input": "2025-02-04T03:18:26.033208Z",
     "iopub.status.busy": "2025-02-04T03:18:26.032849Z",
     "iopub.status.idle": "2025-02-04T03:18:26.036350Z",
     "shell.execute_reply": "2025-02-04T03:18:26.035526Z"
    },
    "papermill": {
     "duration": 0.026667,
     "end_time": "2025-02-04T03:18:26.037731",
     "exception": false,
     "start_time": "2025-02-04T03:18:26.011064",
     "status": "completed"
    },
    "tags": []
   },
   "outputs": [],
   "source": [
    "#df[\"alone\"] = df[\"alone\"].map(lambda x: 0 if x == False else 1)"
   ]
  },
  {
   "cell_type": "code",
   "execution_count": 41,
   "id": "519cd18b",
   "metadata": {
    "execution": {
     "iopub.execute_input": "2025-02-04T03:18:26.081633Z",
     "iopub.status.busy": "2025-02-04T03:18:26.081307Z",
     "iopub.status.idle": "2025-02-04T03:18:26.086191Z",
     "shell.execute_reply": "2025-02-04T03:18:26.085326Z"
    },
    "papermill": {
     "duration": 0.028598,
     "end_time": "2025-02-04T03:18:26.087722",
     "exception": false,
     "start_time": "2025-02-04T03:18:26.059124",
     "status": "completed"
    },
    "tags": []
   },
   "outputs": [],
   "source": [
    "df[\"sex\"]= df[\"sex\"].map(lambda x: 0 if x==\"male\" else 1) #0 for male and 1 for female"
   ]
  },
  {
   "cell_type": "code",
   "execution_count": 42,
   "id": "3d9542a6",
   "metadata": {
    "execution": {
     "iopub.execute_input": "2025-02-04T03:18:26.131512Z",
     "iopub.status.busy": "2025-02-04T03:18:26.131183Z",
     "iopub.status.idle": "2025-02-04T03:18:26.136740Z",
     "shell.execute_reply": "2025-02-04T03:18:26.135971Z"
    },
    "papermill": {
     "duration": 0.029088,
     "end_time": "2025-02-04T03:18:26.138186",
     "exception": false,
     "start_time": "2025-02-04T03:18:26.109098",
     "status": "completed"
    },
    "tags": []
   },
   "outputs": [
    {
     "data": {
      "text/plain": [
       "array([0, 1])"
      ]
     },
     "execution_count": 42,
     "metadata": {},
     "output_type": "execute_result"
    }
   ],
   "source": [
    "df[\"survived\"].unique()"
   ]
  },
  {
   "cell_type": "code",
   "execution_count": 43,
   "id": "8284fa3a",
   "metadata": {
    "execution": {
     "iopub.execute_input": "2025-02-04T03:18:26.182601Z",
     "iopub.status.busy": "2025-02-04T03:18:26.182274Z",
     "iopub.status.idle": "2025-02-04T03:18:26.187646Z",
     "shell.execute_reply": "2025-02-04T03:18:26.186888Z"
    },
    "papermill": {
     "duration": 0.02961,
     "end_time": "2025-02-04T03:18:26.189140",
     "exception": false,
     "start_time": "2025-02-04T03:18:26.159530",
     "status": "completed"
    },
    "tags": []
   },
   "outputs": [
    {
     "data": {
      "text/plain": [
       "array([3, 1, 2])"
      ]
     },
     "execution_count": 43,
     "metadata": {},
     "output_type": "execute_result"
    }
   ],
   "source": [
    "df[\"pclass\"].unique()"
   ]
  },
  {
   "cell_type": "code",
   "execution_count": 44,
   "id": "657ba9a1",
   "metadata": {
    "execution": {
     "iopub.execute_input": "2025-02-04T03:18:26.233631Z",
     "iopub.status.busy": "2025-02-04T03:18:26.233230Z",
     "iopub.status.idle": "2025-02-04T03:18:26.241235Z",
     "shell.execute_reply": "2025-02-04T03:18:26.240185Z"
    },
    "papermill": {
     "duration": 0.031755,
     "end_time": "2025-02-04T03:18:26.242820",
     "exception": false,
     "start_time": "2025-02-04T03:18:26.211065",
     "status": "completed"
    },
    "tags": []
   },
   "outputs": [
    {
     "data": {
      "text/plain": [
       "fare\n",
       "13.0000    31\n",
       "26.0000    29\n",
       "8.0500     25\n",
       "7.8958     20\n",
       "10.5000    20\n",
       "           ..\n",
       "32.5000     1\n",
       "6.8583      1\n",
       "12.6500     1\n",
       "8.6542      1\n",
       "10.5167     1\n",
       "Name: count, Length: 241, dtype: int64"
      ]
     },
     "execution_count": 44,
     "metadata": {},
     "output_type": "execute_result"
    }
   ],
   "source": [
    "df[\"fare\"].value_counts()"
   ]
  },
  {
   "cell_type": "code",
   "execution_count": 45,
   "id": "0d01721b",
   "metadata": {
    "execution": {
     "iopub.execute_input": "2025-02-04T03:18:26.287781Z",
     "iopub.status.busy": "2025-02-04T03:18:26.287421Z",
     "iopub.status.idle": "2025-02-04T03:18:26.640213Z",
     "shell.execute_reply": "2025-02-04T03:18:26.638901Z"
    },
    "papermill": {
     "duration": 0.377407,
     "end_time": "2025-02-04T03:18:26.642430",
     "exception": false,
     "start_time": "2025-02-04T03:18:26.265023",
     "status": "completed"
    },
    "tags": []
   },
   "outputs": [
    {
     "name": "stderr",
     "output_type": "stream",
     "text": [
      "/usr/local/lib/python3.10/dist-packages/seaborn/_oldcore.py:1119: FutureWarning: use_inf_as_na option is deprecated and will be removed in a future version. Convert inf values to NaN before operating instead.\n",
      "  with pd.option_context('mode.use_inf_as_na', True):\n"
     ]
    },
    {
     "data": {
      "text/plain": [
       "<Axes: xlabel='fare', ylabel='Count'>"
      ]
     },
     "execution_count": 45,
     "metadata": {},
     "output_type": "execute_result"
    },
    {
     "data": {
      "image/png": "[encoded data removed]",
      "text/plain": [
       "<Figure size 640x480 with 1 Axes>"
      ]
     },
     "metadata": {},
     "output_type": "display_data"
    }
   ],
   "source": [
    "sns.histplot(df[\"fare\"])"
   ]
  },
  {
   "cell_type": "code",
   "execution_count": 46,
   "id": "65a2abf4",
   "metadata": {
    "execution": {
     "iopub.execute_input": "2025-02-04T03:18:26.689989Z",
     "iopub.status.busy": "2025-02-04T03:18:26.689585Z",
     "iopub.status.idle": "2025-02-04T03:18:26.894025Z",
     "shell.execute_reply": "2025-02-04T03:18:26.892840Z"
    },
    "papermill": {
     "duration": 0.229737,
     "end_time": "2025-02-04T03:18:26.895925",
     "exception": false,
     "start_time": "2025-02-04T03:18:26.666188",
     "status": "completed"
    },
    "tags": []
   },
   "outputs": [
    {
     "data": {
      "text/plain": [
       "<matplotlib.collections.PathCollection at 0x7df9c760fcd0>"
      ]
     },
     "execution_count": 46,
     "metadata": {},
     "output_type": "execute_result"
    },
    {
     "data": {
      "image/png": "[encoded data removed]",
      "text/plain": [
       "<Figure size 640x480 with 1 Axes>"
      ]
     },
     "metadata": {},
     "output_type": "display_data"
    }
   ],
   "source": [
    "plt.scatter(x=df[\"pclass\"], y=df[\"fare\"])"
   ]
  },
  {
   "cell_type": "code",
   "execution_count": 47,
   "id": "e710ad8f",
   "metadata": {
    "execution": {
     "iopub.execute_input": "2025-02-04T03:18:26.948569Z",
     "iopub.status.busy": "2025-02-04T03:18:26.948229Z",
     "iopub.status.idle": "2025-02-04T03:18:26.964210Z",
     "shell.execute_reply": "2025-02-04T03:18:26.963252Z"
    },
    "papermill": {
     "duration": 0.041155,
     "end_time": "2025-02-04T03:18:26.965681",
     "exception": false,
     "start_time": "2025-02-04T03:18:26.924526",
     "status": "completed"
    },
    "tags": []
   },
   "outputs": [
    {
     "data": {
      "text/html": [
       "<div>\n",
       "<style scoped>\n",
       "    .dataframe tbody tr th:only-of-type {\n",
       "        vertical-align: middle;\n",
       "    }\n",
       "\n",
       "    .dataframe tbody tr th {\n",
       "        vertical-align: top;\n",
       "    }\n",
       "\n",
       "    .dataframe thead th {\n",
       "        text-align: right;\n",
       "    }\n",
       "</style>\n",
       "<table border=\"1\" class=\"dataframe\">\n",
       "  <thead>\n",
       "    <tr style=\"text-align: right;\">\n",
       "      <th></th>\n",
       "      <th>survived</th>\n",
       "      <th>pclass</th>\n",
       "      <th>sex</th>\n",
       "      <th>age</th>\n",
       "      <th>fare</th>\n",
       "      <th>embarked</th>\n",
       "      <th>class</th>\n",
       "      <th>who</th>\n",
       "      <th>adult_male</th>\n",
       "      <th>embark_town</th>\n",
       "      <th>alive</th>\n",
       "      <th>alone</th>\n",
       "    </tr>\n",
       "  </thead>\n",
       "  <tbody>\n",
       "    <tr>\n",
       "      <th>0</th>\n",
       "      <td>0</td>\n",
       "      <td>3</td>\n",
       "      <td>0</td>\n",
       "      <td>22.000000</td>\n",
       "      <td>7.2500</td>\n",
       "      <td>S</td>\n",
       "      <td>Third</td>\n",
       "      <td>man</td>\n",
       "      <td>True</td>\n",
       "      <td>Southampton</td>\n",
       "      <td>no</td>\n",
       "      <td>0</td>\n",
       "    </tr>\n",
       "    <tr>\n",
       "      <th>1</th>\n",
       "      <td>1</td>\n",
       "      <td>1</td>\n",
       "      <td>1</td>\n",
       "      <td>38.000000</td>\n",
       "      <td>71.2833</td>\n",
       "      <td>C</td>\n",
       "      <td>First</td>\n",
       "      <td>woman</td>\n",
       "      <td>False</td>\n",
       "      <td>Cherbourg</td>\n",
       "      <td>yes</td>\n",
       "      <td>0</td>\n",
       "    </tr>\n",
       "    <tr>\n",
       "      <th>2</th>\n",
       "      <td>1</td>\n",
       "      <td>3</td>\n",
       "      <td>1</td>\n",
       "      <td>26.000000</td>\n",
       "      <td>7.9250</td>\n",
       "      <td>S</td>\n",
       "      <td>Third</td>\n",
       "      <td>woman</td>\n",
       "      <td>False</td>\n",
       "      <td>Southampton</td>\n",
       "      <td>yes</td>\n",
       "      <td>1</td>\n",
       "    </tr>\n",
       "    <tr>\n",
       "      <th>3</th>\n",
       "      <td>1</td>\n",
       "      <td>1</td>\n",
       "      <td>1</td>\n",
       "      <td>35.000000</td>\n",
       "      <td>53.1000</td>\n",
       "      <td>S</td>\n",
       "      <td>First</td>\n",
       "      <td>woman</td>\n",
       "      <td>False</td>\n",
       "      <td>Southampton</td>\n",
       "      <td>yes</td>\n",
       "      <td>0</td>\n",
       "    </tr>\n",
       "    <tr>\n",
       "      <th>4</th>\n",
       "      <td>0</td>\n",
       "      <td>3</td>\n",
       "      <td>0</td>\n",
       "      <td>35.000000</td>\n",
       "      <td>8.0500</td>\n",
       "      <td>S</td>\n",
       "      <td>Third</td>\n",
       "      <td>man</td>\n",
       "      <td>True</td>\n",
       "      <td>Southampton</td>\n",
       "      <td>no</td>\n",
       "      <td>1</td>\n",
       "    </tr>\n",
       "    <tr>\n",
       "      <th>...</th>\n",
       "      <td>...</td>\n",
       "      <td>...</td>\n",
       "      <td>...</td>\n",
       "      <td>...</td>\n",
       "      <td>...</td>\n",
       "      <td>...</td>\n",
       "      <td>...</td>\n",
       "      <td>...</td>\n",
       "      <td>...</td>\n",
       "      <td>...</td>\n",
       "      <td>...</td>\n",
       "      <td>...</td>\n",
       "    </tr>\n",
       "    <tr>\n",
       "      <th>885</th>\n",
       "      <td>0</td>\n",
       "      <td>3</td>\n",
       "      <td>1</td>\n",
       "      <td>39.000000</td>\n",
       "      <td>29.1250</td>\n",
       "      <td>Q</td>\n",
       "      <td>Third</td>\n",
       "      <td>woman</td>\n",
       "      <td>False</td>\n",
       "      <td>Queenstown</td>\n",
       "      <td>no</td>\n",
       "      <td>0</td>\n",
       "    </tr>\n",
       "    <tr>\n",
       "      <th>887</th>\n",
       "      <td>1</td>\n",
       "      <td>1</td>\n",
       "      <td>1</td>\n",
       "      <td>19.000000</td>\n",
       "      <td>30.0000</td>\n",
       "      <td>S</td>\n",
       "      <td>First</td>\n",
       "      <td>woman</td>\n",
       "      <td>False</td>\n",
       "      <td>Southampton</td>\n",
       "      <td>yes</td>\n",
       "      <td>1</td>\n",
       "    </tr>\n",
       "    <tr>\n",
       "      <th>888</th>\n",
       "      <td>0</td>\n",
       "      <td>3</td>\n",
       "      <td>1</td>\n",
       "      <td>29.752849</td>\n",
       "      <td>23.4500</td>\n",
       "      <td>S</td>\n",
       "      <td>Third</td>\n",
       "      <td>woman</td>\n",
       "      <td>False</td>\n",
       "      <td>Southampton</td>\n",
       "      <td>no</td>\n",
       "      <td>0</td>\n",
       "    </tr>\n",
       "    <tr>\n",
       "      <th>889</th>\n",
       "      <td>1</td>\n",
       "      <td>1</td>\n",
       "      <td>0</td>\n",
       "      <td>26.000000</td>\n",
       "      <td>30.0000</td>\n",
       "      <td>C</td>\n",
       "      <td>First</td>\n",
       "      <td>man</td>\n",
       "      <td>True</td>\n",
       "      <td>Cherbourg</td>\n",
       "      <td>yes</td>\n",
       "      <td>1</td>\n",
       "    </tr>\n",
       "    <tr>\n",
       "      <th>890</th>\n",
       "      <td>0</td>\n",
       "      <td>3</td>\n",
       "      <td>0</td>\n",
       "      <td>32.000000</td>\n",
       "      <td>7.7500</td>\n",
       "      <td>Q</td>\n",
       "      <td>Third</td>\n",
       "      <td>man</td>\n",
       "      <td>True</td>\n",
       "      <td>Queenstown</td>\n",
       "      <td>no</td>\n",
       "      <td>1</td>\n",
       "    </tr>\n",
       "  </tbody>\n",
       "</table>\n",
       "<p>752 rows × 12 columns</p>\n",
       "</div>"
      ],
      "text/plain": [
       "     survived  pclass  sex        age     fare embarked  class    who  \\\n",
       "0           0       3    0  22.000000   7.2500        S  Third    man   \n",
       "1           1       1    1  38.000000  71.2833        C  First  woman   \n",
       "2           1       3    1  26.000000   7.9250        S  Third  woman   \n",
       "3           1       1    1  35.000000  53.1000        S  First  woman   \n",
       "4           0       3    0  35.000000   8.0500        S  Third    man   \n",
       "..        ...     ...  ...        ...      ...      ...    ...    ...   \n",
       "885         0       3    1  39.000000  29.1250        Q  Third  woman   \n",
       "887         1       1    1  19.000000  30.0000        S  First  woman   \n",
       "888         0       3    1  29.752849  23.4500        S  Third  woman   \n",
       "889         1       1    0  26.000000  30.0000        C  First    man   \n",
       "890         0       3    0  32.000000   7.7500        Q  Third    man   \n",
       "\n",
       "     adult_male  embark_town alive  alone  \n",
       "0          True  Southampton    no      0  \n",
       "1         False    Cherbourg   yes      0  \n",
       "2         False  Southampton   yes      1  \n",
       "3         False  Southampton   yes      0  \n",
       "4          True  Southampton    no      1  \n",
       "..          ...          ...   ...    ...  \n",
       "885       False   Queenstown    no      0  \n",
       "887       False  Southampton   yes      1  \n",
       "888       False  Southampton    no      0  \n",
       "889        True    Cherbourg   yes      1  \n",
       "890        True   Queenstown    no      1  \n",
       "\n",
       "[752 rows x 12 columns]"
      ]
     },
     "execution_count": 47,
     "metadata": {},
     "output_type": "execute_result"
    }
   ],
   "source": [
    "df"
   ]
  },
  {
   "cell_type": "code",
   "execution_count": 48,
   "id": "33a0cf6f",
   "metadata": {
    "execution": {
     "iopub.execute_input": "2025-02-04T03:18:27.013055Z",
     "iopub.status.busy": "2025-02-04T03:18:27.012645Z",
     "iopub.status.idle": "2025-02-04T03:18:27.018081Z",
     "shell.execute_reply": "2025-02-04T03:18:27.017362Z"
    },
    "papermill": {
     "duration": 0.030381,
     "end_time": "2025-02-04T03:18:27.019510",
     "exception": false,
     "start_time": "2025-02-04T03:18:26.989129",
     "status": "completed"
    },
    "tags": []
   },
   "outputs": [],
   "source": [
    "#removing outliers\n",
    "Q1=np.percentile(df[\"fare\"],25)\n",
    "Q3=np.percentile(df[\"fare\"],75)\n",
    "IQR=Q3-Q1\n",
    "UB=Q3+1.5*IQR\n",
    "LB=Q1-1.5*IQR"
   ]
  },
  {
   "cell_type": "code",
   "execution_count": 49,
   "id": "1a525928",
   "metadata": {
    "execution": {
     "iopub.execute_input": "2025-02-04T03:18:27.066052Z",
     "iopub.status.busy": "2025-02-04T03:18:27.065639Z",
     "iopub.status.idle": "2025-02-04T03:18:27.071307Z",
     "shell.execute_reply": "2025-02-04T03:18:27.070499Z"
    },
    "papermill": {
     "duration": 0.030391,
     "end_time": "2025-02-04T03:18:27.072695",
     "exception": false,
     "start_time": "2025-02-04T03:18:27.042304",
     "status": "completed"
    },
    "tags": []
   },
   "outputs": [],
   "source": [
    "df= df.loc[(df[\"fare\"]<=UB) & (df[\"fare\"]>=LB)]\n",
    "#df = df.loc[(df[\"age\"] >= LB) & (df[\"age\"] <= UB)]"
   ]
  },
  {
   "cell_type": "code",
   "execution_count": 50,
   "id": "7e63bef0",
   "metadata": {
    "execution": {
     "iopub.execute_input": "2025-02-04T03:18:27.120131Z",
     "iopub.status.busy": "2025-02-04T03:18:27.119776Z",
     "iopub.status.idle": "2025-02-04T03:18:27.135116Z",
     "shell.execute_reply": "2025-02-04T03:18:27.134277Z"
    },
    "papermill": {
     "duration": 0.040581,
     "end_time": "2025-02-04T03:18:27.136483",
     "exception": false,
     "start_time": "2025-02-04T03:18:27.095902",
     "status": "completed"
    },
    "tags": []
   },
   "outputs": [
    {
     "data": {
      "text/html": [
       "<div>\n",
       "<style scoped>\n",
       "    .dataframe tbody tr th:only-of-type {\n",
       "        vertical-align: middle;\n",
       "    }\n",
       "\n",
       "    .dataframe tbody tr th {\n",
       "        vertical-align: top;\n",
       "    }\n",
       "\n",
       "    .dataframe thead th {\n",
       "        text-align: right;\n",
       "    }\n",
       "</style>\n",
       "<table border=\"1\" class=\"dataframe\">\n",
       "  <thead>\n",
       "    <tr style=\"text-align: right;\">\n",
       "      <th></th>\n",
       "      <th>survived</th>\n",
       "      <th>pclass</th>\n",
       "      <th>sex</th>\n",
       "      <th>age</th>\n",
       "      <th>fare</th>\n",
       "      <th>embarked</th>\n",
       "      <th>class</th>\n",
       "      <th>who</th>\n",
       "      <th>adult_male</th>\n",
       "      <th>embark_town</th>\n",
       "      <th>alive</th>\n",
       "      <th>alone</th>\n",
       "    </tr>\n",
       "  </thead>\n",
       "  <tbody>\n",
       "    <tr>\n",
       "      <th>0</th>\n",
       "      <td>0</td>\n",
       "      <td>3</td>\n",
       "      <td>0</td>\n",
       "      <td>22.000000</td>\n",
       "      <td>7.2500</td>\n",
       "      <td>S</td>\n",
       "      <td>Third</td>\n",
       "      <td>man</td>\n",
       "      <td>True</td>\n",
       "      <td>Southampton</td>\n",
       "      <td>no</td>\n",
       "      <td>0</td>\n",
       "    </tr>\n",
       "    <tr>\n",
       "      <th>2</th>\n",
       "      <td>1</td>\n",
       "      <td>3</td>\n",
       "      <td>1</td>\n",
       "      <td>26.000000</td>\n",
       "      <td>7.9250</td>\n",
       "      <td>S</td>\n",
       "      <td>Third</td>\n",
       "      <td>woman</td>\n",
       "      <td>False</td>\n",
       "      <td>Southampton</td>\n",
       "      <td>yes</td>\n",
       "      <td>1</td>\n",
       "    </tr>\n",
       "    <tr>\n",
       "      <th>3</th>\n",
       "      <td>1</td>\n",
       "      <td>1</td>\n",
       "      <td>1</td>\n",
       "      <td>35.000000</td>\n",
       "      <td>53.1000</td>\n",
       "      <td>S</td>\n",
       "      <td>First</td>\n",
       "      <td>woman</td>\n",
       "      <td>False</td>\n",
       "      <td>Southampton</td>\n",
       "      <td>yes</td>\n",
       "      <td>0</td>\n",
       "    </tr>\n",
       "    <tr>\n",
       "      <th>4</th>\n",
       "      <td>0</td>\n",
       "      <td>3</td>\n",
       "      <td>0</td>\n",
       "      <td>35.000000</td>\n",
       "      <td>8.0500</td>\n",
       "      <td>S</td>\n",
       "      <td>Third</td>\n",
       "      <td>man</td>\n",
       "      <td>True</td>\n",
       "      <td>Southampton</td>\n",
       "      <td>no</td>\n",
       "      <td>1</td>\n",
       "    </tr>\n",
       "    <tr>\n",
       "      <th>5</th>\n",
       "      <td>0</td>\n",
       "      <td>3</td>\n",
       "      <td>0</td>\n",
       "      <td>29.752849</td>\n",
       "      <td>8.4583</td>\n",
       "      <td>Q</td>\n",
       "      <td>Third</td>\n",
       "      <td>man</td>\n",
       "      <td>True</td>\n",
       "      <td>Queenstown</td>\n",
       "      <td>no</td>\n",
       "      <td>1</td>\n",
       "    </tr>\n",
       "    <tr>\n",
       "      <th>...</th>\n",
       "      <td>...</td>\n",
       "      <td>...</td>\n",
       "      <td>...</td>\n",
       "      <td>...</td>\n",
       "      <td>...</td>\n",
       "      <td>...</td>\n",
       "      <td>...</td>\n",
       "      <td>...</td>\n",
       "      <td>...</td>\n",
       "      <td>...</td>\n",
       "      <td>...</td>\n",
       "      <td>...</td>\n",
       "    </tr>\n",
       "    <tr>\n",
       "      <th>885</th>\n",
       "      <td>0</td>\n",
       "      <td>3</td>\n",
       "      <td>1</td>\n",
       "      <td>39.000000</td>\n",
       "      <td>29.1250</td>\n",
       "      <td>Q</td>\n",
       "      <td>Third</td>\n",
       "      <td>woman</td>\n",
       "      <td>False</td>\n",
       "      <td>Queenstown</td>\n",
       "      <td>no</td>\n",
       "      <td>0</td>\n",
       "    </tr>\n",
       "    <tr>\n",
       "      <th>887</th>\n",
       "      <td>1</td>\n",
       "      <td>1</td>\n",
       "      <td>1</td>\n",
       "      <td>19.000000</td>\n",
       "      <td>30.0000</td>\n",
       "      <td>S</td>\n",
       "      <td>First</td>\n",
       "      <td>woman</td>\n",
       "      <td>False</td>\n",
       "      <td>Southampton</td>\n",
       "      <td>yes</td>\n",
       "      <td>1</td>\n",
       "    </tr>\n",
       "    <tr>\n",
       "      <th>888</th>\n",
       "      <td>0</td>\n",
       "      <td>3</td>\n",
       "      <td>1</td>\n",
       "      <td>29.752849</td>\n",
       "      <td>23.4500</td>\n",
       "      <td>S</td>\n",
       "      <td>Third</td>\n",
       "      <td>woman</td>\n",
       "      <td>False</td>\n",
       "      <td>Southampton</td>\n",
       "      <td>no</td>\n",
       "      <td>0</td>\n",
       "    </tr>\n",
       "    <tr>\n",
       "      <th>889</th>\n",
       "      <td>1</td>\n",
       "      <td>1</td>\n",
       "      <td>0</td>\n",
       "      <td>26.000000</td>\n",
       "      <td>30.0000</td>\n",
       "      <td>C</td>\n",
       "      <td>First</td>\n",
       "      <td>man</td>\n",
       "      <td>True</td>\n",
       "      <td>Cherbourg</td>\n",
       "      <td>yes</td>\n",
       "      <td>1</td>\n",
       "    </tr>\n",
       "    <tr>\n",
       "      <th>890</th>\n",
       "      <td>0</td>\n",
       "      <td>3</td>\n",
       "      <td>0</td>\n",
       "      <td>32.000000</td>\n",
       "      <td>7.7500</td>\n",
       "      <td>Q</td>\n",
       "      <td>Third</td>\n",
       "      <td>man</td>\n",
       "      <td>True</td>\n",
       "      <td>Queenstown</td>\n",
       "      <td>no</td>\n",
       "      <td>1</td>\n",
       "    </tr>\n",
       "  </tbody>\n",
       "</table>\n",
       "<p>654 rows × 12 columns</p>\n",
       "</div>"
      ],
      "text/plain": [
       "     survived  pclass  sex        age     fare embarked  class    who  \\\n",
       "0           0       3    0  22.000000   7.2500        S  Third    man   \n",
       "2           1       3    1  26.000000   7.9250        S  Third  woman   \n",
       "3           1       1    1  35.000000  53.1000        S  First  woman   \n",
       "4           0       3    0  35.000000   8.0500        S  Third    man   \n",
       "5           0       3    0  29.752849   8.4583        Q  Third    man   \n",
       "..        ...     ...  ...        ...      ...      ...    ...    ...   \n",
       "885         0       3    1  39.000000  29.1250        Q  Third  woman   \n",
       "887         1       1    1  19.000000  30.0000        S  First  woman   \n",
       "888         0       3    1  29.752849  23.4500        S  Third  woman   \n",
       "889         1       1    0  26.000000  30.0000        C  First    man   \n",
       "890         0       3    0  32.000000   7.7500        Q  Third    man   \n",
       "\n",
       "     adult_male  embark_town alive  alone  \n",
       "0          True  Southampton    no      0  \n",
       "2         False  Southampton   yes      1  \n",
       "3         False  Southampton   yes      0  \n",
       "4          True  Southampton    no      1  \n",
       "5          True   Queenstown    no      1  \n",
       "..          ...          ...   ...    ...  \n",
       "885       False   Queenstown    no      0  \n",
       "887       False  Southampton   yes      1  \n",
       "888       False  Southampton    no      0  \n",
       "889        True    Cherbourg   yes      1  \n",
       "890        True   Queenstown    no      1  \n",
       "\n",
       "[654 rows x 12 columns]"
      ]
     },
     "execution_count": 50,
     "metadata": {},
     "output_type": "execute_result"
    }
   ],
   "source": [
    "df"
   ]
  },
  {
   "cell_type": "code",
   "execution_count": 51,
   "id": "42f97d7d",
   "metadata": {
    "execution": {
     "iopub.execute_input": "2025-02-04T03:18:27.184526Z",
     "iopub.status.busy": "2025-02-04T03:18:27.184174Z",
     "iopub.status.idle": "2025-02-04T03:18:27.436987Z",
     "shell.execute_reply": "2025-02-04T03:18:27.436043Z"
    },
    "papermill": {
     "duration": 0.278545,
     "end_time": "2025-02-04T03:18:27.438514",
     "exception": false,
     "start_time": "2025-02-04T03:18:27.159969",
     "status": "completed"
    },
    "tags": []
   },
   "outputs": [
    {
     "name": "stderr",
     "output_type": "stream",
     "text": [
      "/usr/local/lib/python3.10/dist-packages/seaborn/_oldcore.py:1119: FutureWarning: use_inf_as_na option is deprecated and will be removed in a future version. Convert inf values to NaN before operating instead.\n",
      "  with pd.option_context('mode.use_inf_as_na', True):\n"
     ]
    },
    {
     "data": {
      "text/plain": [
       "<Axes: xlabel='fare', ylabel='Count'>"
      ]
     },
     "execution_count": 51,
     "metadata": {},
     "output_type": "execute_result"
    },
    {
     "data": {
      "image/png": "[encoded data removed]",
      "text/plain": [
       "<Figure size 640x480 with 1 Axes>"
      ]
     },
     "metadata": {},
     "output_type": "display_data"
    }
   ],
   "source": [
    "sns.histplot(df[\"fare\"])"
   ]
  },
  {
   "cell_type": "code",
   "execution_count": 52,
   "id": "5b215f1a",
   "metadata": {
    "execution": {
     "iopub.execute_input": "2025-02-04T03:18:27.489307Z",
     "iopub.status.busy": "2025-02-04T03:18:27.488943Z",
     "iopub.status.idle": "2025-02-04T03:18:27.494882Z",
     "shell.execute_reply": "2025-02-04T03:18:27.493858Z"
    },
    "papermill": {
     "duration": 0.033522,
     "end_time": "2025-02-04T03:18:27.496444",
     "exception": false,
     "start_time": "2025-02-04T03:18:27.462922",
     "status": "completed"
    },
    "tags": []
   },
   "outputs": [
    {
     "name": "stderr",
     "output_type": "stream",
     "text": [
      "<ipython-input-52-ce936371e026>:1: SettingWithCopyWarning: \n",
      "A value is trying to be set on a copy of a slice from a DataFrame\n",
      "\n",
      "See the caveats in the documentation: https://pandas.pydata.org/pandas-docs/stable/user_guide/indexing.html#returning-a-view-versus-a-copy\n",
      "  df.drop([\"class\"], inplace=True, axis=1)\n"
     ]
    }
   ],
   "source": [
    "df.drop([\"class\"], inplace=True, axis=1)"
   ]
  },
  {
   "cell_type": "code",
   "execution_count": 53,
   "id": "3b055879",
   "metadata": {
    "execution": {
     "iopub.execute_input": "2025-02-04T03:18:27.545356Z",
     "iopub.status.busy": "2025-02-04T03:18:27.545009Z",
     "iopub.status.idle": "2025-02-04T03:18:27.550770Z",
     "shell.execute_reply": "2025-02-04T03:18:27.549732Z"
    },
    "papermill": {
     "duration": 0.03203,
     "end_time": "2025-02-04T03:18:27.552460",
     "exception": false,
     "start_time": "2025-02-04T03:18:27.520430",
     "status": "completed"
    },
    "tags": []
   },
   "outputs": [
    {
     "name": "stderr",
     "output_type": "stream",
     "text": [
      "<ipython-input-53-965b5bc3c470>:1: SettingWithCopyWarning: \n",
      "A value is trying to be set on a copy of a slice from a DataFrame\n",
      "\n",
      "See the caveats in the documentation: https://pandas.pydata.org/pandas-docs/stable/user_guide/indexing.html#returning-a-view-versus-a-copy\n",
      "  df.drop([\"embark_town\",\"adult_male\",\"alive\",\"who\"], inplace=True, axis=1)\n"
     ]
    }
   ],
   "source": [
    "df.drop([\"embark_town\",\"adult_male\",\"alive\",\"who\"], inplace=True, axis=1)"
   ]
  },
  {
   "cell_type": "code",
   "execution_count": 54,
   "id": "8d54e3ae",
   "metadata": {
    "execution": {
     "iopub.execute_input": "2025-02-04T03:18:27.602205Z",
     "iopub.status.busy": "2025-02-04T03:18:27.601790Z",
     "iopub.status.idle": "2025-02-04T03:18:27.608161Z",
     "shell.execute_reply": "2025-02-04T03:18:27.607000Z"
    },
    "papermill": {
     "duration": 0.033124,
     "end_time": "2025-02-04T03:18:27.609547",
     "exception": false,
     "start_time": "2025-02-04T03:18:27.576423",
     "status": "completed"
    },
    "tags": []
   },
   "outputs": [
    {
     "name": "stderr",
     "output_type": "stream",
     "text": [
      "<ipython-input-54-a966e910edb6>:1: SettingWithCopyWarning: \n",
      "A value is trying to be set on a copy of a slice from a DataFrame.\n",
      "Try using .loc[row_indexer,col_indexer] = value instead\n",
      "\n",
      "See the caveats in the documentation: https://pandas.pydata.org/pandas-docs/stable/user_guide/indexing.html#returning-a-view-versus-a-copy\n",
      "  df[\"embarked\"] = df[\"embarked\"].apply(lambda x: 0 if x==\"S\" else(1 if x==\"Q\" else 2))\n"
     ]
    }
   ],
   "source": [
    "df[\"embarked\"] = df[\"embarked\"].apply(lambda x: 0 if x==\"S\" else(1 if x==\"Q\" else 2))"
   ]
  },
  {
   "cell_type": "code",
   "execution_count": 55,
   "id": "ce3e34ba",
   "metadata": {
    "execution": {
     "iopub.execute_input": "2025-02-04T03:18:27.659268Z",
     "iopub.status.busy": "2025-02-04T03:18:27.658913Z",
     "iopub.status.idle": "2025-02-04T03:18:27.664782Z",
     "shell.execute_reply": "2025-02-04T03:18:27.663863Z"
    },
    "papermill": {
     "duration": 0.032242,
     "end_time": "2025-02-04T03:18:27.666303",
     "exception": false,
     "start_time": "2025-02-04T03:18:27.634061",
     "status": "completed"
    },
    "tags": []
   },
   "outputs": [
    {
     "data": {
      "text/plain": [
       "array([0, 1, 2])"
      ]
     },
     "execution_count": 55,
     "metadata": {},
     "output_type": "execute_result"
    }
   ],
   "source": [
    "df[\"embarked\"].unique()"
   ]
  },
  {
   "cell_type": "code",
   "execution_count": 56,
   "id": "ee415dde",
   "metadata": {
    "execution": {
     "iopub.execute_input": "2025-02-04T03:18:27.715598Z",
     "iopub.status.busy": "2025-02-04T03:18:27.715247Z",
     "iopub.status.idle": "2025-02-04T03:18:27.721847Z",
     "shell.execute_reply": "2025-02-04T03:18:27.721043Z"
    },
    "papermill": {
     "duration": 0.033086,
     "end_time": "2025-02-04T03:18:27.723377",
     "exception": false,
     "start_time": "2025-02-04T03:18:27.690291",
     "status": "completed"
    },
    "tags": []
   },
   "outputs": [
    {
     "data": {
      "text/plain": [
       "embarked\n",
       "0    498\n",
       "2    102\n",
       "1     54\n",
       "Name: count, dtype: int64"
      ]
     },
     "execution_count": 56,
     "metadata": {},
     "output_type": "execute_result"
    }
   ],
   "source": [
    "df[\"embarked\"].value_counts()"
   ]
  },
  {
   "cell_type": "code",
   "execution_count": 57,
   "id": "a02c7e93",
   "metadata": {
    "execution": {
     "iopub.execute_input": "2025-02-04T03:18:27.773216Z",
     "iopub.status.busy": "2025-02-04T03:18:27.772826Z",
     "iopub.status.idle": "2025-02-04T03:18:27.776787Z",
     "shell.execute_reply": "2025-02-04T03:18:27.775747Z"
    },
    "papermill": {
     "duration": 0.030635,
     "end_time": "2025-02-04T03:18:27.778351",
     "exception": false,
     "start_time": "2025-02-04T03:18:27.747716",
     "status": "completed"
    },
    "tags": []
   },
   "outputs": [],
   "source": [
    "# reason_columns = pd.get_dummies(df['Reason for Absence'], drop_first=True)\n",
    "# reason_columns"
   ]
  },
  {
   "cell_type": "code",
   "execution_count": 58,
   "id": "94ea89a5",
   "metadata": {
    "execution": {
     "iopub.execute_input": "2025-02-04T03:18:27.827737Z",
     "iopub.status.busy": "2025-02-04T03:18:27.827405Z",
     "iopub.status.idle": "2025-02-04T03:18:27.835739Z",
     "shell.execute_reply": "2025-02-04T03:18:27.834897Z"
    },
    "papermill": {
     "duration": 0.034717,
     "end_time": "2025-02-04T03:18:27.837221",
     "exception": false,
     "start_time": "2025-02-04T03:18:27.802504",
     "status": "completed"
    },
    "tags": []
   },
   "outputs": [
    {
     "data": {
      "text/plain": [
       "count    654.000000\n",
       "mean      19.213404\n",
       "std       14.440023\n",
       "min        0.000000\n",
       "25%        7.895800\n",
       "50%       13.000000\n",
       "75%       26.274975\n",
       "max       69.550000\n",
       "Name: fare, dtype: float64"
      ]
     },
     "execution_count": 58,
     "metadata": {},
     "output_type": "execute_result"
    }
   ],
   "source": [
    "df[\"fare\"].describe()"
   ]
  },
  {
   "cell_type": "code",
   "execution_count": 59,
   "id": "9fbc2dd3",
   "metadata": {
    "execution": {
     "iopub.execute_input": "2025-02-04T03:18:27.887453Z",
     "iopub.status.busy": "2025-02-04T03:18:27.887123Z",
     "iopub.status.idle": "2025-02-04T03:18:27.890493Z",
     "shell.execute_reply": "2025-02-04T03:18:27.889726Z"
    },
    "papermill": {
     "duration": 0.030486,
     "end_time": "2025-02-04T03:18:27.892013",
     "exception": false,
     "start_time": "2025-02-04T03:18:27.861527",
     "status": "completed"
    },
    "tags": []
   },
   "outputs": [],
   "source": [
    "# reason_type_1 = reason_columns.loc[:, 1:14].max(axis=1)\n",
    "# reason_type_2 = reason_columns.loc[:, 15:17].max(axis=1)\n",
    "# reason_type_3 = reason_columns.loc[:, 18:21].max(axis=1)\n",
    "# reason_type_4 = reason_columns.loc[:, 22:28].max(axis=1)"
   ]
  },
  {
   "cell_type": "code",
   "execution_count": 60,
   "id": "7864f0b7",
   "metadata": {
    "execution": {
     "iopub.execute_input": "2025-02-04T03:18:27.942223Z",
     "iopub.status.busy": "2025-02-04T03:18:27.941878Z",
     "iopub.status.idle": "2025-02-04T03:18:27.945417Z",
     "shell.execute_reply": "2025-02-04T03:18:27.944576Z"
    },
    "papermill": {
     "duration": 0.03014,
     "end_time": "2025-02-04T03:18:27.946838",
     "exception": false,
     "start_time": "2025-02-04T03:18:27.916698",
     "status": "completed"
    },
    "tags": []
   },
   "outputs": [],
   "source": [
    "#df = pd.concat([df, reason_type_1, reason_type_2, reason_type_3, reason_type_4], axis=1)"
   ]
  },
  {
   "cell_type": "code",
   "execution_count": 61,
   "id": "fe79702a",
   "metadata": {
    "execution": {
     "iopub.execute_input": "2025-02-04T03:18:27.995923Z",
     "iopub.status.busy": "2025-02-04T03:18:27.995533Z",
     "iopub.status.idle": "2025-02-04T03:18:27.999025Z",
     "shell.execute_reply": "2025-02-04T03:18:27.998210Z"
    },
    "papermill": {
     "duration": 0.029518,
     "end_time": "2025-02-04T03:18:28.000479",
     "exception": false,
     "start_time": "2025-02-04T03:18:27.970961",
     "status": "completed"
    },
    "tags": []
   },
   "outputs": [],
   "source": [
    "#sorted(df['Reason for Absence'].unique())"
   ]
  },
  {
   "cell_type": "code",
   "execution_count": 62,
   "id": "24b32849",
   "metadata": {
    "execution": {
     "iopub.execute_input": "2025-02-04T03:18:28.050965Z",
     "iopub.status.busy": "2025-02-04T03:18:28.050586Z",
     "iopub.status.idle": "2025-02-04T03:18:28.054199Z",
     "shell.execute_reply": "2025-02-04T03:18:28.053360Z"
    },
    "papermill": {
     "duration": 0.030244,
     "end_time": "2025-02-04T03:18:28.055618",
     "exception": false,
     "start_time": "2025-02-04T03:18:28.025374",
     "status": "completed"
    },
    "tags": []
   },
   "outputs": [],
   "source": [
    "#df.columns = new_columns"
   ]
  },
  {
   "cell_type": "code",
   "execution_count": 63,
   "id": "768df60f",
   "metadata": {
    "execution": {
     "iopub.execute_input": "2025-02-04T03:18:28.105175Z",
     "iopub.status.busy": "2025-02-04T03:18:28.104757Z",
     "iopub.status.idle": "2025-02-04T03:18:28.629486Z",
     "shell.execute_reply": "2025-02-04T03:18:28.628501Z"
    },
    "papermill": {
     "duration": 0.551623,
     "end_time": "2025-02-04T03:18:28.631572",
     "exception": false,
     "start_time": "2025-02-04T03:18:28.079949",
     "status": "completed"
    },
    "tags": []
   },
   "outputs": [
    {
     "data": {
      "image/png": "[encoded data removed]",
      "text/plain": [
       "<Figure size 1000x600 with 2 Axes>"
      ]
     },
     "metadata": {},
     "output_type": "display_data"
    }
   ],
   "source": [
    "sns.set(style=\"whitegrid\")\n",
    "plt.figure(figsize=(10, 6))\n",
    "sns.heatmap(df.corr(numeric_only=True), annot=True, cmap='Greens')\n",
    "plt.title('Distribution plot')\n",
    "plt.show()"
   ]
  },
  {
   "cell_type": "code",
   "execution_count": 64,
   "id": "506bbb08",
   "metadata": {
    "execution": {
     "iopub.execute_input": "2025-02-04T03:18:28.687897Z",
     "iopub.status.busy": "2025-02-04T03:18:28.687507Z",
     "iopub.status.idle": "2025-02-04T03:18:28.693481Z",
     "shell.execute_reply": "2025-02-04T03:18:28.692530Z"
    },
    "papermill": {
     "duration": 0.036738,
     "end_time": "2025-02-04T03:18:28.695049",
     "exception": false,
     "start_time": "2025-02-04T03:18:28.658311",
     "status": "completed"
    },
    "tags": []
   },
   "outputs": [
    {
     "data": {
      "text/plain": [
       "array([0, 1])"
      ]
     },
     "execution_count": 64,
     "metadata": {},
     "output_type": "execute_result"
    }
   ],
   "source": [
    "df[\"sex\"].unique()"
   ]
  },
  {
   "cell_type": "code",
   "execution_count": 65,
   "id": "c5755694",
   "metadata": {
    "execution": {
     "iopub.execute_input": "2025-02-04T03:18:28.747904Z",
     "iopub.status.busy": "2025-02-04T03:18:28.747539Z",
     "iopub.status.idle": "2025-02-04T03:18:29.053957Z",
     "shell.execute_reply": "2025-02-04T03:18:29.053127Z"
    },
    "papermill": {
     "duration": 0.334632,
     "end_time": "2025-02-04T03:18:29.055690",
     "exception": false,
     "start_time": "2025-02-04T03:18:28.721058",
     "status": "completed"
    },
    "tags": []
   },
   "outputs": [],
   "source": [
    "from sklearn.linear_model import LinearRegression, LogisticRegression\n",
    "from sklearn.model_selection import train_test_split"
   ]
  },
  {
   "cell_type": "markdown",
   "id": "2657e5b2",
   "metadata": {
    "papermill": {
     "duration": 0.025555,
     "end_time": "2025-02-04T03:18:29.107750",
     "exception": false,
     "start_time": "2025-02-04T03:18:29.082195",
     "status": "completed"
    },
    "tags": []
   },
   "source": [
    "#### simple linear regression"
   ]
  },
  {
   "cell_type": "code",
   "execution_count": 66,
   "id": "fc319348",
   "metadata": {
    "execution": {
     "iopub.execute_input": "2025-02-04T03:18:29.161775Z",
     "iopub.status.busy": "2025-02-04T03:18:29.161430Z",
     "iopub.status.idle": "2025-02-04T03:18:29.165068Z",
     "shell.execute_reply": "2025-02-04T03:18:29.164292Z"
    },
    "papermill": {
     "duration": 0.032504,
     "end_time": "2025-02-04T03:18:29.166554",
     "exception": false,
     "start_time": "2025-02-04T03:18:29.134050",
     "status": "completed"
    },
    "tags": []
   },
   "outputs": [],
   "source": [
    "lr = LinearRegression()"
   ]
  },
  {
   "cell_type": "code",
   "execution_count": 67,
   "id": "2d39529d",
   "metadata": {
    "execution": {
     "iopub.execute_input": "2025-02-04T03:18:29.219412Z",
     "iopub.status.busy": "2025-02-04T03:18:29.219077Z",
     "iopub.status.idle": "2025-02-04T03:18:29.223085Z",
     "shell.execute_reply": "2025-02-04T03:18:29.222123Z"
    },
    "papermill": {
     "duration": 0.031941,
     "end_time": "2025-02-04T03:18:29.224544",
     "exception": false,
     "start_time": "2025-02-04T03:18:29.192603",
     "status": "completed"
    },
    "tags": []
   },
   "outputs": [],
   "source": [
    "x=df[\"fare\"]"
   ]
  },
  {
   "cell_type": "code",
   "execution_count": 68,
   "id": "d6d93a68",
   "metadata": {
    "execution": {
     "iopub.execute_input": "2025-02-04T03:18:29.277548Z",
     "iopub.status.busy": "2025-02-04T03:18:29.277200Z",
     "iopub.status.idle": "2025-02-04T03:18:29.283005Z",
     "shell.execute_reply": "2025-02-04T03:18:29.282008Z"
    },
    "papermill": {
     "duration": 0.033985,
     "end_time": "2025-02-04T03:18:29.284412",
     "exception": false,
     "start_time": "2025-02-04T03:18:29.250427",
     "status": "completed"
    },
    "tags": []
   },
   "outputs": [
    {
     "data": {
      "text/plain": [
       "Index(['survived', 'pclass', 'sex', 'age', 'fare', 'embarked', 'alone'], dtype='object')"
      ]
     },
     "execution_count": 68,
     "metadata": {},
     "output_type": "execute_result"
    }
   ],
   "source": [
    "df.columns"
   ]
  },
  {
   "cell_type": "code",
   "execution_count": 69,
   "id": "a2ae348c",
   "metadata": {
    "execution": {
     "iopub.execute_input": "2025-02-04T03:18:29.337779Z",
     "iopub.status.busy": "2025-02-04T03:18:29.337440Z",
     "iopub.status.idle": "2025-02-04T03:18:29.350059Z",
     "shell.execute_reply": "2025-02-04T03:18:29.349107Z"
    },
    "papermill": {
     "duration": 0.040879,
     "end_time": "2025-02-04T03:18:29.351451",
     "exception": false,
     "start_time": "2025-02-04T03:18:29.310572",
     "status": "completed"
    },
    "tags": []
   },
   "outputs": [
    {
     "data": {
      "text/plain": [
       "array([[ 7.25  ],\n",
       "       [ 7.925 ],\n",
       "       [53.1   ],\n",
       "       [ 8.05  ],\n",
       "       [ 8.4583],\n",
       "       [51.8625],\n",
       "       [21.075 ],\n",
       "       [11.1333],\n",
       "       [30.0708],\n",
       "       [16.7   ],\n",
       "       [26.55  ],\n",
       "       [ 8.05  ],\n",
       "       [31.275 ],\n",
       "       [ 7.8542],\n",
       "       [16.    ],\n",
       "       [29.125 ],\n",
       "       [13.    ],\n",
       "       [18.    ],\n",
       "       [ 7.225 ],\n",
       "       [26.    ],\n",
       "       [13.    ],\n",
       "       [ 8.0292],\n",
       "       [35.5   ],\n",
       "       [21.075 ],\n",
       "       [31.3875],\n",
       "       [ 7.225 ],\n",
       "       [ 7.8792],\n",
       "       [ 7.8958],\n",
       "       [27.7208],\n",
       "       [ 7.75  ],\n",
       "       [52.    ],\n",
       "       [ 7.2292],\n",
       "       [ 8.05  ],\n",
       "       [18.    ],\n",
       "       [11.2417],\n",
       "       [ 9.475 ],\n",
       "       [21.    ],\n",
       "       [ 7.8958],\n",
       "       [41.5792],\n",
       "       [ 7.8792],\n",
       "       [ 8.05  ],\n",
       "       [15.5   ],\n",
       "       [21.6792],\n",
       "       [17.8   ],\n",
       "       [39.6875],\n",
       "       [ 7.8   ],\n",
       "       [26.    ],\n",
       "       [35.5   ],\n",
       "       [10.5   ],\n",
       "       [ 7.2292],\n",
       "       [27.75  ],\n",
       "       [46.9   ],\n",
       "       [ 7.2292],\n",
       "       [27.9   ],\n",
       "       [27.7208],\n",
       "       [15.2458],\n",
       "       [10.5   ],\n",
       "       [ 8.1583],\n",
       "       [ 7.925 ],\n",
       "       [ 8.6625],\n",
       "       [10.5   ],\n",
       "       [46.9   ],\n",
       "       [14.4542],\n",
       "       [56.4958],\n",
       "       [ 7.65  ],\n",
       "       [29.    ],\n",
       "       [12.475 ],\n",
       "       [ 9.    ],\n",
       "       [ 9.5   ],\n",
       "       [ 7.7875],\n",
       "       [47.1   ],\n",
       "       [10.5   ],\n",
       "       [15.85  ],\n",
       "       [34.375 ],\n",
       "       [ 8.05  ],\n",
       "       [ 8.05  ],\n",
       "       [ 7.8542],\n",
       "       [61.175 ],\n",
       "       [20.575 ],\n",
       "       [63.3583],\n",
       "       [23.    ],\n",
       "       [26.    ],\n",
       "       [ 7.8958],\n",
       "       [ 8.6542],\n",
       "       [ 7.925 ],\n",
       "       [ 7.8958],\n",
       "       [ 7.65  ],\n",
       "       [ 7.775 ],\n",
       "       [ 7.8958],\n",
       "       [24.15  ],\n",
       "       [52.    ],\n",
       "       [14.4542],\n",
       "       [ 8.05  ],\n",
       "       [ 9.825 ],\n",
       "       [14.4583],\n",
       "       [ 7.925 ],\n",
       "       [21.    ],\n",
       "       [31.275 ],\n",
       "       [30.0708],\n",
       "       [13.    ],\n",
       "       [11.2417],\n",
       "       [ 7.75  ],\n",
       "       [ 7.1417],\n",
       "       [22.3583],\n",
       "       [ 6.975 ],\n",
       "       [ 7.8958],\n",
       "       [ 7.05  ],\n",
       "       [14.5   ],\n",
       "       [13.    ],\n",
       "       [15.0458],\n",
       "       [26.2833],\n",
       "       [53.1   ],\n",
       "       [ 9.2167],\n",
       "       [15.2458],\n",
       "       [ 7.75  ],\n",
       "       [15.85  ],\n",
       "       [ 6.75  ],\n",
       "       [11.5   ],\n",
       "       [36.75  ],\n",
       "       [ 7.7958],\n",
       "       [34.375 ],\n",
       "       [26.    ],\n",
       "       [13.    ],\n",
       "       [12.525 ],\n",
       "       [66.6   ],\n",
       "       [ 8.05  ],\n",
       "       [14.5   ],\n",
       "       [ 7.3125],\n",
       "       [61.3792],\n",
       "       [ 7.7333],\n",
       "       [ 8.05  ],\n",
       "       [ 8.6625],\n",
       "       [69.55  ],\n",
       "       [16.1   ],\n",
       "       [15.75  ],\n",
       "       [ 7.775 ],\n",
       "       [ 8.6625],\n",
       "       [39.6875],\n",
       "       [20.525 ],\n",
       "       [55.    ],\n",
       "       [27.9   ],\n",
       "       [25.925 ],\n",
       "       [56.4958],\n",
       "       [29.125 ],\n",
       "       [11.1333],\n",
       "       [30.6958],\n",
       "       [ 7.8542],\n",
       "       [25.4667],\n",
       "       [28.7125],\n",
       "       [13.    ],\n",
       "       [ 0.    ],\n",
       "       [69.55  ],\n",
       "       [15.05  ],\n",
       "       [31.3875],\n",
       "       [39.    ],\n",
       "       [22.025 ],\n",
       "       [50.    ],\n",
       "       [15.5   ],\n",
       "       [26.55  ],\n",
       "       [15.5   ],\n",
       "       [ 7.8958],\n",
       "       [13.    ],\n",
       "       [13.    ],\n",
       "       [ 7.8542],\n",
       "       [26.    ],\n",
       "       [27.7208],\n",
       "       [ 8.4042],\n",
       "       [13.    ],\n",
       "       [ 9.5   ],\n",
       "       [ 6.4958],\n",
       "       [ 7.225 ],\n",
       "       [ 8.05  ],\n",
       "       [10.4625],\n",
       "       [15.85  ],\n",
       "       [18.7875],\n",
       "       [ 7.75  ],\n",
       "       [31.    ],\n",
       "       [ 7.05  ],\n",
       "       [21.    ],\n",
       "       [ 7.25  ],\n",
       "       [ 7.75  ],\n",
       "       [ 7.925 ],\n",
       "       [27.    ],\n",
       "       [10.5   ],\n",
       "       [ 8.05  ],\n",
       "       [13.    ],\n",
       "       [ 8.05  ],\n",
       "       [ 9.35  ],\n",
       "       [10.5   ],\n",
       "       [ 7.25  ],\n",
       "       [13.    ],\n",
       "       [25.4667],\n",
       "       [ 7.775 ],\n",
       "       [31.3875],\n",
       "       [10.5   ],\n",
       "       [ 7.55  ],\n",
       "       [26.    ],\n",
       "       [26.25  ],\n",
       "       [10.5   ],\n",
       "       [12.275 ],\n",
       "       [14.4542],\n",
       "       [10.5   ],\n",
       "       [ 7.125 ],\n",
       "       [ 7.225 ],\n",
       "       [ 7.775 ],\n",
       "       [14.5   ],\n",
       "       [52.5542],\n",
       "       [26.    ],\n",
       "       [ 7.25  ],\n",
       "       [10.4625],\n",
       "       [16.1   ],\n",
       "       [20.2125],\n",
       "       [15.2458],\n",
       "       [26.    ],\n",
       "       [31.3875],\n",
       "       [ 0.    ],\n",
       "       [ 7.75  ],\n",
       "       [10.5   ],\n",
       "       [39.6875],\n",
       "       [ 7.775 ],\n",
       "       [31.    ],\n",
       "       [ 0.    ],\n",
       "       [19.5   ],\n",
       "       [29.7   ],\n",
       "       [ 7.75  ],\n",
       "       [ 0.    ],\n",
       "       [29.125 ],\n",
       "       [20.25  ],\n",
       "       [ 7.8542],\n",
       "       [ 9.5   ],\n",
       "       [ 8.05  ],\n",
       "       [26.    ],\n",
       "       [ 8.6625],\n",
       "       [ 9.5   ],\n",
       "       [ 7.8958],\n",
       "       [13.    ],\n",
       "       [ 7.75  ],\n",
       "       [12.875 ],\n",
       "       [ 8.85  ],\n",
       "       [ 7.8958],\n",
       "       [ 7.2292],\n",
       "       [30.5   ],\n",
       "       [23.25  ],\n",
       "       [ 0.    ],\n",
       "       [12.35  ],\n",
       "       [24.    ],\n",
       "       [56.9292],\n",
       "       [26.    ],\n",
       "       [26.25  ],\n",
       "       [ 7.8542],\n",
       "       [26.    ],\n",
       "       [14.    ],\n",
       "       [ 7.8958],\n",
       "       [12.35  ],\n",
       "       [29.    ],\n",
       "       [13.    ],\n",
       "       [20.525 ],\n",
       "       [57.9792],\n",
       "       [23.25  ],\n",
       "       [28.5   ],\n",
       "       [18.    ],\n",
       "       [66.6   ],\n",
       "       [ 8.05  ],\n",
       "       [35.5   ],\n",
       "       [26.    ],\n",
       "       [13.    ],\n",
       "       [13.    ],\n",
       "       [13.    ],\n",
       "       [13.    ],\n",
       "       [16.1   ],\n",
       "       [15.9   ],\n",
       "       [ 8.6625],\n",
       "       [ 9.225 ],\n",
       "       [35.    ],\n",
       "       [ 7.2292],\n",
       "       [17.8   ],\n",
       "       [55.    ],\n",
       "       [13.    ],\n",
       "       [27.9   ],\n",
       "       [27.7208],\n",
       "       [14.4542],\n",
       "       [ 7.05  ],\n",
       "       [ 7.25  ],\n",
       "       [ 7.2292],\n",
       "       [69.3   ],\n",
       "       [55.4417],\n",
       "       [ 6.4958],\n",
       "       [ 8.05  ],\n",
       "       [21.075 ],\n",
       "       [ 7.25  ],\n",
       "       [ 4.0125],\n",
       "       [ 7.775 ],\n",
       "       [15.7417],\n",
       "       [ 7.925 ],\n",
       "       [52.    ],\n",
       "       [46.9   ],\n",
       "       [ 7.7292],\n",
       "       [12.    ],\n",
       "       [ 7.7958],\n",
       "       [ 7.925 ],\n",
       "       [16.7   ],\n",
       "       [ 7.7958],\n",
       "       [ 7.8542],\n",
       "       [26.    ],\n",
       "       [10.5   ],\n",
       "       [12.65  ],\n",
       "       [ 7.925 ],\n",
       "       [ 8.05  ],\n",
       "       [ 9.825 ],\n",
       "       [15.85  ],\n",
       "       [ 8.6625],\n",
       "       [21.    ],\n",
       "       [ 7.75  ],\n",
       "       [18.75  ],\n",
       "       [ 7.775 ],\n",
       "       [ 6.8583],\n",
       "       [ 7.925 ],\n",
       "       [ 8.05  ],\n",
       "       [32.5   ],\n",
       "       [13.    ],\n",
       "       [24.15  ],\n",
       "       [ 7.7333],\n",
       "       [ 7.875 ],\n",
       "       [14.4   ],\n",
       "       [20.2125],\n",
       "       [26.    ],\n",
       "       [26.    ],\n",
       "       [ 8.05  ],\n",
       "       [26.55  ],\n",
       "       [26.    ],\n",
       "       [ 7.125 ],\n",
       "       [55.9   ],\n",
       "       [34.375 ],\n",
       "       [18.75  ],\n",
       "       [10.5   ],\n",
       "       [26.25  ],\n",
       "       [ 9.5   ],\n",
       "       [ 7.775 ],\n",
       "       [13.    ],\n",
       "       [ 8.1125],\n",
       "       [19.5   ],\n",
       "       [26.55  ],\n",
       "       [19.2583],\n",
       "       [30.5   ],\n",
       "       [27.75  ],\n",
       "       [19.9667],\n",
       "       [27.75  ],\n",
       "       [ 7.8958],\n",
       "       [51.8625],\n",
       "       [10.5   ],\n",
       "       [26.55  ],\n",
       "       [ 8.05  ],\n",
       "       [38.5   ],\n",
       "       [13.    ],\n",
       "       [ 7.05  ],\n",
       "       [26.55  ],\n",
       "       [ 7.725 ],\n",
       "       [19.2583],\n",
       "       [ 8.6625],\n",
       "       [27.75  ],\n",
       "       [13.7917],\n",
       "       [ 9.8375],\n",
       "       [52.    ],\n",
       "       [ 7.0458],\n",
       "       [ 7.5208],\n",
       "       [12.2875],\n",
       "       [46.9   ],\n",
       "       [ 8.05  ],\n",
       "       [29.7   ],\n",
       "       [15.9   ],\n",
       "       [ 7.25  ],\n",
       "       [30.5   ],\n",
       "       [14.4583],\n",
       "       [15.1   ],\n",
       "       [ 7.7958],\n",
       "       [ 7.75  ],\n",
       "       [ 7.6292],\n",
       "       [ 9.5875],\n",
       "       [26.    ],\n",
       "       [26.55  ],\n",
       "       [22.525 ],\n",
       "       [56.4958],\n",
       "       [ 7.75  ],\n",
       "       [26.2875],\n",
       "       [59.4   ],\n",
       "       [ 7.4958],\n",
       "       [34.0208],\n",
       "       [10.5   ],\n",
       "       [24.15  ],\n",
       "       [26.    ],\n",
       "       [ 7.8958],\n",
       "       [57.9792],\n",
       "       [ 7.2292],\n",
       "       [ 7.75  ],\n",
       "       [ 7.925 ],\n",
       "       [11.5   ],\n",
       "       [26.    ],\n",
       "       [ 7.2292],\n",
       "       [22.3583],\n",
       "       [ 8.6625],\n",
       "       [26.25  ],\n",
       "       [26.55  ],\n",
       "       [14.5   ],\n",
       "       [49.5   ],\n",
       "       [31.275 ],\n",
       "       [31.275 ],\n",
       "       [26.    ],\n",
       "       [26.    ],\n",
       "       [13.8625],\n",
       "       [20.525 ],\n",
       "       [36.75  ],\n",
       "       [26.    ],\n",
       "       [ 7.8292],\n",
       "       [ 7.225 ],\n",
       "       [ 7.775 ],\n",
       "       [39.6   ],\n",
       "       [17.4   ],\n",
       "       [ 7.8958],\n",
       "       [13.5   ],\n",
       "       [24.15  ],\n",
       "       [ 7.8958],\n",
       "       [21.075 ],\n",
       "       [ 7.8542],\n",
       "       [51.4792],\n",
       "       [26.3875],\n",
       "       [ 8.05  ],\n",
       "       [14.5   ],\n",
       "       [13.    ],\n",
       "       [55.9   ],\n",
       "       [14.4583],\n",
       "       [ 7.925 ],\n",
       "       [30.    ],\n",
       "       [26.    ],\n",
       "       [40.125 ],\n",
       "       [ 8.7125],\n",
       "       [15.    ],\n",
       "       [ 7.125 ],\n",
       "       [ 7.25  ],\n",
       "       [ 7.75  ],\n",
       "       [26.    ],\n",
       "       [24.15  ],\n",
       "       [33.    ],\n",
       "       [ 0.    ],\n",
       "       [56.9292],\n",
       "       [27.    ],\n",
       "       [42.4   ],\n",
       "       [ 8.05  ],\n",
       "       [26.55  ],\n",
       "       [15.55  ],\n",
       "       [ 7.8958],\n",
       "       [30.5   ],\n",
       "       [41.5792],\n",
       "       [31.275 ],\n",
       "       [ 7.05  ],\n",
       "       [65.    ],\n",
       "       [14.4   ],\n",
       "       [16.1   ],\n",
       "       [39.    ],\n",
       "       [10.5   ],\n",
       "       [14.4542],\n",
       "       [52.5542],\n",
       "       [15.7417],\n",
       "       [ 7.8542],\n",
       "       [16.1   ],\n",
       "       [12.35  ],\n",
       "       [ 7.8958],\n",
       "       [ 7.7333],\n",
       "       [ 7.0542],\n",
       "       [30.5   ],\n",
       "       [ 0.    ],\n",
       "       [27.9   ],\n",
       "       [26.25  ],\n",
       "       [39.6875],\n",
       "       [16.1   ],\n",
       "       [27.9   ],\n",
       "       [56.4958],\n",
       "       [35.5   ],\n",
       "       [ 7.55  ],\n",
       "       [ 7.55  ],\n",
       "       [23.    ],\n",
       "       [ 8.4333],\n",
       "       [ 7.8292],\n",
       "       [ 6.75  ],\n",
       "       [15.5   ],\n",
       "       [13.    ],\n",
       "       [ 7.225 ],\n",
       "       [25.5875],\n",
       "       [ 7.4958],\n",
       "       [ 7.925 ],\n",
       "       [ 7.775 ],\n",
       "       [ 8.05  ],\n",
       "       [52.    ],\n",
       "       [39.    ],\n",
       "       [52.    ],\n",
       "       [13.    ],\n",
       "       [ 7.775 ],\n",
       "       [ 8.05  ],\n",
       "       [ 9.8417],\n",
       "       [46.9   ],\n",
       "       [ 8.1375],\n",
       "       [ 9.225 ],\n",
       "       [46.9   ],\n",
       "       [41.5792],\n",
       "       [39.6875],\n",
       "       [10.1708],\n",
       "       [ 7.7958],\n",
       "       [57.    ],\n",
       "       [13.4167],\n",
       "       [ 7.225 ],\n",
       "       [13.5   ],\n",
       "       [ 7.7333],\n",
       "       [ 7.65  ],\n",
       "       [26.2875],\n",
       "       [14.4542],\n",
       "       [ 7.7417],\n",
       "       [ 7.8542],\n",
       "       [26.    ],\n",
       "       [13.5   ],\n",
       "       [26.2875],\n",
       "       [49.5042],\n",
       "       [26.55  ],\n",
       "       [52.    ],\n",
       "       [ 9.4833],\n",
       "       [13.    ],\n",
       "       [ 7.65  ],\n",
       "       [10.5   ],\n",
       "       [15.5   ],\n",
       "       [ 7.775 ],\n",
       "       [33.    ],\n",
       "       [ 7.0542],\n",
       "       [13.    ],\n",
       "       [13.    ],\n",
       "       [53.1   ],\n",
       "       [ 8.6625],\n",
       "       [21.    ],\n",
       "       [ 7.7375],\n",
       "       [26.    ],\n",
       "       [ 7.925 ],\n",
       "       [18.7875],\n",
       "       [16.1   ],\n",
       "       [34.375 ],\n",
       "       [30.    ],\n",
       "       [16.1   ],\n",
       "       [ 7.925 ],\n",
       "       [20.25  ],\n",
       "       [13.    ],\n",
       "       [53.1   ],\n",
       "       [ 7.75  ],\n",
       "       [23.    ],\n",
       "       [12.475 ],\n",
       "       [ 9.5   ],\n",
       "       [ 7.8958],\n",
       "       [65.    ],\n",
       "       [14.5   ],\n",
       "       [ 7.7958],\n",
       "       [ 7.125 ],\n",
       "       [ 7.2292],\n",
       "       [ 7.775 ],\n",
       "       [39.6   ],\n",
       "       [ 7.75  ],\n",
       "       [24.15  ],\n",
       "       [ 8.3625],\n",
       "       [ 9.5   ],\n",
       "       [ 7.8542],\n",
       "       [10.5   ],\n",
       "       [23.    ],\n",
       "       [ 7.75  ],\n",
       "       [12.475 ],\n",
       "       [ 7.7375],\n",
       "       [ 7.2292],\n",
       "       [57.    ],\n",
       "       [30.    ],\n",
       "       [23.45  ],\n",
       "       [ 7.05  ],\n",
       "       [ 7.25  ],\n",
       "       [ 7.4958],\n",
       "       [29.125 ],\n",
       "       [20.575 ],\n",
       "       [26.    ],\n",
       "       [30.6958],\n",
       "       [ 7.8958],\n",
       "       [13.    ],\n",
       "       [25.9292],\n",
       "       [ 8.6833],\n",
       "       [ 7.2292],\n",
       "       [24.15  ],\n",
       "       [26.25  ],\n",
       "       [ 8.5167],\n",
       "       [ 6.975 ],\n",
       "       [ 7.775 ],\n",
       "       [ 0.    ],\n",
       "       [ 7.775 ],\n",
       "       [53.1   ],\n",
       "       [ 7.8875],\n",
       "       [24.15  ],\n",
       "       [10.5   ],\n",
       "       [31.275 ],\n",
       "       [ 8.05  ],\n",
       "       [ 7.925 ],\n",
       "       [37.0042],\n",
       "       [ 6.45  ],\n",
       "       [27.9   ],\n",
       "       [ 8.6625],\n",
       "       [ 0.    ],\n",
       "       [12.475 ],\n",
       "       [39.6875],\n",
       "       [ 6.95  ],\n",
       "       [56.4958],\n",
       "       [37.0042],\n",
       "       [ 7.75  ],\n",
       "       [14.4542],\n",
       "       [18.75  ],\n",
       "       [ 7.8542],\n",
       "       [ 8.3   ],\n",
       "       [ 8.6625],\n",
       "       [29.7   ],\n",
       "       [ 7.925 ],\n",
       "       [10.5   ],\n",
       "       [31.    ],\n",
       "       [ 6.4375],\n",
       "       [ 7.55  ],\n",
       "       [ 7.8958],\n",
       "       [33.    ],\n",
       "       [31.275 ],\n",
       "       [15.2458],\n",
       "       [39.4   ],\n",
       "       [26.    ],\n",
       "       [ 9.35  ],\n",
       "       [26.55  ],\n",
       "       [19.2583],\n",
       "       [14.1083],\n",
       "       [11.5   ],\n",
       "       [25.9292],\n",
       "       [13.    ],\n",
       "       [13.    ],\n",
       "       [13.8583],\n",
       "       [50.4958],\n",
       "       [ 9.5   ],\n",
       "       [11.1333],\n",
       "       [52.5542],\n",
       "       [ 5.    ],\n",
       "       [ 9.    ],\n",
       "       [24.    ],\n",
       "       [ 7.225 ],\n",
       "       [ 9.8458],\n",
       "       [26.    ],\n",
       "       [ 7.8958],\n",
       "       [10.5167],\n",
       "       [10.5   ],\n",
       "       [29.125 ],\n",
       "       [30.    ],\n",
       "       [23.45  ],\n",
       "       [30.    ],\n",
       "       [ 7.75  ]])"
      ]
     },
     "execution_count": 69,
     "metadata": {},
     "output_type": "execute_result"
    }
   ],
   "source": [
    "x = x.values.reshape(-1,1)\n",
    "x"
   ]
  },
  {
   "cell_type": "code",
   "execution_count": 70,
   "id": "76db84a7",
   "metadata": {
    "execution": {
     "iopub.execute_input": "2025-02-04T03:18:29.406240Z",
     "iopub.status.busy": "2025-02-04T03:18:29.405890Z",
     "iopub.status.idle": "2025-02-04T03:18:29.412403Z",
     "shell.execute_reply": "2025-02-04T03:18:29.411606Z"
    },
    "papermill": {
     "duration": 0.035316,
     "end_time": "2025-02-04T03:18:29.413707",
     "exception": false,
     "start_time": "2025-02-04T03:18:29.378391",
     "status": "completed"
    },
    "tags": []
   },
   "outputs": [
    {
     "data": {
      "text/plain": [
       "0      0\n",
       "2      1\n",
       "3      1\n",
       "4      0\n",
       "5      0\n",
       "      ..\n",
       "885    0\n",
       "887    1\n",
       "888    0\n",
       "889    1\n",
       "890    0\n",
       "Name: survived, Length: 654, dtype: int64"
      ]
     },
     "execution_count": 70,
     "metadata": {},
     "output_type": "execute_result"
    }
   ],
   "source": [
    "y=df[\"survived\"]\n",
    "y"
   ]
  },
  {
   "cell_type": "code",
   "execution_count": 71,
   "id": "83c1d8f9",
   "metadata": {
    "execution": {
     "iopub.execute_input": "2025-02-04T03:18:29.468410Z",
     "iopub.status.busy": "2025-02-04T03:18:29.468076Z",
     "iopub.status.idle": "2025-02-04T03:18:29.471740Z",
     "shell.execute_reply": "2025-02-04T03:18:29.470901Z"
    },
    "papermill": {
     "duration": 0.032646,
     "end_time": "2025-02-04T03:18:29.473261",
     "exception": false,
     "start_time": "2025-02-04T03:18:29.440615",
     "status": "completed"
    },
    "tags": []
   },
   "outputs": [],
   "source": [
    "model=LinearRegression()"
   ]
  },
  {
   "cell_type": "code",
   "execution_count": 72,
   "id": "6f5242ec",
   "metadata": {
    "execution": {
     "iopub.execute_input": "2025-02-04T03:18:29.529203Z",
     "iopub.status.busy": "2025-02-04T03:18:29.528877Z",
     "iopub.status.idle": "2025-02-04T03:18:29.534959Z",
     "shell.execute_reply": "2025-02-04T03:18:29.534013Z"
    },
    "papermill": {
     "duration": 0.035072,
     "end_time": "2025-02-04T03:18:29.536472",
     "exception": false,
     "start_time": "2025-02-04T03:18:29.501400",
     "status": "completed"
    },
    "tags": []
   },
   "outputs": [
    {
     "data": {
      "text/plain": [
       "0      0\n",
       "2      1\n",
       "3      1\n",
       "4      0\n",
       "5      0\n",
       "      ..\n",
       "885    0\n",
       "887    1\n",
       "888    0\n",
       "889    1\n",
       "890    0\n",
       "Name: survived, Length: 654, dtype: int64"
      ]
     },
     "execution_count": 72,
     "metadata": {},
     "output_type": "execute_result"
    }
   ],
   "source": [
    "y"
   ]
  },
  {
   "cell_type": "code",
   "execution_count": 73,
   "id": "885cf813",
   "metadata": {
    "execution": {
     "iopub.execute_input": "2025-02-04T03:18:29.591366Z",
     "iopub.status.busy": "2025-02-04T03:18:29.591027Z",
     "iopub.status.idle": "2025-02-04T03:18:29.596174Z",
     "shell.execute_reply": "2025-02-04T03:18:29.595351Z"
    },
    "papermill": {
     "duration": 0.034201,
     "end_time": "2025-02-04T03:18:29.597588",
     "exception": false,
     "start_time": "2025-02-04T03:18:29.563387",
     "status": "completed"
    },
    "tags": []
   },
   "outputs": [],
   "source": [
    "x_train, x_test, y_train, y_test =  train_test_split(x, y , test_size=0.25, random_state=0)"
   ]
  },
  {
   "cell_type": "code",
   "execution_count": 74,
   "id": "9976c90e",
   "metadata": {
    "execution": {
     "iopub.execute_input": "2025-02-04T03:18:29.652578Z",
     "iopub.status.busy": "2025-02-04T03:18:29.652256Z",
     "iopub.status.idle": "2025-02-04T03:18:29.681210Z",
     "shell.execute_reply": "2025-02-04T03:18:29.680142Z"
    },
    "papermill": {
     "duration": 0.058348,
     "end_time": "2025-02-04T03:18:29.682749",
     "exception": false,
     "start_time": "2025-02-04T03:18:29.624401",
     "status": "completed"
    },
    "tags": []
   },
   "outputs": [
    {
     "data": {
      "text/html": [
       "<style>#sk-container-id-1 {color: black;background-color: white;}#sk-container-id-1 pre{padding: 0;}#sk-container-id-1 div.sk-toggleable {background-color: white;}#sk-container-id-1 label.sk-toggleable__label {cursor: pointer;display: block;width: 100%;margin-bottom: 0;padding: 0.3em;box-sizing: border-box;text-align: center;}#sk-container-id-1 label.sk-toggleable__label-arrow:before {content: \"▸\";float: left;margin-right: 0.25em;color: #696969;}#sk-container-id-1 label.sk-toggleable__label-arrow:hover:before {color: black;}#sk-container-id-1 div.sk-estimator:hover label.sk-toggleable__label-arrow:before {color: black;}#sk-container-id-1 div.sk-toggleable__content {max-height: 0;max-width: 0;overflow: hidden;text-align: left;background-color: #f0f8ff;}#sk-container-id-1 div.sk-toggleable__content pre {margin: 0.2em;color: black;border-radius: 0.25em;background-color: #f0f8ff;}#sk-container-id-1 input.sk-toggleable__control:checked~div.sk-toggleable__content {max-height: 200px;max-width: 100%;overflow: auto;}#sk-container-id-1 input.sk-toggleable__control:checked~label.sk-toggleable__label-arrow:before {content: \"▾\";}#sk-container-id-1 div.sk-estimator input.sk-toggleable__control:checked~label.sk-toggleable__label {background-color: #d4ebff;}#sk-container-id-1 div.sk-label input.sk-toggleable__control:checked~label.sk-toggleable__label {background-color: #d4ebff;}#sk-container-id-1 input.sk-hidden--visually {border: 0;clip: rect(1px 1px 1px 1px);clip: rect(1px, 1px, 1px, 1px);height: 1px;margin: -1px;overflow: hidden;padding: 0;position: absolute;width: 1px;}#sk-container-id-1 div.sk-estimator {font-family: monospace;background-color: #f0f8ff;border: 1px dotted black;border-radius: 0.25em;box-sizing: border-box;margin-bottom: 0.5em;}#sk-container-id-1 div.sk-estimator:hover {background-color: #d4ebff;}#sk-container-id-1 div.sk-parallel-item::after {content: \"\";width: 100%;border-bottom: 1px solid gray;flex-grow: 1;}#sk-container-id-1 div.sk-label:hover label.sk-toggleable__label {background-color: #d4ebff;}#sk-container-id-1 div.sk-serial::before {content: \"\";position: absolute;border-left: 1px solid gray;box-sizing: border-box;top: 0;bottom: 0;left: 50%;z-index: 0;}#sk-container-id-1 div.sk-serial {display: flex;flex-direction: column;align-items: center;background-color: white;padding-right: 0.2em;padding-left: 0.2em;position: relative;}#sk-container-id-1 div.sk-item {position: relative;z-index: 1;}#sk-container-id-1 div.sk-parallel {display: flex;align-items: stretch;justify-content: center;background-color: white;position: relative;}#sk-container-id-1 div.sk-item::before, #sk-container-id-1 div.sk-parallel-item::before {content: \"\";position: absolute;border-left: 1px solid gray;box-sizing: border-box;top: 0;bottom: 0;left: 50%;z-index: -1;}#sk-container-id-1 div.sk-parallel-item {display: flex;flex-direction: column;z-index: 1;position: relative;background-color: white;}#sk-container-id-1 div.sk-parallel-item:first-child::after {align-self: flex-end;width: 50%;}#sk-container-id-1 div.sk-parallel-item:last-child::after {align-self: flex-start;width: 50%;}#sk-container-id-1 div.sk-parallel-item:only-child::after {width: 0;}#sk-container-id-1 div.sk-dashed-wrapped {border: 1px dashed gray;margin: 0 0.4em 0.5em 0.4em;box-sizing: border-box;padding-bottom: 0.4em;background-color: white;}#sk-container-id-1 div.sk-label label {font-family: monospace;font-weight: bold;display: inline-block;line-height: 1.2em;}#sk-container-id-1 div.sk-label-container {text-align: center;}#sk-container-id-1 div.sk-container {/* jupyter's `normalize.less` sets `[hidden] { display: none; }` but bootstrap.min.css set `[hidden] { display: none !important; }` so we also need the `!important` here to be able to override the default hidden behavior on the sphinx rendered scikit-learn.org. See: https://github.com/scikit-learn/scikit-learn/issues/21755 */display: inline-block !important;position: relative;}#sk-container-id-1 div.sk-text-repr-fallback {display: none;}</style><div id=\"sk-container-id-1\" class=\"sk-top-container\"><div class=\"sk-text-repr-fallback\"><pre>LinearRegression()</pre><b>In a Jupyter environment, please rerun this cell to show the HTML representation or trust the notebook. <br />On GitHub, the HTML representation is unable to render, please try loading this page with nbviewer.org.</b></div><div class=\"sk-container\" hidden><div class=\"sk-item\"><div class=\"sk-estimator sk-toggleable\"><input class=\"sk-toggleable__control sk-hidden--visually\" id=\"sk-estimator-id-1\" type=\"checkbox\" checked><label for=\"sk-estimator-id-1\" class=\"sk-toggleable__label sk-toggleable__label-arrow\">LinearRegression</label><div class=\"sk-toggleable__content\"><pre>LinearRegression()</pre></div></div></div></div></div>"
      ],
      "text/plain": [
       "LinearRegression()"
      ]
     },
     "execution_count": 74,
     "metadata": {},
     "output_type": "execute_result"
    }
   ],
   "source": [
    "model.fit(x_test,y_test)"
   ]
  },
  {
   "cell_type": "code",
   "execution_count": 75,
   "id": "8c6623b0",
   "metadata": {
    "execution": {
     "iopub.execute_input": "2025-02-04T03:18:29.738137Z",
     "iopub.status.busy": "2025-02-04T03:18:29.737737Z",
     "iopub.status.idle": "2025-02-04T03:18:29.741874Z",
     "shell.execute_reply": "2025-02-04T03:18:29.741052Z"
    },
    "papermill": {
     "duration": 0.033466,
     "end_time": "2025-02-04T03:18:29.743389",
     "exception": false,
     "start_time": "2025-02-04T03:18:29.709923",
     "status": "completed"
    },
    "tags": []
   },
   "outputs": [],
   "source": [
    "y_pred = model.predict(x_test)"
   ]
  },
  {
   "cell_type": "code",
   "execution_count": 76,
   "id": "83e8f074",
   "metadata": {
    "execution": {
     "iopub.execute_input": "2025-02-04T03:18:29.800021Z",
     "iopub.status.busy": "2025-02-04T03:18:29.799621Z",
     "iopub.status.idle": "2025-02-04T03:18:29.806725Z",
     "shell.execute_reply": "2025-02-04T03:18:29.805907Z"
    },
    "papermill": {
     "duration": 0.037102,
     "end_time": "2025-02-04T03:18:29.808225",
     "exception": false,
     "start_time": "2025-02-04T03:18:29.771123",
     "status": "completed"
    },
    "tags": []
   },
   "outputs": [
    {
     "data": {
      "text/plain": [
       "array([0.32638201, 0.51541927, 0.37634348, 0.43681121, 0.32733922,\n",
       "       0.32381213, 0.43832291, 0.32225025, 0.32267836, 0.37332009,\n",
       "       0.3264576 , 0.32751578, 0.39297211, 0.32585292, 0.49425556,\n",
       "       0.44013694, 0.36727332, 0.32328304, 0.35820316, 0.37332009,\n",
       "       0.43832291, 0.32708767, 0.36666864, 0.46870794, 0.43681121,\n",
       "       0.32733922, 0.3634185 , 0.44739307, 0.41479068, 0.56318878,\n",
       "       0.44739307, 0.43832291, 0.43681121, 0.51904733, 0.34308622,\n",
       "       0.3649048 , 0.58493177, 0.44013694, 0.32330844, 0.32330844,\n",
       "       0.32585292, 0.66270839, 0.34308622, 0.45570738, 0.46870794,\n",
       "       0.32751578, 0.32222486, 0.4363831 , 0.32708767, 0.59737845,\n",
       "       0.32330844, 0.46402169, 0.43854966, 0.4472165 , 0.33703945,\n",
       "       0.44830008, 0.44739307, 0.44013694, 0.35820316, 0.32330844,\n",
       "       0.34308622, 0.62426119, 0.35820316, 0.41277529, 0.57891039,\n",
       "       0.32328304, 0.32267836, 0.32827163, 0.371783  , 0.32330844,\n",
       "       0.2795951 , 0.52222189, 0.32733922, 0.37694816, 0.53101511,\n",
       "       0.32162018, 0.32733922, 0.32638201, 0.38843703, 0.35389483,\n",
       "       0.43681121, 0.33197528, 0.32827163, 0.36699638, 0.32733922,\n",
       "       0.42139194, 0.44013694, 0.68231022, 0.3264576 , 0.46938821,\n",
       "       0.35820316, 0.33537659, 0.371783  , 0.37332009, 0.32222486,\n",
       "       0.36699638, 0.31852121, 0.33016125, 0.63877345, 0.60067878,\n",
       "       0.34691565, 0.43915434, 0.34308622, 0.32751578, 0.32733922,\n",
       "       0.49425556, 0.3264576 , 0.32660877, 0.32751578, 0.32675994,\n",
       "       0.59402732, 0.32328304, 0.46142642, 0.35820316, 0.32708767,\n",
       "       0.32827163, 0.32330844, 0.32814586, 0.64950647, 0.6148385 ,\n",
       "       0.32630643, 0.32330844, 0.32660877, 0.33210105, 0.32267836,\n",
       "       0.3264576 , 0.42018259, 0.35820316, 0.3269365 , 0.62121241,\n",
       "       0.43681121, 0.42471767, 0.32733922, 0.32660877, 0.36424993,\n",
       "       0.34757112, 0.32733922, 0.36699638, 0.44013694, 0.47611524,\n",
       "       0.3264576 , 0.59402732, 0.51957643, 0.36727332, 0.46870794,\n",
       "       0.36699638, 0.33613243, 0.33197528, 0.40400747, 0.32827163,\n",
       "       0.40370513, 0.3550286 , 0.33197528, 0.32827163, 0.33703945,\n",
       "       0.32106569, 0.45570738, 0.40703085, 0.33703945, 0.39750719,\n",
       "       0.39297211, 0.35820316, 0.44830008, 0.61760974])"
      ]
     },
     "execution_count": 76,
     "metadata": {},
     "output_type": "execute_result"
    }
   ],
   "source": [
    "y_pred"
   ]
  },
  {
   "cell_type": "code",
   "execution_count": 77,
   "id": "f07be1c8",
   "metadata": {
    "execution": {
     "iopub.execute_input": "2025-02-04T03:18:29.865411Z",
     "iopub.status.busy": "2025-02-04T03:18:29.865058Z",
     "iopub.status.idle": "2025-02-04T03:18:29.869113Z",
     "shell.execute_reply": "2025-02-04T03:18:29.868130Z"
    },
    "papermill": {
     "duration": 0.034176,
     "end_time": "2025-02-04T03:18:29.870570",
     "exception": false,
     "start_time": "2025-02-04T03:18:29.836394",
     "status": "completed"
    },
    "tags": []
   },
   "outputs": [],
   "source": [
    "from sklearn.metrics import mean_squared_error, mean_absolute_error, r2_score"
   ]
  },
  {
   "cell_type": "code",
   "execution_count": 78,
   "id": "330d4c39",
   "metadata": {
    "execution": {
     "iopub.execute_input": "2025-02-04T03:18:29.926421Z",
     "iopub.status.busy": "2025-02-04T03:18:29.926089Z",
     "iopub.status.idle": "2025-02-04T03:18:29.933506Z",
     "shell.execute_reply": "2025-02-04T03:18:29.932525Z"
    },
    "papermill": {
     "duration": 0.03675,
     "end_time": "2025-02-04T03:18:29.934950",
     "exception": false,
     "start_time": "2025-02-04T03:18:29.898200",
     "status": "completed"
    },
    "tags": []
   },
   "outputs": [
    {
     "name": "stdout",
     "output_type": "stream",
     "text": [
      "mean square error: 0.2313527050860151\n",
      "mean absolute error: 0.4627054101720302\n",
      "r2 score: -28.276989424998416\n"
     ]
    }
   ],
   "source": [
    "print('mean square error:', mean_squared_error(y_pred, y_test))\n",
    "print('mean absolute error:', mean_absolute_error(y_pred, y_test))\n",
    "print('r2 score:', r2_score(y_pred, y_test))"
   ]
  },
  {
   "cell_type": "code",
   "execution_count": 79,
   "id": "3dd9864d",
   "metadata": {
    "execution": {
     "iopub.execute_input": "2025-02-04T03:18:29.989908Z",
     "iopub.status.busy": "2025-02-04T03:18:29.989510Z",
     "iopub.status.idle": "2025-02-04T03:18:29.993221Z",
     "shell.execute_reply": "2025-02-04T03:18:29.992289Z"
    },
    "papermill": {
     "duration": 0.032408,
     "end_time": "2025-02-04T03:18:29.994577",
     "exception": false,
     "start_time": "2025-02-04T03:18:29.962169",
     "status": "completed"
    },
    "tags": []
   },
   "outputs": [],
   "source": [
    "#Logistic Regression"
   ]
  },
  {
   "cell_type": "code",
   "execution_count": 80,
   "id": "d25ba5cc",
   "metadata": {
    "execution": {
     "iopub.execute_input": "2025-02-04T03:18:30.051283Z",
     "iopub.status.busy": "2025-02-04T03:18:30.050933Z",
     "iopub.status.idle": "2025-02-04T03:18:30.063314Z",
     "shell.execute_reply": "2025-02-04T03:18:30.062479Z"
    },
    "papermill": {
     "duration": 0.042326,
     "end_time": "2025-02-04T03:18:30.064845",
     "exception": false,
     "start_time": "2025-02-04T03:18:30.022519",
     "status": "completed"
    },
    "tags": []
   },
   "outputs": [
    {
     "data": {
      "text/html": [
       "<div>\n",
       "<style scoped>\n",
       "    .dataframe tbody tr th:only-of-type {\n",
       "        vertical-align: middle;\n",
       "    }\n",
       "\n",
       "    .dataframe tbody tr th {\n",
       "        vertical-align: top;\n",
       "    }\n",
       "\n",
       "    .dataframe thead th {\n",
       "        text-align: right;\n",
       "    }\n",
       "</style>\n",
       "<table border=\"1\" class=\"dataframe\">\n",
       "  <thead>\n",
       "    <tr style=\"text-align: right;\">\n",
       "      <th></th>\n",
       "      <th>pclass</th>\n",
       "      <th>sex</th>\n",
       "      <th>age</th>\n",
       "      <th>fare</th>\n",
       "      <th>embarked</th>\n",
       "      <th>alone</th>\n",
       "    </tr>\n",
       "  </thead>\n",
       "  <tbody>\n",
       "    <tr>\n",
       "      <th>0</th>\n",
       "      <td>3</td>\n",
       "      <td>0</td>\n",
       "      <td>22.000000</td>\n",
       "      <td>7.2500</td>\n",
       "      <td>0</td>\n",
       "      <td>0</td>\n",
       "    </tr>\n",
       "    <tr>\n",
       "      <th>2</th>\n",
       "      <td>3</td>\n",
       "      <td>1</td>\n",
       "      <td>26.000000</td>\n",
       "      <td>7.9250</td>\n",
       "      <td>0</td>\n",
       "      <td>1</td>\n",
       "    </tr>\n",
       "    <tr>\n",
       "      <th>3</th>\n",
       "      <td>1</td>\n",
       "      <td>1</td>\n",
       "      <td>35.000000</td>\n",
       "      <td>53.1000</td>\n",
       "      <td>0</td>\n",
       "      <td>0</td>\n",
       "    </tr>\n",
       "    <tr>\n",
       "      <th>4</th>\n",
       "      <td>3</td>\n",
       "      <td>0</td>\n",
       "      <td>35.000000</td>\n",
       "      <td>8.0500</td>\n",
       "      <td>0</td>\n",
       "      <td>1</td>\n",
       "    </tr>\n",
       "    <tr>\n",
       "      <th>5</th>\n",
       "      <td>3</td>\n",
       "      <td>0</td>\n",
       "      <td>29.752849</td>\n",
       "      <td>8.4583</td>\n",
       "      <td>1</td>\n",
       "      <td>1</td>\n",
       "    </tr>\n",
       "    <tr>\n",
       "      <th>...</th>\n",
       "      <td>...</td>\n",
       "      <td>...</td>\n",
       "      <td>...</td>\n",
       "      <td>...</td>\n",
       "      <td>...</td>\n",
       "      <td>...</td>\n",
       "    </tr>\n",
       "    <tr>\n",
       "      <th>885</th>\n",
       "      <td>3</td>\n",
       "      <td>1</td>\n",
       "      <td>39.000000</td>\n",
       "      <td>29.1250</td>\n",
       "      <td>1</td>\n",
       "      <td>0</td>\n",
       "    </tr>\n",
       "    <tr>\n",
       "      <th>887</th>\n",
       "      <td>1</td>\n",
       "      <td>1</td>\n",
       "      <td>19.000000</td>\n",
       "      <td>30.0000</td>\n",
       "      <td>0</td>\n",
       "      <td>1</td>\n",
       "    </tr>\n",
       "    <tr>\n",
       "      <th>888</th>\n",
       "      <td>3</td>\n",
       "      <td>1</td>\n",
       "      <td>29.752849</td>\n",
       "      <td>23.4500</td>\n",
       "      <td>0</td>\n",
       "      <td>0</td>\n",
       "    </tr>\n",
       "    <tr>\n",
       "      <th>889</th>\n",
       "      <td>1</td>\n",
       "      <td>0</td>\n",
       "      <td>26.000000</td>\n",
       "      <td>30.0000</td>\n",
       "      <td>2</td>\n",
       "      <td>1</td>\n",
       "    </tr>\n",
       "    <tr>\n",
       "      <th>890</th>\n",
       "      <td>3</td>\n",
       "      <td>0</td>\n",
       "      <td>32.000000</td>\n",
       "      <td>7.7500</td>\n",
       "      <td>1</td>\n",
       "      <td>1</td>\n",
       "    </tr>\n",
       "  </tbody>\n",
       "</table>\n",
       "<p>654 rows × 6 columns</p>\n",
       "</div>"
      ],
      "text/plain": [
       "     pclass  sex        age     fare  embarked  alone\n",
       "0         3    0  22.000000   7.2500         0      0\n",
       "2         3    1  26.000000   7.9250         0      1\n",
       "3         1    1  35.000000  53.1000         0      0\n",
       "4         3    0  35.000000   8.0500         0      1\n",
       "5         3    0  29.752849   8.4583         1      1\n",
       "..      ...  ...        ...      ...       ...    ...\n",
       "885       3    1  39.000000  29.1250         1      0\n",
       "887       1    1  19.000000  30.0000         0      1\n",
       "888       3    1  29.752849  23.4500         0      0\n",
       "889       1    0  26.000000  30.0000         2      1\n",
       "890       3    0  32.000000   7.7500         1      1\n",
       "\n",
       "[654 rows x 6 columns]"
      ]
     },
     "execution_count": 80,
     "metadata": {},
     "output_type": "execute_result"
    }
   ],
   "source": [
    "x=df.drop(\"survived\", axis=1)\n",
    "x"
   ]
  },
  {
   "cell_type": "code",
   "execution_count": 81,
   "id": "49dc7933",
   "metadata": {
    "execution": {
     "iopub.execute_input": "2025-02-04T03:18:30.121056Z",
     "iopub.status.busy": "2025-02-04T03:18:30.120628Z",
     "iopub.status.idle": "2025-02-04T03:18:30.127136Z",
     "shell.execute_reply": "2025-02-04T03:18:30.126369Z"
    },
    "papermill": {
     "duration": 0.036305,
     "end_time": "2025-02-04T03:18:30.128757",
     "exception": false,
     "start_time": "2025-02-04T03:18:30.092452",
     "status": "completed"
    },
    "tags": []
   },
   "outputs": [],
   "source": [
    "x_train, x_test, y_train, y_test =  train_test_split(x, y , test_size=0.25, random_state=0)"
   ]
  },
  {
   "cell_type": "code",
   "execution_count": 82,
   "id": "ee2803d3",
   "metadata": {
    "execution": {
     "iopub.execute_input": "2025-02-04T03:18:30.184612Z",
     "iopub.status.busy": "2025-02-04T03:18:30.184287Z",
     "iopub.status.idle": "2025-02-04T03:18:30.187900Z",
     "shell.execute_reply": "2025-02-04T03:18:30.187091Z"
    },
    "papermill": {
     "duration": 0.033261,
     "end_time": "2025-02-04T03:18:30.189436",
     "exception": false,
     "start_time": "2025-02-04T03:18:30.156175",
     "status": "completed"
    },
    "tags": []
   },
   "outputs": [],
   "source": [
    "model =LogisticRegression()"
   ]
  },
  {
   "cell_type": "code",
   "execution_count": 83,
   "id": "636320fc",
   "metadata": {
    "execution": {
     "iopub.execute_input": "2025-02-04T03:18:30.247025Z",
     "iopub.status.busy": "2025-02-04T03:18:30.246598Z",
     "iopub.status.idle": "2025-02-04T03:18:30.269227Z",
     "shell.execute_reply": "2025-02-04T03:18:30.268274Z"
    },
    "papermill": {
     "duration": 0.053085,
     "end_time": "2025-02-04T03:18:30.270857",
     "exception": false,
     "start_time": "2025-02-04T03:18:30.217772",
     "status": "completed"
    },
    "tags": []
   },
   "outputs": [
    {
     "data": {
      "text/html": [
       "<style>#sk-container-id-2 {color: black;background-color: white;}#sk-container-id-2 pre{padding: 0;}#sk-container-id-2 div.sk-toggleable {background-color: white;}#sk-container-id-2 label.sk-toggleable__label {cursor: pointer;display: block;width: 100%;margin-bottom: 0;padding: 0.3em;box-sizing: border-box;text-align: center;}#sk-container-id-2 label.sk-toggleable__label-arrow:before {content: \"▸\";float: left;margin-right: 0.25em;color: #696969;}#sk-container-id-2 label.sk-toggleable__label-arrow:hover:before {color: black;}#sk-container-id-2 div.sk-estimator:hover label.sk-toggleable__label-arrow:before {color: black;}#sk-container-id-2 div.sk-toggleable__content {max-height: 0;max-width: 0;overflow: hidden;text-align: left;background-color: #f0f8ff;}#sk-container-id-2 div.sk-toggleable__content pre {margin: 0.2em;color: black;border-radius: 0.25em;background-color: #f0f8ff;}#sk-container-id-2 input.sk-toggleable__control:checked~div.sk-toggleable__content {max-height: 200px;max-width: 100%;overflow: auto;}#sk-container-id-2 input.sk-toggleable__control:checked~label.sk-toggleable__label-arrow:before {content: \"▾\";}#sk-container-id-2 div.sk-estimator input.sk-toggleable__control:checked~label.sk-toggleable__label {background-color: #d4ebff;}#sk-container-id-2 div.sk-label input.sk-toggleable__control:checked~label.sk-toggleable__label {background-color: #d4ebff;}#sk-container-id-2 input.sk-hidden--visually {border: 0;clip: rect(1px 1px 1px 1px);clip: rect(1px, 1px, 1px, 1px);height: 1px;margin: -1px;overflow: hidden;padding: 0;position: absolute;width: 1px;}#sk-container-id-2 div.sk-estimator {font-family: monospace;background-color: #f0f8ff;border: 1px dotted black;border-radius: 0.25em;box-sizing: border-box;margin-bottom: 0.5em;}#sk-container-id-2 div.sk-estimator:hover {background-color: #d4ebff;}#sk-container-id-2 div.sk-parallel-item::after {content: \"\";width: 100%;border-bottom: 1px solid gray;flex-grow: 1;}#sk-container-id-2 div.sk-label:hover label.sk-toggleable__label {background-color: #d4ebff;}#sk-container-id-2 div.sk-serial::before {content: \"\";position: absolute;border-left: 1px solid gray;box-sizing: border-box;top: 0;bottom: 0;left: 50%;z-index: 0;}#sk-container-id-2 div.sk-serial {display: flex;flex-direction: column;align-items: center;background-color: white;padding-right: 0.2em;padding-left: 0.2em;position: relative;}#sk-container-id-2 div.sk-item {position: relative;z-index: 1;}#sk-container-id-2 div.sk-parallel {display: flex;align-items: stretch;justify-content: center;background-color: white;position: relative;}#sk-container-id-2 div.sk-item::before, #sk-container-id-2 div.sk-parallel-item::before {content: \"\";position: absolute;border-left: 1px solid gray;box-sizing: border-box;top: 0;bottom: 0;left: 50%;z-index: -1;}#sk-container-id-2 div.sk-parallel-item {display: flex;flex-direction: column;z-index: 1;position: relative;background-color: white;}#sk-container-id-2 div.sk-parallel-item:first-child::after {align-self: flex-end;width: 50%;}#sk-container-id-2 div.sk-parallel-item:last-child::after {align-self: flex-start;width: 50%;}#sk-container-id-2 div.sk-parallel-item:only-child::after {width: 0;}#sk-container-id-2 div.sk-dashed-wrapped {border: 1px dashed gray;margin: 0 0.4em 0.5em 0.4em;box-sizing: border-box;padding-bottom: 0.4em;background-color: white;}#sk-container-id-2 div.sk-label label {font-family: monospace;font-weight: bold;display: inline-block;line-height: 1.2em;}#sk-container-id-2 div.sk-label-container {text-align: center;}#sk-container-id-2 div.sk-container {/* jupyter's `normalize.less` sets `[hidden] { display: none; }` but bootstrap.min.css set `[hidden] { display: none !important; }` so we also need the `!important` here to be able to override the default hidden behavior on the sphinx rendered scikit-learn.org. See: https://github.com/scikit-learn/scikit-learn/issues/21755 */display: inline-block !important;position: relative;}#sk-container-id-2 div.sk-text-repr-fallback {display: none;}</style><div id=\"sk-container-id-2\" class=\"sk-top-container\"><div class=\"sk-text-repr-fallback\"><pre>LogisticRegression()</pre><b>In a Jupyter environment, please rerun this cell to show the HTML representation or trust the notebook. <br />On GitHub, the HTML representation is unable to render, please try loading this page with nbviewer.org.</b></div><div class=\"sk-container\" hidden><div class=\"sk-item\"><div class=\"sk-estimator sk-toggleable\"><input class=\"sk-toggleable__control sk-hidden--visually\" id=\"sk-estimator-id-2\" type=\"checkbox\" checked><label for=\"sk-estimator-id-2\" class=\"sk-toggleable__label sk-toggleable__label-arrow\">LogisticRegression</label><div class=\"sk-toggleable__content\"><pre>LogisticRegression()</pre></div></div></div></div></div>"
      ],
      "text/plain": [
       "LogisticRegression()"
      ]
     },
     "execution_count": 83,
     "metadata": {},
     "output_type": "execute_result"
    }
   ],
   "source": [
    "model.fit(x_test,y_test)"
   ]
  },
  {
   "cell_type": "code",
   "execution_count": 84,
   "id": "0c90b619",
   "metadata": {
    "execution": {
     "iopub.execute_input": "2025-02-04T03:18:30.327271Z",
     "iopub.status.busy": "2025-02-04T03:18:30.326893Z",
     "iopub.status.idle": "2025-02-04T03:18:30.332605Z",
     "shell.execute_reply": "2025-02-04T03:18:30.331675Z"
    },
    "papermill": {
     "duration": 0.035496,
     "end_time": "2025-02-04T03:18:30.334048",
     "exception": false,
     "start_time": "2025-02-04T03:18:30.298552",
     "status": "completed"
    },
    "tags": []
   },
   "outputs": [],
   "source": [
    "y_pred = model.predict(x_test)"
   ]
  },
  {
   "cell_type": "code",
   "execution_count": 85,
   "id": "2b79cf4f",
   "metadata": {
    "execution": {
     "iopub.execute_input": "2025-02-04T03:18:30.390601Z",
     "iopub.status.busy": "2025-02-04T03:18:30.390249Z",
     "iopub.status.idle": "2025-02-04T03:18:30.394149Z",
     "shell.execute_reply": "2025-02-04T03:18:30.393220Z"
    },
    "papermill": {
     "duration": 0.033972,
     "end_time": "2025-02-04T03:18:30.395634",
     "exception": false,
     "start_time": "2025-02-04T03:18:30.361662",
     "status": "completed"
    },
    "tags": []
   },
   "outputs": [],
   "source": [
    "from sklearn.metrics import classification_report, confusion_matrix"
   ]
  },
  {
   "cell_type": "code",
   "execution_count": 86,
   "id": "1db16a81",
   "metadata": {
    "execution": {
     "iopub.execute_input": "2025-02-04T03:18:30.452208Z",
     "iopub.status.busy": "2025-02-04T03:18:30.451856Z",
     "iopub.status.idle": "2025-02-04T03:18:30.458735Z",
     "shell.execute_reply": "2025-02-04T03:18:30.457913Z"
    },
    "papermill": {
     "duration": 0.036977,
     "end_time": "2025-02-04T03:18:30.460268",
     "exception": false,
     "start_time": "2025-02-04T03:18:30.423291",
     "status": "completed"
    },
    "tags": []
   },
   "outputs": [
    {
     "data": {
      "text/plain": [
       "0.823170731707317"
      ]
     },
     "execution_count": 86,
     "metadata": {},
     "output_type": "execute_result"
    }
   ],
   "source": [
    "from sklearn.metrics import accuracy_score\n",
    "accuracy_score(y_test, y_pred)"
   ]
  },
  {
   "cell_type": "code",
   "execution_count": 87,
   "id": "8085da4b",
   "metadata": {
    "execution": {
     "iopub.execute_input": "2025-02-04T03:18:30.518429Z",
     "iopub.status.busy": "2025-02-04T03:18:30.518072Z",
     "iopub.status.idle": "2025-02-04T03:18:30.529396Z",
     "shell.execute_reply": "2025-02-04T03:18:30.528363Z"
    },
    "papermill": {
     "duration": 0.041209,
     "end_time": "2025-02-04T03:18:30.530850",
     "exception": false,
     "start_time": "2025-02-04T03:18:30.489641",
     "status": "completed"
    },
    "tags": []
   },
   "outputs": [
    {
     "name": "stdout",
     "output_type": "stream",
     "text": [
      "              precision    recall  f1-score   support\n",
      "\n",
      "           0       0.86      0.85      0.85        99\n",
      "           1       0.77      0.78      0.78        65\n",
      "\n",
      "    accuracy                           0.82       164\n",
      "   macro avg       0.81      0.82      0.82       164\n",
      "weighted avg       0.82      0.82      0.82       164\n",
      "\n"
     ]
    }
   ],
   "source": [
    "print(classification_report(y_test, y_pred))"
   ]
  },
  {
   "cell_type": "markdown",
   "id": "3f184199",
   "metadata": {
    "papermill": {
     "duration": 0.027344,
     "end_time": "2025-02-04T03:18:30.586164",
     "exception": false,
     "start_time": "2025-02-04T03:18:30.558820",
     "status": "completed"
    },
    "tags": []
   },
   "source": [
    "#### polynomial regression"
   ]
  },
  {
   "cell_type": "code",
   "execution_count": 88,
   "id": "d1836da4",
   "metadata": {
    "execution": {
     "iopub.execute_input": "2025-02-04T03:18:30.642871Z",
     "iopub.status.busy": "2025-02-04T03:18:30.642484Z",
     "iopub.status.idle": "2025-02-04T03:18:30.646381Z",
     "shell.execute_reply": "2025-02-04T03:18:30.645561Z"
    },
    "papermill": {
     "duration": 0.033961,
     "end_time": "2025-02-04T03:18:30.647846",
     "exception": false,
     "start_time": "2025-02-04T03:18:30.613885",
     "status": "completed"
    },
    "tags": []
   },
   "outputs": [],
   "source": [
    "from sklearn.preprocessing import PolynomialFeatures"
   ]
  },
  {
   "cell_type": "code",
   "execution_count": 89,
   "id": "bb4337d4",
   "metadata": {
    "execution": {
     "iopub.execute_input": "2025-02-04T03:18:30.705075Z",
     "iopub.status.busy": "2025-02-04T03:18:30.704680Z",
     "iopub.status.idle": "2025-02-04T03:18:30.708504Z",
     "shell.execute_reply": "2025-02-04T03:18:30.707636Z"
    },
    "papermill": {
     "duration": 0.034017,
     "end_time": "2025-02-04T03:18:30.709908",
     "exception": false,
     "start_time": "2025-02-04T03:18:30.675891",
     "status": "completed"
    },
    "tags": []
   },
   "outputs": [],
   "source": [
    "plr = PolynomialFeatures()"
   ]
  },
  {
   "cell_type": "code",
   "execution_count": 90,
   "id": "e3da1af5",
   "metadata": {
    "execution": {
     "iopub.execute_input": "2025-02-04T03:18:30.767892Z",
     "iopub.status.busy": "2025-02-04T03:18:30.767504Z",
     "iopub.status.idle": "2025-02-04T03:18:30.774746Z",
     "shell.execute_reply": "2025-02-04T03:18:30.773984Z"
    },
    "papermill": {
     "duration": 0.037724,
     "end_time": "2025-02-04T03:18:30.776185",
     "exception": false,
     "start_time": "2025-02-04T03:18:30.738461",
     "status": "completed"
    },
    "tags": []
   },
   "outputs": [],
   "source": [
    "x_trainp = plr.fit_transform(x_train)\n"
   ]
  },
  {
   "cell_type": "code",
   "execution_count": 91,
   "id": "5610afbe",
   "metadata": {
    "execution": {
     "iopub.execute_input": "2025-02-04T03:18:30.833179Z",
     "iopub.status.busy": "2025-02-04T03:18:30.832754Z",
     "iopub.status.idle": "2025-02-04T03:18:30.840192Z",
     "shell.execute_reply": "2025-02-04T03:18:30.839276Z"
    },
    "papermill": {
     "duration": 0.037687,
     "end_time": "2025-02-04T03:18:30.841881",
     "exception": false,
     "start_time": "2025-02-04T03:18:30.804194",
     "status": "completed"
    },
    "tags": []
   },
   "outputs": [],
   "source": [
    "x_testp = plr.fit_transform(x_test)"
   ]
  },
  {
   "cell_type": "code",
   "execution_count": 92,
   "id": "5519df90",
   "metadata": {
    "execution": {
     "iopub.execute_input": "2025-02-04T03:18:30.900774Z",
     "iopub.status.busy": "2025-02-04T03:18:30.900415Z",
     "iopub.status.idle": "2025-02-04T03:18:30.904199Z",
     "shell.execute_reply": "2025-02-04T03:18:30.903309Z"
    },
    "papermill": {
     "duration": 0.034884,
     "end_time": "2025-02-04T03:18:30.905671",
     "exception": false,
     "start_time": "2025-02-04T03:18:30.870787",
     "status": "completed"
    },
    "tags": []
   },
   "outputs": [],
   "source": [
    "model = LinearRegression()"
   ]
  },
  {
   "cell_type": "code",
   "execution_count": 93,
   "id": "b601ad7d",
   "metadata": {
    "execution": {
     "iopub.execute_input": "2025-02-04T03:18:30.962228Z",
     "iopub.status.busy": "2025-02-04T03:18:30.961874Z",
     "iopub.status.idle": "2025-02-04T03:18:30.987123Z",
     "shell.execute_reply": "2025-02-04T03:18:30.986199Z"
    },
    "papermill": {
     "duration": 0.055346,
     "end_time": "2025-02-04T03:18:30.988754",
     "exception": false,
     "start_time": "2025-02-04T03:18:30.933408",
     "status": "completed"
    },
    "tags": []
   },
   "outputs": [
    {
     "data": {
      "text/html": [
       "<style>#sk-container-id-3 {color: black;background-color: white;}#sk-container-id-3 pre{padding: 0;}#sk-container-id-3 div.sk-toggleable {background-color: white;}#sk-container-id-3 label.sk-toggleable__label {cursor: pointer;display: block;width: 100%;margin-bottom: 0;padding: 0.3em;box-sizing: border-box;text-align: center;}#sk-container-id-3 label.sk-toggleable__label-arrow:before {content: \"▸\";float: left;margin-right: 0.25em;color: #696969;}#sk-container-id-3 label.sk-toggleable__label-arrow:hover:before {color: black;}#sk-container-id-3 div.sk-estimator:hover label.sk-toggleable__label-arrow:before {color: black;}#sk-container-id-3 div.sk-toggleable__content {max-height: 0;max-width: 0;overflow: hidden;text-align: left;background-color: #f0f8ff;}#sk-container-id-3 div.sk-toggleable__content pre {margin: 0.2em;color: black;border-radius: 0.25em;background-color: #f0f8ff;}#sk-container-id-3 input.sk-toggleable__control:checked~div.sk-toggleable__content {max-height: 200px;max-width: 100%;overflow: auto;}#sk-container-id-3 input.sk-toggleable__control:checked~label.sk-toggleable__label-arrow:before {content: \"▾\";}#sk-container-id-3 div.sk-estimator input.sk-toggleable__control:checked~label.sk-toggleable__label {background-color: #d4ebff;}#sk-container-id-3 div.sk-label input.sk-toggleable__control:checked~label.sk-toggleable__label {background-color: #d4ebff;}#sk-container-id-3 input.sk-hidden--visually {border: 0;clip: rect(1px 1px 1px 1px);clip: rect(1px, 1px, 1px, 1px);height: 1px;margin: -1px;overflow: hidden;padding: 0;position: absolute;width: 1px;}#sk-container-id-3 div.sk-estimator {font-family: monospace;background-color: #f0f8ff;border: 1px dotted black;border-radius: 0.25em;box-sizing: border-box;margin-bottom: 0.5em;}#sk-container-id-3 div.sk-estimator:hover {background-color: #d4ebff;}#sk-container-id-3 div.sk-parallel-item::after {content: \"\";width: 100%;border-bottom: 1px solid gray;flex-grow: 1;}#sk-container-id-3 div.sk-label:hover label.sk-toggleable__label {background-color: #d4ebff;}#sk-container-id-3 div.sk-serial::before {content: \"\";position: absolute;border-left: 1px solid gray;box-sizing: border-box;top: 0;bottom: 0;left: 50%;z-index: 0;}#sk-container-id-3 div.sk-serial {display: flex;flex-direction: column;align-items: center;background-color: white;padding-right: 0.2em;padding-left: 0.2em;position: relative;}#sk-container-id-3 div.sk-item {position: relative;z-index: 1;}#sk-container-id-3 div.sk-parallel {display: flex;align-items: stretch;justify-content: center;background-color: white;position: relative;}#sk-container-id-3 div.sk-item::before, #sk-container-id-3 div.sk-parallel-item::before {content: \"\";position: absolute;border-left: 1px solid gray;box-sizing: border-box;top: 0;bottom: 0;left: 50%;z-index: -1;}#sk-container-id-3 div.sk-parallel-item {display: flex;flex-direction: column;z-index: 1;position: relative;background-color: white;}#sk-container-id-3 div.sk-parallel-item:first-child::after {align-self: flex-end;width: 50%;}#sk-container-id-3 div.sk-parallel-item:last-child::after {align-self: flex-start;width: 50%;}#sk-container-id-3 div.sk-parallel-item:only-child::after {width: 0;}#sk-container-id-3 div.sk-dashed-wrapped {border: 1px dashed gray;margin: 0 0.4em 0.5em 0.4em;box-sizing: border-box;padding-bottom: 0.4em;background-color: white;}#sk-container-id-3 div.sk-label label {font-family: monospace;font-weight: bold;display: inline-block;line-height: 1.2em;}#sk-container-id-3 div.sk-label-container {text-align: center;}#sk-container-id-3 div.sk-container {/* jupyter's `normalize.less` sets `[hidden] { display: none; }` but bootstrap.min.css set `[hidden] { display: none !important; }` so we also need the `!important` here to be able to override the default hidden behavior on the sphinx rendered scikit-learn.org. See: https://github.com/scikit-learn/scikit-learn/issues/21755 */display: inline-block !important;position: relative;}#sk-container-id-3 div.sk-text-repr-fallback {display: none;}</style><div id=\"sk-container-id-3\" class=\"sk-top-container\"><div class=\"sk-text-repr-fallback\"><pre>LinearRegression()</pre><b>In a Jupyter environment, please rerun this cell to show the HTML representation or trust the notebook. <br />On GitHub, the HTML representation is unable to render, please try loading this page with nbviewer.org.</b></div><div class=\"sk-container\" hidden><div class=\"sk-item\"><div class=\"sk-estimator sk-toggleable\"><input class=\"sk-toggleable__control sk-hidden--visually\" id=\"sk-estimator-id-3\" type=\"checkbox\" checked><label for=\"sk-estimator-id-3\" class=\"sk-toggleable__label sk-toggleable__label-arrow\">LinearRegression</label><div class=\"sk-toggleable__content\"><pre>LinearRegression()</pre></div></div></div></div></div>"
      ],
      "text/plain": [
       "LinearRegression()"
      ]
     },
     "execution_count": 93,
     "metadata": {},
     "output_type": "execute_result"
    }
   ],
   "source": [
    "model.fit(x_trainp, y_train)"
   ]
  },
  {
   "cell_type": "code",
   "execution_count": 94,
   "id": "be4478a3",
   "metadata": {
    "execution": {
     "iopub.execute_input": "2025-02-04T03:18:31.047162Z",
     "iopub.status.busy": "2025-02-04T03:18:31.046776Z",
     "iopub.status.idle": "2025-02-04T03:18:31.050764Z",
     "shell.execute_reply": "2025-02-04T03:18:31.049922Z"
    },
    "papermill": {
     "duration": 0.035026,
     "end_time": "2025-02-04T03:18:31.052421",
     "exception": false,
     "start_time": "2025-02-04T03:18:31.017395",
     "status": "completed"
    },
    "tags": []
   },
   "outputs": [],
   "source": [
    "y_pred = model.predict(x_testp)"
   ]
  },
  {
   "cell_type": "code",
   "execution_count": 95,
   "id": "98257c6c",
   "metadata": {
    "execution": {
     "iopub.execute_input": "2025-02-04T03:18:31.110717Z",
     "iopub.status.busy": "2025-02-04T03:18:31.110391Z",
     "iopub.status.idle": "2025-02-04T03:18:31.118231Z",
     "shell.execute_reply": "2025-02-04T03:18:31.117265Z"
    },
    "papermill": {
     "duration": 0.038898,
     "end_time": "2025-02-04T03:18:31.119983",
     "exception": false,
     "start_time": "2025-02-04T03:18:31.081085",
     "status": "completed"
    },
    "tags": []
   },
   "outputs": [
    {
     "name": "stdout",
     "output_type": "stream",
     "text": [
      "mean square error: 0.15376896140862056\n",
      "mean absolute error: 0.3128389884956371\n",
      "r2 score: -1.0159135362243736\n"
     ]
    }
   ],
   "source": [
    "print('mean square error:', mean_squared_error(y_pred, y_test))\n",
    "print('mean absolute error:', mean_absolute_error(y_pred, y_test))\n",
    "print('r2 score:', r2_score(y_pred, y_test))"
   ]
  },
  {
   "cell_type": "markdown",
   "id": "a24bb94f",
   "metadata": {
    "papermill": {
     "duration": 0.027808,
     "end_time": "2025-02-04T03:18:31.176746",
     "exception": false,
     "start_time": "2025-02-04T03:18:31.148938",
     "status": "completed"
    },
    "tags": []
   },
   "source": [
    "#### SVC"
   ]
  },
  {
   "cell_type": "code",
   "execution_count": 96,
   "id": "20459b09",
   "metadata": {
    "execution": {
     "iopub.execute_input": "2025-02-04T03:18:31.235181Z",
     "iopub.status.busy": "2025-02-04T03:18:31.234755Z",
     "iopub.status.idle": "2025-02-04T03:18:31.238771Z",
     "shell.execute_reply": "2025-02-04T03:18:31.237823Z"
    },
    "papermill": {
     "duration": 0.035273,
     "end_time": "2025-02-04T03:18:31.240454",
     "exception": false,
     "start_time": "2025-02-04T03:18:31.205181",
     "status": "completed"
    },
    "tags": []
   },
   "outputs": [],
   "source": [
    "from sklearn.svm import SVC"
   ]
  },
  {
   "cell_type": "code",
   "execution_count": 97,
   "id": "006e30fd",
   "metadata": {
    "execution": {
     "iopub.execute_input": "2025-02-04T03:18:31.298437Z",
     "iopub.status.busy": "2025-02-04T03:18:31.298083Z",
     "iopub.status.idle": "2025-02-04T03:18:31.302152Z",
     "shell.execute_reply": "2025-02-04T03:18:31.301190Z"
    },
    "papermill": {
     "duration": 0.034607,
     "end_time": "2025-02-04T03:18:31.303574",
     "exception": false,
     "start_time": "2025-02-04T03:18:31.268967",
     "status": "completed"
    },
    "tags": []
   },
   "outputs": [],
   "source": [
    "model = SVC(kernel=\"linear\")"
   ]
  },
  {
   "cell_type": "code",
   "execution_count": 98,
   "id": "562e26c5",
   "metadata": {
    "execution": {
     "iopub.execute_input": "2025-02-04T03:18:31.361103Z",
     "iopub.status.busy": "2025-02-04T03:18:31.360701Z",
     "iopub.status.idle": "2025-02-04T03:18:35.824447Z",
     "shell.execute_reply": "2025-02-04T03:18:35.823250Z"
    },
    "papermill": {
     "duration": 4.494413,
     "end_time": "2025-02-04T03:18:35.826090",
     "exception": false,
     "start_time": "2025-02-04T03:18:31.331677",
     "status": "completed"
    },
    "tags": []
   },
   "outputs": [
    {
     "name": "stdout",
     "output_type": "stream",
     "text": [
      "              precision    recall  f1-score   support\n",
      "\n",
      "           0       0.79      0.86      0.83        99\n",
      "           1       0.75      0.66      0.70        65\n",
      "\n",
      "    accuracy                           0.78       164\n",
      "   macro avg       0.77      0.76      0.77       164\n",
      "weighted avg       0.78      0.78      0.78       164\n",
      "\n"
     ]
    }
   ],
   "source": [
    "model.fit(x_train, y_train)\n",
    "y_pred = model.predict(x_test)\n",
    "print(classification_report(y_test, y_pred))"
   ]
  },
  {
   "cell_type": "code",
   "execution_count": 99,
   "id": "39cc1533",
   "metadata": {
    "execution": {
     "iopub.execute_input": "2025-02-04T03:18:35.884885Z",
     "iopub.status.busy": "2025-02-04T03:18:35.884508Z",
     "iopub.status.idle": "2025-02-04T03:18:35.891892Z",
     "shell.execute_reply": "2025-02-04T03:18:35.890920Z"
    },
    "papermill": {
     "duration": 0.038899,
     "end_time": "2025-02-04T03:18:35.893611",
     "exception": false,
     "start_time": "2025-02-04T03:18:35.854712",
     "status": "completed"
    },
    "tags": []
   },
   "outputs": [],
   "source": [
    "y_pred = model.predict(x_test)"
   ]
  },
  {
   "cell_type": "code",
   "execution_count": 100,
   "id": "12ee8282",
   "metadata": {
    "execution": {
     "iopub.execute_input": "2025-02-04T03:18:35.953307Z",
     "iopub.status.busy": "2025-02-04T03:18:35.952971Z",
     "iopub.status.idle": "2025-02-04T03:18:35.956942Z",
     "shell.execute_reply": "2025-02-04T03:18:35.955981Z"
    },
    "papermill": {
     "duration": 0.03511,
     "end_time": "2025-02-04T03:18:35.958488",
     "exception": false,
     "start_time": "2025-02-04T03:18:35.923378",
     "status": "completed"
    },
    "tags": []
   },
   "outputs": [],
   "source": [
    "from sklearn.metrics import classification_report"
   ]
  },
  {
   "cell_type": "code",
   "execution_count": 101,
   "id": "5cd25653",
   "metadata": {
    "execution": {
     "iopub.execute_input": "2025-02-04T03:18:36.017305Z",
     "iopub.status.busy": "2025-02-04T03:18:36.016939Z",
     "iopub.status.idle": "2025-02-04T03:18:36.028974Z",
     "shell.execute_reply": "2025-02-04T03:18:36.027919Z"
    },
    "papermill": {
     "duration": 0.043205,
     "end_time": "2025-02-04T03:18:36.030456",
     "exception": false,
     "start_time": "2025-02-04T03:18:35.987251",
     "status": "completed"
    },
    "tags": []
   },
   "outputs": [
    {
     "name": "stdout",
     "output_type": "stream",
     "text": [
      "              precision    recall  f1-score   support\n",
      "\n",
      "           0       0.79      0.86      0.83        99\n",
      "           1       0.75      0.66      0.70        65\n",
      "\n",
      "    accuracy                           0.78       164\n",
      "   macro avg       0.77      0.76      0.77       164\n",
      "weighted avg       0.78      0.78      0.78       164\n",
      "\n"
     ]
    }
   ],
   "source": [
    "print(classification_report(y_test, y_pred))"
   ]
  },
  {
   "cell_type": "markdown",
   "id": "fd5088b6",
   "metadata": {
    "papermill": {
     "duration": 0.028058,
     "end_time": "2025-02-04T03:18:36.087139",
     "exception": false,
     "start_time": "2025-02-04T03:18:36.059081",
     "status": "completed"
    },
    "tags": []
   },
   "source": [
    "#### Desicion Tree Classifier"
   ]
  },
  {
   "cell_type": "code",
   "execution_count": 102,
   "id": "969ee9e6",
   "metadata": {
    "execution": {
     "iopub.execute_input": "2025-02-04T03:18:36.145226Z",
     "iopub.status.busy": "2025-02-04T03:18:36.144860Z",
     "iopub.status.idle": "2025-02-04T03:18:36.297954Z",
     "shell.execute_reply": "2025-02-04T03:18:36.297123Z"
    },
    "papermill": {
     "duration": 0.184044,
     "end_time": "2025-02-04T03:18:36.299736",
     "exception": false,
     "start_time": "2025-02-04T03:18:36.115692",
     "status": "completed"
    },
    "tags": []
   },
   "outputs": [],
   "source": [
    "from sklearn.tree import DecisionTreeClassifier"
   ]
  },
  {
   "cell_type": "code",
   "execution_count": 103,
   "id": "71daaa81",
   "metadata": {
    "execution": {
     "iopub.execute_input": "2025-02-04T03:18:36.358575Z",
     "iopub.status.busy": "2025-02-04T03:18:36.358243Z",
     "iopub.status.idle": "2025-02-04T03:18:36.362125Z",
     "shell.execute_reply": "2025-02-04T03:18:36.361192Z"
    },
    "papermill": {
     "duration": 0.035209,
     "end_time": "2025-02-04T03:18:36.363695",
     "exception": false,
     "start_time": "2025-02-04T03:18:36.328486",
     "status": "completed"
    },
    "tags": []
   },
   "outputs": [],
   "source": [
    "model = DecisionTreeClassifier(criterion=\"entropy\") #gini"
   ]
  },
  {
   "cell_type": "code",
   "execution_count": 104,
   "id": "59303562",
   "metadata": {
    "execution": {
     "iopub.execute_input": "2025-02-04T03:18:36.421954Z",
     "iopub.status.busy": "2025-02-04T03:18:36.421512Z",
     "iopub.status.idle": "2025-02-04T03:18:36.442453Z",
     "shell.execute_reply": "2025-02-04T03:18:36.441225Z"
    },
    "papermill": {
     "duration": 0.051827,
     "end_time": "2025-02-04T03:18:36.444224",
     "exception": false,
     "start_time": "2025-02-04T03:18:36.392397",
     "status": "completed"
    },
    "tags": []
   },
   "outputs": [
    {
     "name": "stdout",
     "output_type": "stream",
     "text": [
      "              precision    recall  f1-score   support\n",
      "\n",
      "           0       0.70      0.76      0.73        99\n",
      "           1       0.58      0.51      0.54        65\n",
      "\n",
      "    accuracy                           0.66       164\n",
      "   macro avg       0.64      0.63      0.63       164\n",
      "weighted avg       0.65      0.66      0.65       164\n",
      "\n",
      "[[75 24]\n",
      " [32 33]]\n"
     ]
    }
   ],
   "source": [
    "model.fit(x_train, y_train)\n",
    "y_pred = model.predict(x_test)\n",
    "print(classification_report(y_test, y_pred))\n",
    "cm= confusion_matrix(y_test, y_pred)\n",
    "print(cm)"
   ]
  },
  {
   "cell_type": "code",
   "execution_count": 105,
   "id": "3b8101e8",
   "metadata": {
    "execution": {
     "iopub.execute_input": "2025-02-04T03:18:36.506262Z",
     "iopub.status.busy": "2025-02-04T03:18:36.505912Z",
     "iopub.status.idle": "2025-02-04T03:18:36.509402Z",
     "shell.execute_reply": "2025-02-04T03:18:36.508607Z"
    },
    "papermill": {
     "duration": 0.03541,
     "end_time": "2025-02-04T03:18:36.510698",
     "exception": false,
     "start_time": "2025-02-04T03:18:36.475288",
     "status": "completed"
    },
    "tags": []
   },
   "outputs": [],
   "source": [
    "\n",
    "# convert labels into binary values\n",
    "\n",
    "# y[y == 2] = 0\n",
    "\n",
    "# y[y == 1] = 1"
   ]
  },
  {
   "cell_type": "markdown",
   "id": "03a93024",
   "metadata": {
    "papermill": {
     "duration": 0.034309,
     "end_time": "2025-02-04T03:18:36.573577",
     "exception": false,
     "start_time": "2025-02-04T03:18:36.539268",
     "status": "completed"
    },
    "tags": []
   },
   "source": [
    "#### XGBoost Classifier"
   ]
  },
  {
   "cell_type": "code",
   "execution_count": 106,
   "id": "b526e450",
   "metadata": {
    "execution": {
     "iopub.execute_input": "2025-02-04T03:18:36.646432Z",
     "iopub.status.busy": "2025-02-04T03:18:36.646086Z",
     "iopub.status.idle": "2025-02-04T03:18:36.900546Z",
     "shell.execute_reply": "2025-02-04T03:18:36.899749Z"
    },
    "papermill": {
     "duration": 0.292189,
     "end_time": "2025-02-04T03:18:36.902625",
     "exception": false,
     "start_time": "2025-02-04T03:18:36.610436",
     "status": "completed"
    },
    "tags": []
   },
   "outputs": [],
   "source": [
    "import xgboost as xgb\n",
    "data_dmatrix = xgb.DMatrix(data=x,label=y)"
   ]
  },
  {
   "cell_type": "code",
   "execution_count": 107,
   "id": "c2a59599",
   "metadata": {
    "execution": {
     "iopub.execute_input": "2025-02-04T03:18:36.962186Z",
     "iopub.status.busy": "2025-02-04T03:18:36.961856Z",
     "iopub.status.idle": "2025-02-04T03:18:36.965432Z",
     "shell.execute_reply": "2025-02-04T03:18:36.964660Z"
    },
    "papermill": {
     "duration": 0.034271,
     "end_time": "2025-02-04T03:18:36.966844",
     "exception": false,
     "start_time": "2025-02-04T03:18:36.932573",
     "status": "completed"
    },
    "tags": []
   },
   "outputs": [],
   "source": [
    "from xgboost import XGBClassifier"
   ]
  },
  {
   "cell_type": "code",
   "execution_count": 108,
   "id": "be8b575a",
   "metadata": {
    "execution": {
     "iopub.execute_input": "2025-02-04T03:18:37.024608Z",
     "iopub.status.busy": "2025-02-04T03:18:37.024282Z",
     "iopub.status.idle": "2025-02-04T03:18:37.027997Z",
     "shell.execute_reply": "2025-02-04T03:18:37.027137Z"
    },
    "papermill": {
     "duration": 0.0345,
     "end_time": "2025-02-04T03:18:37.029633",
     "exception": false,
     "start_time": "2025-02-04T03:18:36.995133",
     "status": "completed"
    },
    "tags": []
   },
   "outputs": [],
   "source": [
    "model = XGBClassifier()"
   ]
  },
  {
   "cell_type": "code",
   "execution_count": 109,
   "id": "97fa8e60",
   "metadata": {
    "execution": {
     "iopub.execute_input": "2025-02-04T03:18:37.090018Z",
     "iopub.status.busy": "2025-02-04T03:18:37.089624Z",
     "iopub.status.idle": "2025-02-04T03:18:37.180137Z",
     "shell.execute_reply": "2025-02-04T03:18:37.179141Z"
    },
    "papermill": {
     "duration": 0.12169,
     "end_time": "2025-02-04T03:18:37.181516",
     "exception": false,
     "start_time": "2025-02-04T03:18:37.059826",
     "status": "completed"
    },
    "tags": []
   },
   "outputs": [
    {
     "name": "stdout",
     "output_type": "stream",
     "text": [
      "              precision    recall  f1-score   support\n",
      "\n",
      "           0       0.76      0.85      0.80        99\n",
      "           1       0.72      0.58      0.64        65\n",
      "\n",
      "    accuracy                           0.74       164\n",
      "   macro avg       0.74      0.72      0.72       164\n",
      "weighted avg       0.74      0.74      0.74       164\n",
      "\n",
      "[[84 15]\n",
      " [27 38]]\n"
     ]
    }
   ],
   "source": [
    "model.fit(x_train, y_train)\n",
    "y_pred = model.predict(x_test)\n",
    "print(classification_report(y_test, y_pred))\n",
    "cm= confusion_matrix(y_test, y_pred)\n",
    "print(cm)"
   ]
  },
  {
   "cell_type": "code",
   "execution_count": 110,
   "id": "2822b143",
   "metadata": {
    "execution": {
     "iopub.execute_input": "2025-02-04T03:18:37.239363Z",
     "iopub.status.busy": "2025-02-04T03:18:37.238990Z",
     "iopub.status.idle": "2025-02-04T03:18:37.245881Z",
     "shell.execute_reply": "2025-02-04T03:18:37.245080Z"
    },
    "papermill": {
     "duration": 0.037205,
     "end_time": "2025-02-04T03:18:37.247289",
     "exception": false,
     "start_time": "2025-02-04T03:18:37.210084",
     "status": "completed"
    },
    "tags": []
   },
   "outputs": [
    {
     "data": {
      "text/plain": [
       "0.7439024390243902"
      ]
     },
     "execution_count": 110,
     "metadata": {},
     "output_type": "execute_result"
    }
   ],
   "source": [
    "accuracy_score(y_test, y_pred)"
   ]
  },
  {
   "cell_type": "markdown",
   "id": "afec8fc0",
   "metadata": {
    "papermill": {
     "duration": 0.028873,
     "end_time": "2025-02-04T03:18:37.305035",
     "exception": false,
     "start_time": "2025-02-04T03:18:37.276162",
     "status": "completed"
    },
    "tags": []
   },
   "source": [
    "best accuracy Logistic Regression"
   ]
  }
 ],
 "metadata": {
  "kaggle": {
   "accelerator": "none",
   "dataSources": [],
   "dockerImageVersionId": 30839,
   "isGpuEnabled": false,
   "isInternetEnabled": true,
   "language": "python",
   "sourceType": "notebook"
  },
  "kernelspec": {
   "display_name": "Python 3",
   "language": "python",
   "name": "python3"
  },
  "language_info": {
   "codemirror_mode": {
    "name": "ipython",
    "version": 3
   },
   "file_extension": ".py",
   "mimetype": "text/x-python",
   "name": "python",
   "nbconvert_exporter": "python",
   "pygments_lexer": "ipython3",
   "version": "3.10.12"
  },
  "papermill": {
   "default_parameters": {},
   "duration": 20.748776,
   "end_time": "2025-02-04T03:18:38.054337",
   "environment_variables": {},
   "exception": null,
   "input_path": "__notebook__.ipynb",
   "output_path": "__notebook__.ipynb",
   "parameters": {},
   "start_time": "2025-02-04T03:18:17.305561",
   "version": "2.6.0"
  }
 },
 "nbformat": 4,
 "nbformat_minor": 5
}
